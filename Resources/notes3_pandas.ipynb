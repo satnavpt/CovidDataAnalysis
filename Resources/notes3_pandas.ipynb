{
 "cells": [
  {
   "cell_type": "markdown",
   "metadata": {},
   "source": [
    "# Handling data with pandas\n",
    "\n",
    "Pandas is a rich expressive library for analyzing data. Plus it comes with a vast set of utilities. Once you're familiar with what pandas has to offer, you'll be able to do all sorts of data handling tasks by stringing together the right pandas commands.\n",
    "\n",
    "\n",
    "#### Contents\n",
    "* [1. Preamble](#1.-Preamble)\n",
    "* [2. What data looks like](#2.-What-data-looks-like)\n",
    "  * [2.1 MISSING VALUES](#2.1-MISSING-VALUES)\n",
    "* [3. Importing, exporting, and creating dataframes](#3.-Importing,-exporting,-and-creating-dataframes)\n",
    "* [4. Selecting and modifying data](#4.-Selecting-and-modifying-data)\n",
    "  * [4.1 LIKE A DICTIONARY](#4.1-LIKE-A-DICTIONARY)\n",
    "  * [4.2 LIKE A DATABASE TABLE](#4.2-LIKE-A-DATABASE-TABLE)\n",
    "  * [4.3 LIKE AN ARRAY](#4.3-LIKE-AN-ARRAY)\n",
    "* [5. Tabulations and indexed arrays](#5.-Tabulations-and-indexed-arrays)\n",
    "  * [5.1 DATAFRAME → INDEXED ARRAY](#5.1-DATAFRAME-→-INDEXED-ARRAY)\n",
    "  * [5.2 INDEXED ARRAY → DATAFRAME](#5.2-INDEXED-ARRAY-→-DATAFRAME)\n",
    "* [6. Merging dataframes](#6.-Merging-dataframes)\n",
    "  * [6.1 WITH DATABASE-STYLE JOINS](#6.1-WITH-DATABASE-STYLE-JOINS)\n",
    "  * [6.2 WITH PANDAS INDEXING](#6.2-WITH-PANDAS-INDEXING)"
   ]
  },
  {
   "cell_type": "code",
   "execution_count": 1,
   "metadata": {},
   "outputs": [
    {
     "data": {
      "image/jpeg": "[encoded data removed]",
      "text/html": [
       "\n",
       "        <iframe\n",
       "            width=\"560\"\n",
       "            height=\"315\"\n",
       "            src=\"https://www.youtube.com/embed/hKOkdgv6RkI\"\n",
       "            frameborder=\"0\"\n",
       "            allowfullscreen\n",
       "        ></iframe>\n",
       "        "
      ],
      "text/plain": [
       "<IPython.lib.display.YouTubeVideo at 0x7f2ce4ee0460>"
      ]
     },
     "execution_count": 1,
     "metadata": {},
     "output_type": "execute_result"
    }
   ],
   "source": [
    "from IPython.display import YouTubeVideo\n",
    "YouTubeVideo('hKOkdgv6RkI', width=560, height=315)"
   ]
  },
  {
   "cell_type": "markdown",
   "metadata": {},
   "source": [
    "## 1. Preamble\n",
    "\n",
    "At the top of almost every piece of data handling work, we’ll import these standard modules."
   ]
  },
  {
   "cell_type": "code",
   "execution_count": null,
   "metadata": {},
   "outputs": [],
   "source": [
    "import numpy as np\n",
    "import pandas\n",
    "import matplotlib.pyplot as plt"
   ]
  },
  {
   "cell_type": "markdown",
   "metadata": {},
   "source": [
    "The running example for this section is a dataset of stop-and-search records, [made available by the\n",
    "UK home office](https://data.police.uk/data/). As it’s a moderate-sized file (172MB) I like to download it to disk, so it’s fast to\n",
    "reread it each time I restart the notebook. Here’s how we can fetch a file from a url, using the Unix\n",
    "command-line tool `wget`. (The exclamation mark `!wget` in the code below is called a [Jupyter magic](http://ipython.readthedocs.io/en/stable/interactive/magics.html), and it means “Treat this\n",
    "line as though it were executed at the command prompt”. In IB Unix Tools you’ll learn more about\n",
    "the Unix command line.)"
   ]
  },
  {
   "cell_type": "code",
   "execution_count": null,
   "metadata": {},
   "outputs": [],
   "source": [
    "# Execute a unix command to download a file (if it’s not already\n",
    "# downloaded), and show download progress\n",
    "import os.path\n",
    "if os.path.exists('stop-and-search.csv'):\n",
    "    print(\"file already downloaded\")\n",
    "else:\n",
    "    !wget \"https://www.cl.cam.ac.uk/teaching/2021/DataSci/data/stop-and-search.csv\""
   ]
  },
  {
   "cell_type": "markdown",
   "metadata": {},
   "source": [
    "## 2. What data looks like"
   ]
  },
  {
   "cell_type": "markdown",
   "metadata": {},
   "source": [
    "We almost always work with data in the form of a spreadsheet-like table, referred to as a _dataframe_.\n",
    "A dataframe is a collection of named columns. Each column has the same length, and all entries in a\n",
    "column have the same type, though different columns may have different types. Pandas uses numpy\n",
    "to store columns, so it’s reasonably fast.\n",
    "\n",
    "Here’s how to load a dataframe from a file using `pandas.read_csv`, and how to inspect it. (This\n",
    "dataframe will be used as a running example in the rest of this notebook.) The Pandas library is full of\n",
    "handy utilities like $\\textsf{read_csv}$."
   ]
  },
  {
   "cell_type": "code",
   "execution_count": null,
   "metadata": {},
   "outputs": [],
   "source": [
    "# Import a dataframe using the pandas library\n",
    "stopsearch = pandas.read_csv('stop-and-search.csv')\n",
    "\n",
    "# How many rows are there?\n",
    "print(f\"This dataset has {len(stopsearch)} rows\")\n",
    "\n",
    "# What are the columns?\n",
    "print(stopsearch.columns)\n",
    "\n",
    "# Display the first 5 rows. iloc[:5] means ”select the first five rows”\n",
    "# (not all columns fit on this page)\n",
    "stopsearch.iloc[:5]"
   ]
  },
  {
   "cell_type": "markdown",
   "metadata": {},
   "source": [
    "### 2.1 MISSING VALUES\n",
    "\n",
    "Missing values (as in the third entry in the $\\textsf{age_range}$ column above) are a fact of life in data science.\n",
    "They should really be supported by Python itself, but they aren’t, so Pandas adopts its own conventions:\n",
    "it uses either $\\textsf{np.nan}$ (the IEEE floating point for ‘Not A Number’), or $\\textsf{None}$ (the built-in Python value\n",
    "commonly used to denote ‘no return value’). It’s best to use $\\textsf{np.nan}$ when the underlying column is a\n",
    "numpy vector of floating point values, but for other column types it doesn’t matter which is used. To\n",
    "determine whether values are missing, use `pandas.isna`."
   ]
  },
  {
   "cell_type": "code",
   "execution_count": null,
   "metadata": {},
   "outputs": [],
   "source": [
    "pandas.isna(stopsearch.age_range[:5]) # returns [False,False,True,False,False]\n",
    "\n",
    "sum(pandas.isna(stopsearch.age_range)) # count number of missing values"
   ]
  },
  {
   "cell_type": "markdown",
   "metadata": {},
   "source": [
    "## 3. Importing, exporting, and creating dataframes\n",
    "\n",
    "In my experience, around 70% of the time you spend working with data will be fighting to import it\n",
    "and clean it up. See the supplementary notebooks for a collection of recipes for web scraping, reading from a\n",
    "database, and parsing log files.\n",
    "\n",
    "The simplest case is when you have a nice simple comma-separated value (CSV) file. A CSV file looks like\n",
    "this:\n",
    "```\n",
    "\"Sepal.Length\",\"Sepal.Width\",\"Petal.Length\",\"Petal.Width\",\"Species\"\n",
    "5.1,3.5,1.4,0.2,\"setosa\"\n",
    "4.9,3,1.4,0.2,\"setosa\"\n",
    "4.7,3.2,1.3,0.2,\"setosa\"\n",
    "4.6,3.1,1.5,0.2,\"setosa\"\n",
    "5,3.6,1.4,0.2,\"setosa\"\n",
    "```\n",
    "i.e. a header line, then one line per row of the data frame, with values separated by commas. We’ve\n",
    "already seen how to import a CSV, using [`pandas.read_csv`](https://pandas.pydata.org/pandas-docs/stable/generated/pandas.read_csv.html). If your file is nearly a CSV but has some\n",
    "quirks such as comments or a missing header row, experiment with that function’s 55 options. We can\n",
    "use the same function to read CSV files from remote url:"
   ]
  },
  {
   "cell_type": "code",
   "execution_count": null,
   "metadata": {},
   "outputs": [],
   "source": [
    "url = 'https://www.cl.cam.ac.uk/teaching/2021/DataSci/data/iris.csv'\n",
    "iris = pandas.read_csv(url)"
   ]
  },
  {
   "cell_type": "markdown",
   "metadata": {},
   "source": [
    "To write a CSV file,"
   ]
  },
  {
   "cell_type": "code",
   "execution_count": null,
   "metadata": {},
   "outputs": [],
   "source": [
    "iris.to_csv('iris.csv', index=False)"
   ]
  },
  {
   "cell_type": "markdown",
   "metadata": {},
   "source": [
    "To create a dataframe from scratch, pass in a dictionary of columns. You can optionally specify the column order you want with the columns argument."
   ]
  },
  {
   "cell_type": "code",
   "execution_count": null,
   "metadata": {},
   "outputs": [],
   "source": [
    "iris = pandas.DataFrame({\n",
    "'species': ['setosa', 'virginica', 'virginica', 'setosa', 'versicolor'],\n",
    "'Petal.length': [1.0, 5.0, 5.8, 1.7, 4.2],\n",
    "'Petal.width': [0.2, 1.9, 1.6, 0.5, 1.2]\n",
    "},\n",
    "columns = ['Petal.length', 'Petal.width', 'species'])"
   ]
  },
  {
   "cell_type": "markdown",
   "metadata": {},
   "source": [
    "Or you can create a dataframe from a list of tuples. Now the columns argument is needed to say what\n",
    "the column names are."
   ]
  },
  {
   "cell_type": "code",
   "execution_count": null,
   "metadata": {},
   "outputs": [],
   "source": [
    "iris = pandas.DataFrame([\n",
    "('setosa', 1.0, 0.2), ('virginica', 5.0, 1.9), ('virginica', 5.8, 1.6),\n",
    "('setosa', 1.7, 0.5), ('versicolor', 4.2, 1.2)\n",
    "],\n",
    "columns = ['species', 'Petal.length', 'Petal.width'])"
   ]
  },
  {
   "cell_type": "markdown",
   "metadata": {},
   "source": [
    "## 4. Selecting and modifying data\n",
    "\n",
    "Data frames have a triple identity:\n",
    "* they’re like a dictionary, where the keys are column names and the values are numpy vectors,\n",
    "and we can add, modify, or remove entire columns\n",
    "* they’re like a database table, and we can select subtables by row and/or column\n",
    "* they’re like an array, and we can select parts of the dataframe based on row indexes."
   ]
  },
  {
   "cell_type": "markdown",
   "metadata": {},
   "source": [
    "### 4.1 LIKE A DICTIONARY\n",
    "\n",
    "We can access entire columns as though the dataframe is a dictionary."
   ]
  },
  {
   "cell_type": "code",
   "execution_count": null,
   "metadata": {},
   "outputs": [],
   "source": [
    "stopsearch.columns          # get a list of column names\n",
    "stopsearch.keys()           # … and another way to do the same\n",
    "x = stopsearch['outcome']   # get a single column\n",
    "x = stopsearch.outcome      # … and another way to do the same\n",
    "del stopsearch['location']  # delete a column\n",
    "# add or modify a column\n",
    "stopsearch['outcome_N'] = np.where(stopsearch.outcome == 'False', 0, 1)"
   ]
  },
  {
   "cell_type": "markdown",
   "metadata": {},
   "source": [
    "The columns aren't just numpy vectors, they're pandas [Series](https://pandas.pydata.org/pandas-docs/stable/reference/api/pandas.Series.html) objects. They support many additional real-world data-handling operations that are missing from plain numpy. For example\n",
    "* `Series.str.startswith` and [many other vectorized string operations](https://pandas.pydata.org/pandas-docs/stable/reference/series.html#api-series-str)\n",
    "* Convert strings to timestamps with [`pandas.to_datetime`](https://pandas.pydata.org/pandas-docs/stable/reference/api/pandas.to_datetime.html) and then use the [many datetime operations](https://pandas.pydata.org/pandas-docs/stable/reference/series.html#api-series-dt)\n",
    "* [`Series.replace`](https://pandas.pydata.org/pandas-docs/stable/reference/api/pandas.Series.replace.html) to replace elements, as shown below"
   ]
  },
  {
   "cell_type": "code",
   "execution_count": null,
   "metadata": {},
   "outputs": [],
   "source": [
    "# list all the non-NA values, and their counts\n",
    "stopsearch['age_range'].value_counts()    \n",
    "# replace all the string age-ranges with numbers\n",
    "r = {'18-24':21.5, '10-17':14, '25-34':30, 'over 34':40, 'under 10':8}\n",
    "stopsearch['age'] = stopsearch['age_range'].replace(r)"
   ]
  },
  {
   "cell_type": "markdown",
   "metadata": {},
   "source": [
    "### 4.2 LIKE A DATABASE TABLE\n",
    "\n",
    "We can obtain a new dataframe by selecting a subset of rows and/or columns,\n",
    "using `.loc`."
   ]
  },
  {
   "cell_type": "code",
   "execution_count": null,
   "metadata": {},
   "outputs": [],
   "source": [
    "stopsearch.loc[:, ['force','datetime','outcome']]  # all rows, some cols\n",
    "stopsearch[['force','datetime','outcome']]         # … the same thing\n",
    "stopsearch.loc[stopsearch.force=='cambridgeshire'] # some rows, all cols\n",
    "stopsearch.loc[stopsearch.force=='cambridgeshire', # some rows, some cols\n",
    "               ['force','datetime','outcome']]"
   ]
  },
  {
   "cell_type": "markdown",
   "metadata": {},
   "source": [
    "If we want to select rows by row number, rather than by a boolean condition as above, we need .iloc."
   ]
  },
  {
   "cell_type": "code",
   "execution_count": null,
   "metadata": {},
   "outputs": [],
   "source": [
    "stopsearch.iloc[:3]      # the first 3 rows\n",
    "stopsearch[:3]           # … and another way to do the same\n",
    "stopsearch.iloc[[0,3,5]] # select several rows\n",
    "stopsearch.iloc[[5]]     # returns a one-row dataframe\n",
    "stopsearch.sample(4)     # select 4 rows at random"
   ]
  },
  {
   "cell_type": "markdown",
   "metadata": {},
   "source": [
    "Row and column selectors can be combined."
   ]
  },
  {
   "cell_type": "code",
   "execution_count": null,
   "metadata": {},
   "outputs": [],
   "source": [
    "wantcols = ['force','datetime','outcome']\n",
    "stopsearch.loc[stopsearch.force=='cambridgeshire', wantcols]\n",
    "stopsearch[wantcols].iloc[:3]\n",
    "stopsearch.loc[stopsearch.force=='cambridgeshire', wantcols].iloc[:3]"
   ]
  },
  {
   "cell_type": "markdown",
   "metadata": {},
   "source": [
    "To pull out a single row as a tuple, or to pull out a single value as a scalar, there is different syntax."
   ]
  },
  {
   "cell_type": "code",
   "execution_count": null,
   "metadata": {},
   "outputs": [],
   "source": [
    "stopsearch['force'].iat[5] # a scalar for the specified column and row\n",
    "stopsearch.iloc[5]         # a tuple containing the values for row 5"
   ]
  },
  {
   "cell_type": "markdown",
   "metadata": {},
   "source": [
    "We can use these indexing operations to update a specific element in the dataframe—but  I think\n",
    "it’s cleaner to modify data using dictionary indexing, replacing an entire column, rather than hacking\n",
    "at individual elements.\n",
    "\n",
    "Sometimes pandas will tell us off, warning us that the operation may be inefficient."
   ]
  },
  {
   "cell_type": "code",
   "execution_count": null,
   "metadata": {},
   "outputs": [],
   "source": [
    "stopsearch['outcome_N'][0] = 2"
   ]
  },
  {
   "cell_type": "markdown",
   "metadata": {},
   "source": [
    "<pre style=\"color:red\">\n",
    "SettingWithCopyWarning: \n",
    "A value is trying to be set on a copy of a slice from a DataFrame\n",
    "</pre>"
   ]
  },
  {
   "cell_type": "markdown",
   "metadata": {},
   "source": [
    "This means that we've taken a subset of the rows, and tried to set a variable. Pandas doesn't actually copy the dataframe when you take a subset of the rows, it shares the data with the original table. So, to suppress this warning, take a copy of the dataframe with `df=stopsearch.copy()`, and then modify\n",
    "the copy."
   ]
  },
  {
   "cell_type": "markdown",
   "metadata": {},
   "source": [
    "### 4.3 LIKE AN ARRAY\n",
    "\n",
    "There is a third way to select rows from a dataframe, which in my experience is the\n",
    "source of endless confusion: selecting by row index. When you see a Pandas dataframe printed out,\n",
    "there is a column at the left without a column name. These aren’t row numbers, they are row indexes,\n",
    "which behave like the keys in a dictionary. In all the examples we’ve seen so far the indexes happen\n",
    "to be numbers, but they could be any other Python object. Row indexes are there for the same reason\n",
    "database tables have indexes: they’re vital for efficient lookup. But we won’t be using them in this\n",
    "course.\n",
    "\n",
    "Pandas always keeps track of row indexes. Even when you pull out a single column, it doesn't give us a numpy vector, it gives us a Series object which is numpy-vector-plus-indexes.\n",
    "And it always tries to match indexes.\n",
    "This is usually not what we want, especially when we just want some plain simple arithmetic. **I recommend that you generally use `.values`\n",
    "when you are working with subsets of rows.** This gives you the actual numpy vector behind the\n",
    "column, not the confusing Series. We won’t be taking advantage of row\n",
    "indexes in this course, but it’s worth knowing they exist so you can understand the cryptic errors and\n",
    "error messages you will undoubtedly come across."
   ]
  },
  {
   "cell_type": "code",
   "execution_count": 89,
   "metadata": {},
   "outputs": [],
   "source": [
    "df = pandas.DataFrame({'x': [3,3,4,8,2]}, index=['a','b','c','d','e'])"
   ]
  },
  {
   "cell_type": "markdown",
   "metadata": {},
   "source": [
    "<div>\n",
    "<style scoped=\"\">\n",
    "    .dataframe tbody tr th:only-of-type {\n",
    "        vertical-align: middle;\n",
    "    }\n",
    "\n",
    "    .dataframe tbody tr th {\n",
    "        vertical-align: top;\n",
    "    }\n",
    "\n",
    "    .dataframe thead th {\n",
    "        text-align: right;\n",
    "    }\n",
    "</style>\n",
    "<table border=\"1\" class=\"dataframe\">\n",
    "  <thead>\n",
    "    <tr style=\"text-align: right;\">\n",
    "      <th></th>\n",
    "      <th>x</th>\n",
    "    </tr>\n",
    "  </thead>\n",
    "  <tbody>\n",
    "    <tr>\n",
    "      <th>a</th>\n",
    "      <td>3</td>\n",
    "    </tr>\n",
    "    <tr>\n",
    "      <th>b</th>\n",
    "      <td>3</td>\n",
    "    </tr>\n",
    "    <tr>\n",
    "      <th>c</th>\n",
    "      <td>4</td>\n",
    "    </tr>\n",
    "    <tr>\n",
    "      <th>d</th>\n",
    "      <td>8</td>\n",
    "    </tr>\n",
    "    <tr>\n",
    "      <th>e</th>\n",
    "      <td>2</td>\n",
    "    </tr>\n",
    "  </tbody>\n",
    "</table>\n",
    "</div>"
   ]
  },
  {
   "cell_type": "code",
   "execution_count": null,
   "metadata": {},
   "outputs": [],
   "source": [
    "# This looks like it should add [3,3,4] and [4,8,2] … but it doesn’t!\n",
    "df['x'][:3] + df['x'][2:]"
   ]
  },
  {
   "cell_type": "markdown",
   "metadata": {},
   "source": [
    "<pre>a    NaN\n",
    "b    NaN\n",
    "c    8.0\n",
    "d    NaN\n",
    "e    NaN\n",
    "Name: x, dtype: float64</pre>"
   ]
  },
  {
   "cell_type": "code",
   "execution_count": null,
   "metadata": {},
   "outputs": [],
   "source": [
    "# To get the answer we were probably expecting,\n",
    "df['x'][:3].values + df['x'][-3:].values"
   ]
  },
  {
   "cell_type": "markdown",
   "metadata": {},
   "source": [
    "<pre>array([ 7, 11,  6])</pre>"
   ]
  },
  {
   "cell_type": "markdown",
   "metadata": {},
   "source": [
    "## 5. Tabulations and indexed arrays\n",
    "\n",
    "The pattern behind much data processing is split-apply-combine-join: split your data into pieces, apply\n",
    "a transformation to each piece, combine the pieces, and join results from different datasets together.\n",
    "We could code this explicitly with a ‘for’ loop, but it would involve lots of boilerplate code — and I\n",
    "hope you have been persuaded by the [NumPy notes](notes2_numpy.ipynb#2.3-FOR-LOOPS-CONSIDERED-HARMFUL) that ‘for’ loops are considered harmful. Instead, let’s\n",
    "see how to do it with Pandas."
   ]
  },
  {
   "cell_type": "markdown",
   "metadata": {},
   "source": [
    "### 5.1 DATAFRAME → INDEXED ARRAY\n",
    "\n",
    "The following line of code performs a cross-tabulation: it splits the data into a separate dataframe\n",
    "for each combination of officer-defined ethnicity and gender, applies the `len` function to each subdataframe\n",
    "to get the number of rows it contains, and combines the results into a single indexed object.\n",
    "\n",
    "* If we want to apply the function to a single column, pick it out after the groupby.\n",
    "\n",
    "* If we want to apply a more elaborate function, it's handy to define an anonymous function with `lambda`."
   ]
  },
  {
   "cell_type": "code",
   "execution_count": 84,
   "metadata": {},
   "outputs": [],
   "source": [
    "# Select cambridgeshire records, then tabulate by ethnicity and gender\n",
    "df = stopsearch.loc[stopsearch.force=='cambridgeshire']\n",
    "x = df.groupby(['officer_defined_ethnicity', 'gender']).apply(len)"
   ]
  },
  {
   "cell_type": "markdown",
   "metadata": {},
   "source": [
    "<pre>officer_defined_ethnicity  gender\n",
    "Asian                      Female       7\n",
    "                           Male       179\n",
    "                           Other        1\n",
    "Black                      Female      10\n",
    "                           Male       257\n",
    "Other                      Female       6\n",
    "                           Male        28\n",
    "White                      Female     253\n",
    "                           Male      1465\n",
    "                           Other        5\n",
    "dtype: int64</pre>"
   ]
  },
  {
   "cell_type": "code",
   "execution_count": null,
   "metadata": {},
   "outputs": [],
   "source": [
    "# Apply the np.mean function to the 'age' column, separately for each gender\n",
    "# (This assumes you've run the commands in 4.1 to define the age column, before defining df.)\n",
    "df.groupby('gender')['age'].apply(lambda x: np.mean(x))"
   ]
  },
  {
   "cell_type": "markdown",
   "metadata": {},
   "source": [
    "<pre>gender\n",
    "Female    24.656682\n",
    "Male      24.628913\n",
    "Other     24.750000\n",
    "Name: age, dtype: float64</pre>"
   ]
  },
  {
   "cell_type": "markdown",
   "metadata": {},
   "source": [
    "For this course, we will only apply functions that return simple Python values. It’s [possible but more\n",
    "complicated](http://pandas.pydata.org/pandas-docs/stable/groupby.html) to apply functions that return dataframes or Pandas columns or indexed arrays.\n",
    "\n",
    "The groupby/apply commands have produced an _indexed array_. An indexed array is a cross between a\n",
    "normal numpy array and a dataframe. We access elements and sub-arrays by dimension, like a numpy\n",
    "array — but the indexes aren’t integer positions, they’re values from the underlying column. Also, the\n",
    "array might be ‘incomplete’, as in the example above which has no entry for $\\textsf{['Black','Other']}$."
   ]
  },
  {
   "cell_type": "code",
   "execution_count": null,
   "metadata": {},
   "outputs": [],
   "source": [
    "x.loc['Asian']           # select the sub-array of ethnicity Asian\n",
    "x.loc[:, 'Other']        # select the sub-array of gender Other\n",
    "x.loc[['Black','White']] # select two ethnicities, all genders"
   ]
  },
  {
   "cell_type": "markdown",
   "metadata": {},
   "source": [
    "The index labels can be accessed with `x.index.levels[0].values` and `x.index.levels[1].values`.\n",
    "To pretty-print an indexed array, use [unstack](https://pandas.pydata.org/pandas-docs/stable/generated/pandas.Series.unstack.html). It will by default fill in any missing values with $\\textsf{NaN}$\n",
    "(not a number), and you can override this with $\\textsf{fill_value}$."
   ]
  },
  {
   "cell_type": "code",
   "execution_count": null,
   "metadata": {
    "scrolled": true
   },
   "outputs": [],
   "source": [
    "x.unstack(fill_value=0)"
   ]
  },
  {
   "cell_type": "markdown",
   "metadata": {},
   "source": [
    "<div>\n",
    "<style scoped=\"\">\n",
    "    .dataframe tbody tr th:only-of-type {\n",
    "        vertical-align: middle;\n",
    "    }\n",
    "\n",
    "    .dataframe tbody tr th {\n",
    "        vertical-align: top;\n",
    "    }\n",
    "\n",
    "    .dataframe thead th {\n",
    "        text-align: right;\n",
    "    }\n",
    "</style>\n",
    "<table border=\"1\" class=\"dataframe\">\n",
    "  <thead>\n",
    "    <tr style=\"text-align: right;\">\n",
    "      <th>gender</th>\n",
    "      <th>Female</th>\n",
    "      <th>Male</th>\n",
    "      <th>Other</th>\n",
    "    </tr>\n",
    "    <tr>\n",
    "      <th>officer_defined_ethnicity</th>\n",
    "      <th></th>\n",
    "      <th></th>\n",
    "      <th></th>\n",
    "    </tr>\n",
    "  </thead>\n",
    "  <tbody>\n",
    "    <tr>\n",
    "      <th>Asian</th>\n",
    "      <td>7</td>\n",
    "      <td>179</td>\n",
    "      <td>1</td>\n",
    "    </tr>\n",
    "    <tr>\n",
    "      <th>Black</th>\n",
    "      <td>10</td>\n",
    "      <td>257</td>\n",
    "      <td>0</td>\n",
    "    </tr>\n",
    "    <tr>\n",
    "      <th>Other</th>\n",
    "      <td>6</td>\n",
    "      <td>28</td>\n",
    "      <td>0</td>\n",
    "    </tr>\n",
    "    <tr>\n",
    "      <th>White</th>\n",
    "      <td>253</td>\n",
    "      <td>1465</td>\n",
    "      <td>5</td>\n",
    "    </tr>\n",
    "  </tbody>\n",
    "</table>\n",
    "</div>"
   ]
  },
  {
   "cell_type": "markdown",
   "metadata": {},
   "source": [
    "### 5.2 INDEXED ARRAY → DATAFRAME\n",
    "\n",
    "There are two ways to convert an indexed array to a dataframe, depending on the shape of the dataframe\n",
    "you want to end up with."
   ]
  },
  {
   "cell_type": "code",
   "execution_count": null,
   "metadata": {},
   "outputs": [],
   "source": [
    "# Convert an indexed array into a long-form dataframe\n",
    "# -- the array values will become a column, and we can specify its name\n",
    "x[['Black','White']].reset_index(name='count')"
   ]
  },
  {
   "cell_type": "markdown",
   "metadata": {},
   "source": [
    "<div>\n",
    "<style scoped=\"\">\n",
    "    .dataframe tbody tr th:only-of-type {\n",
    "        vertical-align: middle;\n",
    "    }\n",
    "\n",
    "    .dataframe tbody tr th {\n",
    "        vertical-align: top;\n",
    "    }\n",
    "\n",
    "    .dataframe thead th {\n",
    "        text-align: right;\n",
    "    }\n",
    "</style>\n",
    "<table border=\"1\" class=\"dataframe\">\n",
    "  <thead>\n",
    "    <tr style=\"text-align: right;\">\n",
    "      <th></th>\n",
    "      <th>officer_defined_ethnicity</th>\n",
    "      <th>gender</th>\n",
    "      <th>count</th>\n",
    "    </tr>\n",
    "  </thead>\n",
    "  <tbody>\n",
    "    <tr>\n",
    "      <th>0</th>\n",
    "      <td>Black</td>\n",
    "      <td>Female</td>\n",
    "      <td>10</td>\n",
    "    </tr>\n",
    "    <tr>\n",
    "      <th>1</th>\n",
    "      <td>Black</td>\n",
    "      <td>Male</td>\n",
    "      <td>257</td>\n",
    "    </tr>\n",
    "    <tr>\n",
    "      <th>2</th>\n",
    "      <td>White</td>\n",
    "      <td>Female</td>\n",
    "      <td>253</td>\n",
    "    </tr>\n",
    "    <tr>\n",
    "      <th>3</th>\n",
    "      <td>White</td>\n",
    "      <td>Male</td>\n",
    "      <td>1465</td>\n",
    "    </tr>\n",
    "    <tr>\n",
    "      <th>4</th>\n",
    "      <td>White</td>\n",
    "      <td>Other</td>\n",
    "      <td>5</td>\n",
    "    </tr>\n",
    "  </tbody>\n",
    "</table>\n",
    "</div>"
   ]
  },
  {
   "cell_type": "code",
   "execution_count": null,
   "metadata": {},
   "outputs": [],
   "source": [
    "# Convert an indexed array into a wide-form dataframe.\n",
    "# (I'm using the line-continuation character \"\\\" so my code isn't a confusing one-liner)\n",
    "x[['Black','White']].unstack(fill_value=0) \\\n",
    ".reset_index() \\\n",
    ".rename_axis(None, axis=1)"
   ]
  },
  {
   "cell_type": "markdown",
   "metadata": {},
   "source": [
    "<div>\n",
    "<style scoped=\"\">\n",
    "    .dataframe tbody tr th:only-of-type {\n",
    "        vertical-align: middle;\n",
    "    }\n",
    "\n",
    "    .dataframe tbody tr th {\n",
    "        vertical-align: top;\n",
    "    }\n",
    "\n",
    "    .dataframe thead th {\n",
    "        text-align: right;\n",
    "    }\n",
    "</style>\n",
    "<table border=\"1\" class=\"dataframe\">\n",
    "  <thead>\n",
    "    <tr style=\"text-align: right;\">\n",
    "      <th></th>\n",
    "      <th>officer_defined_ethnicity</th>\n",
    "      <th>Female</th>\n",
    "      <th>Male</th>\n",
    "      <th>Other</th>\n",
    "    </tr>\n",
    "  </thead>\n",
    "  <tbody>\n",
    "    <tr>\n",
    "      <th>0</th>\n",
    "      <td>Black</td>\n",
    "      <td>10</td>\n",
    "      <td>257</td>\n",
    "      <td>0</td>\n",
    "    </tr>\n",
    "    <tr>\n",
    "      <th>1</th>\n",
    "      <td>White</td>\n",
    "      <td>253</td>\n",
    "      <td>1465</td>\n",
    "      <td>5</td>\n",
    "    </tr>\n",
    "  </tbody>\n",
    "</table>\n",
    "</div>"
   ]
  },
  {
   "cell_type": "markdown",
   "metadata": {},
   "source": [
    "When you first start working with data, I recommend you do all your calculations on dataframes rather\n",
    "than indexed arrays. If you want to do calculations on an indexed array, first turn it into a dataframe.\n",
    "As you get deeper into working with data, you’ll discover that the skill in working with data is knowing\n",
    "which representation works best for your task, dataframe or indexed array. Also,\n",
    "\n",
    "* Pandas blurs the boundary between dataframes and indexed arrays\n",
    "* Both rows and columns can have hierarchical indexes, called [multi-indexes](https://pandas.pydata.org/pandas-docs/stable/advanced.html)\n",
    "* For clever tricks with higher-dimensional indexed arrays, read the documentation for [unstack](https://pandas.pydata.org/pandas-docs/stable/generated/pandas.DataFrame.unstack.html)\n",
    "and [rename_axis](https://pandas.pydata.org/pandas-docs/stable/generated/pandas.DataFrame.rename_axis.html).\n",
    "* When you read the documentation or look for help, please note that what I’m calling an indexed\n",
    "array, Pandas calls a [Series](https://pandas.pydata.org/pandas-docs/stable/generated/pandas.Series.html)."
   ]
  },
  {
   "cell_type": "markdown",
   "metadata": {},
   "source": [
    "## 6. Merging dataframes\n",
    "\n",
    "When processing data we often want to combine data at different levels of aggregation. For example,\n",
    "we might like to compare the frequency of false stops (i.e. where the police stopped someone and found\n",
    "nothing suspicious) across different ethnicities. Here’s how we prepare the first three columns … but\n",
    "what about the $n_\\text{tot}$ column and $n/n_\\text{tot}$?"
   ]
  },
  {
   "cell_type": "code",
   "execution_count": null,
   "metadata": {},
   "outputs": [],
   "source": [
    "df = stopsearch.loc[stopsearch.force=='cambridgeshire'].copy()\n",
    "df['outcome'] = np.where(df.outcome == 'False', 'nothing', 'find')\n",
    "x = df.groupby(['officer_defined_ethnicity', 'outcome']) \\\n",
    ".apply(len) \\\n",
    ".reset_index(name='n')"
   ]
  },
  {
   "cell_type": "markdown",
   "metadata": {},
   "source": [
    "<div>\n",
    "<style scoped=\"\">\n",
    "    .dataframe tbody tr th:only-of-type {\n",
    "        vertical-align: middle;\n",
    "    }\n",
    "\n",
    "    .dataframe tbody tr th {\n",
    "        vertical-align: top;\n",
    "    }\n",
    "\n",
    "    .dataframe thead th {\n",
    "        text-align: right;\n",
    "    }\n",
    "</style>\n",
    "<table border=\"1\" class=\"dataframe\">\n",
    "  <thead>\n",
    "    <tr style=\"text-align: right;\">\n",
    "      <th></th>\n",
    "      <th>officer_defined_ethnicity</th>\n",
    "      <th>outcome</th>\n",
    "      <th>n</th>\n",
    "        <th>n<sub>tot</sub></th>\n",
    "        <th>n / n<sub>tot</sub></th>\n",
    "    </tr>\n",
    "  </thead>\n",
    "  <tbody>\n",
    "    <tr style=\"background: #f5f5f5;\">\n",
    "      <th>0</th>\n",
    "      <td>Asian</td>\n",
    "      <td>find</td>\n",
    "      <td>116</td>\n",
    "        <td rowspan=2>192</td>\n",
    "        <td>60.4%</td>\n",
    "    </tr>\n",
    "    <tr style=\"background: #f5f5f5;\">\n",
    "      <th>1</th>\n",
    "      <td>Asian</td>\n",
    "      <td>nothing</td>\n",
    "      <td>76</td>\n",
    "        <td>39.6%</td>\n",
    "    </tr>\n",
    "    <tr style=\"background: white;\">\n",
    "      <th>2</th>\n",
    "      <td>Black</td>\n",
    "      <td>find</td>\n",
    "      <td>170</td>\n",
    "        <td rowspan=2>270</td>\n",
    "        <td>63.0%</td>\n",
    "    </tr>\n",
    "    <tr style=\"background: white;\">\n",
    "      <th>3</th>\n",
    "      <td>Black</td>\n",
    "      <td>nothing</td>\n",
    "      <td>100</td>\n",
    "        <td>37.0%</td>\n",
    "    </tr>\n",
    "    <tr style=\"background: #f5f5f5;\">\n",
    "      <th>4</th>\n",
    "      <td>Other</td>\n",
    "      <td>find</td>\n",
    "      <td>28</td>\n",
    "        <td rowspan=2>37</td>\n",
    "        <td>75.7%</td>\n",
    "    </tr>\n",
    "    <tr style=\"background: #f5f5f5;\">\n",
    "      <th>5</th>\n",
    "      <td>Other</td>\n",
    "      <td>nothing</td>\n",
    "      <td>9</td>\n",
    "        <td>24.3%</td>\n",
    "    </tr>\n",
    "    <tr style=\"background: white;\">\n",
    "      <th>6</th>\n",
    "      <td>White</td>\n",
    "      <td>find</td>\n",
    "      <td>1060</td>\n",
    "        <td rowspan=2>1740</td>\n",
    "        <td>60.9%</td>\n",
    "    </tr>\n",
    "    <tr style=\"background: white;\">\n",
    "      <th>7</th>\n",
    "      <td>White</td>\n",
    "      <td>nothing</td>\n",
    "      <td>680</td>\n",
    "        <td>30.1%</td>\n",
    "    </tr>\n",
    "  </tbody>\n",
    "</table>\n",
    "</div>"
   ]
  },
  {
   "cell_type": "markdown",
   "metadata": {},
   "source": [
    "### 6.1 WITH DATABASE-STYLE JOINS\n",
    "\n",
    "The database answer is to create a smaller table with two columns, $\\textsf{officer_defined_ethnicity}$ and $n_\\text{tot}$,\n",
    "and then to join this to $\\textsf{x}$ using the key $\\textsf{officer_defined_ethnicity}$."
   ]
  },
  {
   "cell_type": "code",
   "execution_count": null,
   "metadata": {},
   "outputs": [],
   "source": [
    "y = x.groupby('officer_defined_ethnicity')['n'].apply(sum).reset_index(name='ntot')"
   ]
  },
  {
   "cell_type": "markdown",
   "metadata": {},
   "source": [
    "<div>\n",
    "<style scoped=\"\">\n",
    "    .dataframe tbody tr th:only-of-type {\n",
    "        vertical-align: middle;\n",
    "    }\n",
    "\n",
    "    .dataframe tbody tr th {\n",
    "        vertical-align: top;\n",
    "    }\n",
    "\n",
    "    .dataframe thead th {\n",
    "        text-align: right;\n",
    "    }\n",
    "</style>\n",
    "<table border=\"1\" class=\"dataframe\">\n",
    "  <thead>\n",
    "    <tr style=\"text-align: right;\">\n",
    "      <th></th>\n",
    "      <th>officer_defined_ethnicity</th>\n",
    "      <th>ntot</th>\n",
    "    </tr>\n",
    "  </thead>\n",
    "  <tbody>\n",
    "    <tr>\n",
    "      <th>0</th>\n",
    "      <td>Asian</td>\n",
    "      <td>192</td>\n",
    "    </tr>\n",
    "    <tr>\n",
    "      <th>1</th>\n",
    "      <td>Black</td>\n",
    "      <td>270</td>\n",
    "    </tr>\n",
    "    <tr>\n",
    "      <th>2</th>\n",
    "      <td>Other</td>\n",
    "      <td>37</td>\n",
    "    </tr>\n",
    "    <tr>\n",
    "      <th>3</th>\n",
    "      <td>White</td>\n",
    "      <td>1740</td>\n",
    "    </tr>\n",
    "  </tbody>\n",
    "</table>\n",
    "</div>"
   ]
  },
  {
   "cell_type": "code",
   "execution_count": null,
   "metadata": {},
   "outputs": [],
   "source": [
    "z = x.merge(y, on='officer_defined_ethnicity')\n",
    "p = z.n / z.ntot\n",
    "z['percent_find'] = np.round(p * 100, 1)\n",
    "# Also compute a margin for error; see IB Data Science for the theory\n",
    "z['err'] = np.round(1.96 * np.sqrt(p*(1-p)/z.ntot) * 100, 1)"
   ]
  },
  {
   "cell_type": "markdown",
   "metadata": {},
   "source": [
    "<div>\n",
    "<style scoped=\"\">\n",
    "    .dataframe tbody tr th:only-of-type {\n",
    "        vertical-align: middle;\n",
    "    }\n",
    "\n",
    "    .dataframe tbody tr th {\n",
    "        vertical-align: top;\n",
    "    }\n",
    "\n",
    "    .dataframe thead th {\n",
    "        text-align: right;\n",
    "    }\n",
    "</style>\n",
    "<table border=\"1\" class=\"dataframe\">\n",
    "  <thead>\n",
    "    <tr style=\"text-align: right;\">\n",
    "      <th></th>\n",
    "      <th>officer_defined_ethnicity</th>\n",
    "      <th>outcome</th>\n",
    "      <th>n</th>\n",
    "      <th>ntot</th>\n",
    "      <th>percent_find</th>\n",
    "      <th>err</th>\n",
    "    </tr>\n",
    "  </thead>\n",
    "  <tbody>\n",
    "    <tr>\n",
    "      <th>0</th>\n",
    "      <td>Asian</td>\n",
    "      <td>find</td>\n",
    "      <td>116</td>\n",
    "      <td>192</td>\n",
    "      <td>60.4</td>\n",
    "      <td>6.9</td>\n",
    "    </tr>\n",
    "    <tr>\n",
    "      <th>1</th>\n",
    "      <td>Asian</td>\n",
    "      <td>nothing</td>\n",
    "      <td>76</td>\n",
    "      <td>192</td>\n",
    "      <td>39.6</td>\n",
    "      <td>6.9</td>\n",
    "    </tr>\n",
    "    <tr>\n",
    "      <th>2</th>\n",
    "      <td>Black</td>\n",
    "      <td>find</td>\n",
    "      <td>170</td>\n",
    "      <td>270</td>\n",
    "      <td>63.0</td>\n",
    "      <td>5.8</td>\n",
    "    </tr>\n",
    "    <tr>\n",
    "      <th>3</th>\n",
    "      <td>Black</td>\n",
    "      <td>nothing</td>\n",
    "      <td>100</td>\n",
    "      <td>270</td>\n",
    "      <td>37.0</td>\n",
    "      <td>5.8</td>\n",
    "    </tr>\n",
    "    <tr>\n",
    "      <th>4</th>\n",
    "      <td>Other</td>\n",
    "      <td>find</td>\n",
    "      <td>28</td>\n",
    "      <td>37</td>\n",
    "      <td>75.7</td>\n",
    "      <td>13.8</td>\n",
    "    </tr>\n",
    "    <tr>\n",
    "      <th>5</th>\n",
    "      <td>Other</td>\n",
    "      <td>nothing</td>\n",
    "      <td>9</td>\n",
    "      <td>37</td>\n",
    "      <td>24.3</td>\n",
    "      <td>13.8</td>\n",
    "    </tr>\n",
    "    <tr>\n",
    "      <th>6</th>\n",
    "      <td>White</td>\n",
    "      <td>find</td>\n",
    "      <td>1060</td>\n",
    "      <td>1740</td>\n",
    "      <td>60.9</td>\n",
    "      <td>2.3</td>\n",
    "    </tr>\n",
    "    <tr>\n",
    "      <th>7</th>\n",
    "      <td>White</td>\n",
    "      <td>nothing</td>\n",
    "      <td>680</td>\n",
    "      <td>1740</td>\n",
    "      <td>39.1</td>\n",
    "      <td>2.3</td>\n",
    "    </tr>\n",
    "  </tbody>\n",
    "</table>\n",
    "</div>"
   ]
  },
  {
   "cell_type": "markdown",
   "metadata": {},
   "source": [
    "### 6.2 WITH PANDAS INDEXING\n",
    "\n",
    "This particular operation (groupby and apply, then merge the result back into the original table) is so common that pandas has a built-in way to do it, using `df.groupby(...)[col].transform(f)`. This applies function $\\textsf{f}$ to each chunk of $\\textsf{col}$, and then reassembles the answer back into an array _with the same index as $\\textsf{df}$_. We can then just put it into $\\textsf{df}$ as an extra column."
   ]
  },
  {
   "cell_type": "code",
   "execution_count": null,
   "metadata": {},
   "outputs": [],
   "source": [
    "x['ntot'] = x.groupby('officer_defined_ethnicity')['n'].transform(sum)"
   ]
  },
  {
   "cell_type": "markdown",
   "metadata": {},
   "source": [
    "<div>\n",
    "<style scoped=\"\">\n",
    "    .dataframe tbody tr th:only-of-type {\n",
    "        vertical-align: middle;\n",
    "    }\n",
    "\n",
    "    .dataframe tbody tr th {\n",
    "        vertical-align: top;\n",
    "    }\n",
    "\n",
    "    .dataframe thead th {\n",
    "        text-align: right;\n",
    "    }\n",
    "</style>\n",
    "<table border=\"1\" class=\"dataframe\">\n",
    "  <thead>\n",
    "    <tr style=\"text-align: right;\">\n",
    "      <th></th>\n",
    "      <th>officer_defined_ethnicity</th>\n",
    "      <th>outcome</th>\n",
    "      <th>n</th>\n",
    "      <th>ntot</th>\n",
    "    </tr>\n",
    "  </thead>\n",
    "  <tbody>\n",
    "    <tr>\n",
    "      <th>0</th>\n",
    "      <td>Asian</td>\n",
    "      <td>find</td>\n",
    "      <td>116</td>\n",
    "      <td>192</td>\n",
    "    </tr>\n",
    "    <tr>\n",
    "      <th>1</th>\n",
    "      <td>Asian</td>\n",
    "      <td>nothing</td>\n",
    "      <td>76</td>\n",
    "      <td>192</td>\n",
    "    </tr>\n",
    "    <tr>\n",
    "      <th>2</th>\n",
    "      <td>Black</td>\n",
    "      <td>find</td>\n",
    "      <td>170</td>\n",
    "      <td>270</td>\n",
    "    </tr>\n",
    "    <tr>\n",
    "      <th>3</th>\n",
    "      <td>Black</td>\n",
    "      <td>nothing</td>\n",
    "      <td>100</td>\n",
    "      <td>270</td>\n",
    "    </tr>\n",
    "    <tr>\n",
    "      <th>4</th>\n",
    "      <td>Other</td>\n",
    "      <td>find</td>\n",
    "      <td>28</td>\n",
    "      <td>37</td>\n",
    "    </tr>\n",
    "    <tr>\n",
    "      <th>5</th>\n",
    "      <td>Other</td>\n",
    "      <td>nothing</td>\n",
    "      <td>9</td>\n",
    "      <td>37</td>\n",
    "    </tr>\n",
    "    <tr>\n",
    "      <th>6</th>\n",
    "      <td>White</td>\n",
    "      <td>find</td>\n",
    "      <td>1060</td>\n",
    "      <td>1740</td>\n",
    "    </tr>\n",
    "    <tr>\n",
    "      <th>7</th>\n",
    "      <td>White</td>\n",
    "      <td>nothing</td>\n",
    "      <td>680</td>\n",
    "      <td>1740</td>\n",
    "    </tr>\n",
    "  </tbody>\n",
    "</table>\n",
    "</div>"
   ]
  },
  {
   "cell_type": "markdown",
   "metadata": {},
   "source": [
    "Pandas also lets us join indexed arrays on their common indices, and that can often streamline more advanced database-style joins; but that counts as more advanced Pandas usage than we will cover here."
   ]
  }
 ],
 "metadata": {
  "kernelspec": {
   "display_name": "Python 3",
   "language": "python",
   "name": "python3"
  },
  "language_info": {
   "codemirror_mode": {
    "name": "ipython",
    "version": 3
   },
   "file_extension": ".py",
   "mimetype": "text/x-python",
   "name": "python",
   "nbconvert_exporter": "python",
   "pygments_lexer": "ipython3",
   "version": "3.8.5"
  }
 },
 "nbformat": 4,
 "nbformat_minor": 4
}
