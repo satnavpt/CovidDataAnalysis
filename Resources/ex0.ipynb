{
 "cells": [
  {
   "cell_type": "markdown",
   "metadata": {},
   "source": [
    "# Exercise 0: Python warmup (not assessed)"
   ]
  },
  {
   "cell_type": "markdown",
   "metadata": {},
   "source": [
    "## Using the autograder\n",
    "\n",
    "Run the following two lines, for example at the top of your notebook, to set up the grader. The questions are grouped by which section of the notes they're in, and here we're working on section `ex0`.\n",
    "```python\n",
    "import ucamcl\n",
    "GRADER = ucamcl.autograder('https://markmy.solutions', course='scicomp').subsection('ex0')\n",
    "```\n",
    "It will ask you to log in via Raven, and show you your progress so far.\n",
    "\n",
    "<div class=\"alert alert-danger\">\n",
    "    <strong>Note.</strong> If you get the error message\n",
    "<pre style=\"color:red; background-color:inherit;\">\n",
    "----> 1 import ucamcl\n",
    "ModuleNotFoundError: No module named 'ucamcl'\n",
    "</pre>\n",
    "    it means you need to install <code style=\"background-color:inherit\">ucamcl</code>. Install it from within Jupyter by running\n",
    "<pre style=\"background-color:inherit\">\n",
    "!pip install ucamcl\n",
    "</pre>\n",
    "It has been preinstalled on hub.cl.cam.ac.uk, but on other platforms you'll need to install it yourself. \n",
    "If you're running on your own machine, you only need to do this once. If you're running on Google Colab, for \n",
    "    example, you need to do it every time you get a new server.\n",
    "</div>"
   ]
  },
  {
   "cell_type": "markdown",
   "metadata": {},
   "source": [
    "Here's how questions are answered. The notebook tells you the code to run, to fetch the question and submit your answers.\n",
    "Give it a go!\n",
    "\n",
    "**Question (q0).**\n",
    "```python\n",
    "q = GRADER.fetch_question('q0')\n",
    "ans = ... # create a list with q.n copies of q.x\n",
    "GRADER.submit_answer(q, ans)\n",
    "```\n",
    "\n",
    "The reason you're asked to call `fetch_question` is so that different students work with different parameters. You also get different parameters each time you make a fresh attempt."
   ]
  },
  {
   "cell_type": "markdown",
   "metadata": {},
   "source": [
    "## Warmup questions\n",
    "\n",
    "<div class=\"alert alert-warning\">\n",
    "    These are optional warmup exercises, to get you used to Python coding. \n",
    "    For these questions there is no answer for you to submit. Insead, the autograder shows you model code.\n",
    "    View it like this:\n",
    "    <pre style=\"background-color:inherit\">\n",
    "q = GRADER.fetch_question('q1')\n",
    "print(q)\n",
    "    </pre>\n",
    "    </div>\n",
    "    "
   ]
  },
  {
   "cell_type": "markdown",
   "metadata": {},
   "source": [
    "**Question (q1)** from [notes 1 section 2.1](notes1_python.html#2.1-MATHS-AND-LOGIC). In Python, how do you ...\n",
    "\n",
    "* calculate the base 10 logarithm of 1200\n",
    "* calculate the tangent of 60 degrees\n",
    "* calculate the square root of -20"
   ]
  },
  {
   "cell_type": "markdown",
   "metadata": {},
   "source": [
    "**Question (q2)** from [notes 1 section 3.1](notes1_python.html#3.1-LISTS-AND-TUPLES). What is the difference between the two commented lines? Do they give the same result?\n",
    "```\n",
    "a = [1, 2, 'buckle my shoe']\n",
    "b = (a, 3, 4, 'knock at the door')\n",
    "# b[0].append('then')\n",
    "# b[0] = a + ['then']\n",
    "print(a, b)\n",
    "```"
   ]
  },
  {
   "cell_type": "markdown",
   "metadata": {},
   "source": [
    "**Question (q3)** from [notes 1 section 3.5](notes1_python.html#3.5-COMPREHENSIONS). If you go overboard with list comprehensions, your code becomes unreadable. What does the following code do? Here `rooms` is from the code in notes 1 section 3.4.\n",
    "```\n",
    "'\\n'.join(['Room {r} has {', '.join(occs)}}' \n",
    "          for r,occs in rooms.items() if r is not None])\n",
    "```"
   ]
  },
  {
   "cell_type": "markdown",
   "metadata": {},
   "source": [
    "**Question (q4)** from [notes 1 section 3.5](notes1_python.html#3.5-COMPREHENSIONS). Write a single line of code to sort the names in this list\n",
    "```\n",
    "names = ['adrian', 'chloe', 'guarav', 'shay', 'alexis', 'rebecca', 'zubin']\n",
    "```\n",
    "by length, breaking ties alphabetically, using list comprehension. \n",
    "\n",
    "_Hint: make a list of `(len(name), name)` then sort it,\n",
    "where `len(s)` gives the length of a string. When\n",
    "Python sorts a list of tuples, it uses [lexicographic ordering](https://en.wikipedia.org/wiki/Lexicographical_order)._"
   ]
  },
  {
   "cell_type": "markdown",
   "metadata": {},
   "source": [
    "**Question (q5)** from [notes 1 section 3.5](notes1_python.html#3.5-COMPREHENSIONS). Let $x$ be a list of numbers. Give a one-line expression to find the number of unique elements in $x$. _Hint: use a dictionary comprehension to create a dictionary whose keys are elements of $x$._"
   ]
  },
  {
   "cell_type": "markdown",
   "metadata": {},
   "source": [
    "**Question (q6)** from [notes 1 section 4.1](notes1_python.html#4.1-FUNCTIONS-AND-FUNCTIONAL-PROGRAMMING)<a name=\"lindley\"></a>. A simple queue can be simulated by the following equations. Let $q_t$ be the queue size just before timestep $t$, let the service rate be $C$, and let $a_t$ be the amount of work arriving at timestep $t$. Then\n",
    "$$\n",
    "q_{t+1} = \\max(q_t + a_t - C, 0).\n",
    "$$\n",
    "This is called Lindley's Recursion.\n",
    "Write a function `sim(q0,C,a)` to compute the queue sizes. It should accept\n",
    "an initial queue size `q0` and a list `a` consisting of $[a_0,a_1,\\dots,a_{t-1}]$,\n",
    "and it should return a list $[q_1,\\dots,q_t]$.\n",
    "For example, \n",
    "```\n",
    "sim(1, 3, [4, 1, 2, 8, 2, 3, 1])\n",
    "```\n",
    "should produce the answer\n",
    "```\n",
    "[2, 0, 0, 5, 4, 4, 2]\n",
    "```"
   ]
  },
  {
   "cell_type": "markdown",
   "metadata": {},
   "source": [
    "**Question (q7)** from [notes 1 sections 4.4](notes1_python.html#4.4-DYNAMIC-TYPING). We can represent a tree as a nested list, for example\n",
    "```\n",
    "x = [1,[[2,4,3],9],[5,[6,7],8]]\n",
    "```\n",
    "Define a function `maptree(f, x)` which applies a function `f` to every leaf of the tree.\n",
    "\n",
    "<img src=\"res/tree.svg\" style=\"height:7em\"></img>"
   ]
  }
 ],
 "metadata": {
  "kernelspec": {
   "display_name": "Python 3",
   "language": "python",
   "name": "python3"
  },
  "language_info": {
   "codemirror_mode": {
    "name": "ipython",
    "version": 3
   },
   "file_extension": ".py",
   "mimetype": "text/x-python",
   "name": "python",
   "nbconvert_exporter": "python",
   "pygments_lexer": "ipython3",
   "version": "3.8.5"
  }
 },
 "nbformat": 4,
 "nbformat_minor": 4
}
