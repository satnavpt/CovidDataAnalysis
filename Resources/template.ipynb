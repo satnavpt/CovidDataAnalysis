{
 "cells": [
  {
   "cell_type": "markdown",
   "metadata": {},
   "source": [
    "# Notebook template\n",
    "\n",
    "You will be assessed on \n",
    "your answers, and on whether you are able to explain your code. You will not be \n",
    "assessed on how neat your code is &mdash; though if your code is tangled then\n",
    "you'll make life hard for yourself, and you may have trouble explaining it.\n",
    "\n",
    "It's up to you to structure your notebooks however you like. Nonetheless, here is a suggestion."
   ]
  },
  {
   "cell_type": "markdown",
   "metadata": {},
   "source": [
    "## Section 1: code\n",
    "\n",
    "#### Initialization\n",
    "\n",
    "Start by importing any required modules. If you get an error message like\n",
    "```\n",
    "ModuleNotFoundError: No module named 'pandas'\n",
    "```\n",
    "it means you need to install it first (i.e. download it onto your system) before you can import it (i.e. use it within this Python session). If you're using [hub.cl.cam.ac.uk](https://hub.cl.cam.ac.uk) then you'll probably need to install the scientific computing libraries every time you start a new session."
   ]
  },
  {
   "cell_type": "code",
   "execution_count": null,
   "metadata": {},
   "outputs": [],
   "source": [
    "import numpy as np\n",
    "import pandas\n",
    "import matplotlib.pyplot as plt"
   ]
  },
  {
   "cell_type": "markdown",
   "metadata": {},
   "source": [
    "#### Run-once setup\n",
    "\n",
    "Load in any datasets you are using."
   ]
  },
  {
   "cell_type": "markdown",
   "metadata": {},
   "source": [
    "#### Implement your answers\n",
    "\n",
    "Code up your answers. If it's a question that depends on parameters, implement it as a function. Otherwise, just compute the answer as a value.\n",
    "\n",
    "Give your answers useful names."
   ]
  },
  {
   "cell_type": "code",
   "execution_count": 1,
   "metadata": {},
   "outputs": [],
   "source": [
    "# For Tick 2a question 1\n",
    "def pairs(n):\n",
    "    ..."
   ]
  },
  {
   "cell_type": "markdown",
   "metadata": {},
   "source": [
    "## Section 2: answer submission\n",
    "#### Initialize the autograder"
   ]
  },
  {
   "cell_type": "code",
   "execution_count": null,
   "metadata": {},
   "outputs": [],
   "source": [
    "# If the autograder isn't installed, you need to install it:\n",
    "!pip install ucamcl"
   ]
  },
  {
   "cell_type": "code",
   "execution_count": null,
   "metadata": {},
   "outputs": [],
   "source": [
    "import ucamcl\n",
    "GRADER = ucamcl.autograder('https://markmy.solutions', course='scicomp').subsection('tick2a')"
   ]
  },
  {
   "cell_type": "markdown",
   "metadata": {},
   "source": [
    "#### Answer the questions"
   ]
  },
  {
   "cell_type": "code",
   "execution_count": null,
   "metadata": {},
   "outputs": [],
   "source": [
    "q = GRADER.fetch_question('q1')\n",
    "m1,m2 = pairs(q.n)\n",
    "ans = {'n': len(np.unique(np.concatenate([m1,m2]))), 's': np.std(np.abs(m1-m2))}\n",
    "GRADER.submit_answer(q, ans)"
   ]
  }
 ],
 "metadata": {
  "kernelspec": {
   "display_name": "Python 3",
   "language": "python",
   "name": "python3"
  },
  "language_info": {
   "codemirror_mode": {
    "name": "ipython",
    "version": 3
   },
   "file_extension": ".py",
   "mimetype": "text/x-python",
   "name": "python",
   "nbconvert_exporter": "python",
   "pygments_lexer": "ipython3",
   "version": "3.6.9"
  }
 },
 "nbformat": 4,
 "nbformat_minor": 2
}
