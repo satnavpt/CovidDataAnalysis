{
 "cells": [
  {
   "cell_type": "markdown",
   "metadata": {},
   "source": [
    "# Numerical computation with numpy\n",
    "\n",
    "The main Python library for numerical work is [NumPy](http://www.numpy.org/).\n",
    "It’s vital to be\n",
    "familiar with it for almost any work in machine learning &mdash; the standard machine learning libraries like PyTorch need high performance numerical computation, and their libraries are designed to mimic NumPy.\n",
    "\n",
    "#### Contents\n",
    "\n",
    "* [1. Preamble](#1.-Preamble)\n",
    "* [2. Vectorized thinking](#2.-Vectorized-thinking)\n",
    "  * [2.1 A FIRST SESSION](#2.1-A-FIRST-SESSION)\n",
    "  * [2.2 VECTORIZED LIBRARY ROUTINES](#2.2-VECTORIZED-LIBRARY-ROUTINES)\n",
    "  * [2.3 FOR LOOPS CONSIDERED HARMFUL](#2.3-FOR-LOOPS-CONSIDERED-HARMFUL)\n",
    "* [3. Arrays](#3.-Arrays)\n",
    "  * [3.1 VECTORIZED OPERATIONS ON ARRAYS](#3.1-VECTORIZED-OPERATIONS-ON-ARRAYS)\n",
    "  * [3.2 ARRAY SLICING AND INDEXING](#3.2-ARRAY-SLICING-AND-INDEXING)\n",
    "  * [3.3 LINEAR ALGEBRA](#3.3-LINEAR-ALGEBRA)\n",
    "* [4. Simulation](#4.-Simulation)"
   ]
  },
  {
   "cell_type": "code",
   "execution_count": 1,
   "metadata": {},
   "outputs": [
    {
     "data": {
      "image/jpeg": "[encoded data removed]",
      "text/html": [
       "\n",
       "        <iframe\n",
       "            width=\"560\"\n",
       "            height=\"315\"\n",
       "            src=\"https://www.youtube.com/embed/HbbFrM2JhXc\"\n",
       "            frameborder=\"0\"\n",
       "            allowfullscreen\n",
       "        ></iframe>\n",
       "        "
      ],
      "text/plain": [
       "<IPython.lib.display.YouTubeVideo at 0x7f342875c940>"
      ]
     },
     "execution_count": 1,
     "metadata": {},
     "output_type": "execute_result"
    }
   ],
   "source": [
    "from IPython.display import YouTubeVideo\n",
    "YouTubeVideo('HbbFrM2JhXc', width=560, height=315)"
   ]
  },
  {
   "cell_type": "markdown",
   "metadata": {},
   "source": [
    "## 1. Preamble\n",
    "\n",
    "At the top of almost\n",
    "every piece of scientific computing work, we’ll import these standard modules. We’ll also give them\n",
    "short aliases so we can write e.g. np.foo rather than numpy.foo."
   ]
  },
  {
   "cell_type": "code",
   "execution_count": null,
   "metadata": {
    "scrolled": false
   },
   "outputs": [],
   "source": [
    "import numpy as np\n",
    "import matplotlib.pyplot as plt"
   ]
  },
  {
   "cell_type": "markdown",
   "metadata": {},
   "source": [
    "If you get an error message like\n",
    "<pre style=\"color:red;\">\n",
    "----> 1 import numpy as np\n",
    "ModuleNotFoundError: No module named 'numpy'\n",
    "</pre>\n",
    "it means you need to install the package. Install it from within Jupyter by running\n",
    "```python\n",
    "!pip install numpy\n",
    "```\n",
    "The relevant packages have been preinstalled on hub.cl.cam.ac.uk, but on other platforms you may need to install packages yourself. \n",
    "If you're running on your own machine, you only need to do this once. If you're running on Google Colab, for \n",
    "    example, you may need to do it over and over again, whenever the system allocates you a fresh server."
   ]
  },
  {
   "cell_type": "markdown",
   "metadata": {},
   "source": [
    "## 2. Vectorized thinking\n",
    "\n",
    "We saw Python lists in section 1. We can of course store numbers in Python lists: a list to store a\n",
    "vector, a list of lists to store a matrix, and so on. For scientific computing, this is not a good idea.\n",
    "\n",
    "* Python lists are flexible: they can store mixed data types e.g. integers mixed with strings and\n",
    "sublists and even functions. But this flexibility comes with a performance hit. For scientific\n",
    "computing, where we don’t need the flexibility, it’s better to use specialised classes for numeric\n",
    "vectors and arrays. When the machine knows what datatypes to expect, it can compute faster.\n",
    "\n",
    "* Mathematicians have lovely concise notation for vector algebra and matrices. By using specialised\n",
    "classes, we can use similar syntax in our code. This will be more concise and easier to\n",
    "debug, than if we used regular Python lists for everything.\n",
    "\n",
    "The core skill is _vectorized thinking_, which means writing our code in terms of functions that operate\n",
    "on entire vectors (or arrays) at once."
   ]
  },
  {
   "cell_type": "markdown",
   "metadata": {},
   "source": [
    "### 2.1 A FIRST SESSION"
   ]
  },
  {
   "cell_type": "code",
   "execution_count": null,
   "metadata": {
    "scrolled": false
   },
   "outputs": [],
   "source": [
    "x = np.array([1,2,5,3,2])     # [1, 2, 5, 3, 2]\n",
    "y = np.ones(5)                # [1.,1.,1.,1.,1.]\n",
    "z = np.arange(5)              # [0, 1, 2, 3, 4]\n",
    "\n",
    "# We can do maths on vectors, applying the operations elementwise\n",
    "# We can mix vectors and scalars\n",
    "(x + 1) * 2                   # [4, 6, 12, 8, 6]\n",
    "(x + y) * z                   # [0., 3.,12.,12.,12.]\n",
    "x >= 3                        # [False, False, True, True, False]\n",
    "np.where(x>=3, x, 3)          # [3, 3, 5, 3, 3]\n",
    "\n",
    "# Python slicing and indexing notation works\n",
    "x[:3]                         # [1, 2, 5]\n",
    "x[x>=3] = -10                 # x is now [1, 2, -10, -10, 2]"
   ]
  },
  {
   "cell_type": "markdown",
   "metadata": {},
   "source": [
    "All the elements of a numpy vector have to be the same type. It can be integer, or floating point, or\n",
    "boolean. To see the type of a vector, `x.dtype`. When you create an array, you can specify the `dtype`. To cast to another type, `x.astype(int)`."
   ]
  },
  {
   "cell_type": "code",
   "execution_count": null,
   "metadata": {
    "scrolled": false
   },
   "outputs": [],
   "source": [
    "(x>=2).dtype                  # bool\n",
    "np.array([1,2], dtype=float)  # [1.0, 2.0]\n",
    "(x>=2).astype(int)            # [0, 1, 0, 0, 1]"
   ]
  },
  {
   "cell_type": "markdown",
   "metadata": {},
   "source": [
    "### 2.2 VECTORIZED LIBRARY ROUTINES\n",
    "\n",
    "To be good at writing vectorized code, we need to know what sorts of calculations we can do on\n",
    "vectors. Here are some useful routines, and a [full reference](https://docs.scipy.org/doc/numpy/reference/routines.html#routines).\n",
    "\n",
    "To [create vectors](https://numpy.org/doc/stable/reference/routines.array-creation.html),\n",
    "* `np.array([1,2,3])` creates a numpy vector from a Python list\n",
    "* `np.zeros(n)`, `np.ones(n)`, `numpy.full(n,fill_value)`\n",
    "* `numpy.ones_like(a)` creates a vector of the same shape as a\n",
    "* `np.arange(n)` creates $[0,1,...,n-1]$\n",
    "* `np.linspace(start,stop,n)` creates n evenly-spaced points between start and stop inclusive, very\n",
    "useful for plotting\n",
    "\n",
    "\n",
    "For [maths](https://docs.scipy.org/doc/numpy/reference/routines.math.html#mathematical-functions) and\n",
    "[statistics](https://docs.scipy.org/doc/numpy/reference/routines.statistics.html),\n",
    "* Normal mathematical expressions work on vectors, and you can mix vectors and scalars\n",
    "* `np.sin`, `np.exp`, `np.floor`, …\n",
    "* `x @ y` gives the dot product, `np.linalg.norm(x)` is the norm\n",
    "* `np.sum`, `np.mean`, and `np.prod`; also `np.cumsum(x)` gives $[x_0, x_0 + x_1, x_0 + x_1 + x_2, \\dots ]$\n",
    "* `np.min(x)` and `np.max(x)` for the overall min and max; `np.minimum(x,y)` for the element-wise\n",
    "mininmum\n",
    "\n",
    "For random numbers, it's good practice to set the seed explicitly, so that your code is reproducible. That makes it much easier to debug. Call `rng = np.random.default_rng(x)` for some arbitrary integer seed `x`, and then use it to generate [random values of various types]:(https://numpy.org/doc/stable/reference/random/generator.html#simple-random-data)\n",
    "* `rng.random(n)` for $n$ floating point values in the range $[0,1]$\n",
    "* `rng.choice(a,n)` to pick $n$ elements at random from the list $a$\n",
    "\n"
   ]
  },
  {
   "cell_type": "markdown",
   "metadata": {},
   "source": [
    "**Worked example.** Here's an illustration: computing the [correlation coefficient](https://en.wikipedia.org/wiki/Pearson_correlation_coefficient) between two vectors $x$ and $y$,\n",
    "$$\n",
    "\\rho = \\frac{\\sum_i (x_i-\\bar{x})(y_i-\\bar{y})}{\\sqrt{\\sum_i(x_i-\\bar{x})^2} \\sqrt{\\sum_i (y_i-\\bar{y})^2}}\n",
    "$$\n",
    "where $x$ and $y$ have the same length $N$, and\n",
    "$$\n",
    "\\bar{x} = \\frac{1}{N} \\sum_i x_i, \\qquad\n",
    "\\bar{y} = \\frac{1}{N} \\sum_i y_y.\n",
    "$$\n",
    "Here are two implementations, one written in Python-style, one written in scientific computing style,\n",
    "to compute $\\rho$. The latter is roughly 15 times faster. (The [magic](http://ipython.readthedocs.io/en/stable/interactive/magics.html#magic-time) command `%%time` at the start of a\n",
    "cell makes the notebook print out the execution time.) \n",
    "\n",
    "<div style=\"font-size: 75%\">\n",
    "Although, if we really knew our way round numpy, we'd just use <a href=\"https://docs.scipy.org/doc/numpy/reference/generated/numpy.corrcoef.html#numpy.corrcoef\"><code>np.corrcoef</code></a>\n",
    "    </div>"
   ]
  },
  {
   "cell_type": "code",
   "execution_count": null,
   "metadata": {
    "scrolled": false
   },
   "outputs": [],
   "source": [
    "# Set up some parameters\n",
    "N = 10000000\n",
    "rand_seed = 161803\n",
    "\n",
    "# Assume numpy is already imported\n",
    "# Also load the libraries for pure Python code\n",
    "import math, random"
   ]
  },
  {
   "cell_type": "code",
   "execution_count": null,
   "metadata": {
    "scrolled": false
   },
   "outputs": [],
   "source": [
    "%%time\n",
    "# Python-style code\n",
    "\n",
    "random.seed(rand_seed)\n",
    "# Create two lists of random numbers, xs and ys\n",
    "xs = [random.random() for i in range(N)]\n",
    "ys = [xs[i] + random.random() for i in range(N)]\n",
    "# Compute the various terms involved in the formula\n",
    "xbar = sum(xs) / N # sum(list) is built into Python\n",
    "ybar = sum(ys) / N\n",
    "sxy = sum([(x-xbar)*(y-ybar) for x,y in zip(xs,ys)])\n",
    "sxx = sum([(x-xbar)**2 for x in xs])\n",
    "syy = sum([(y-ybar)**2 for y in ys])\n",
    "ρ = sxy / math.sqrt(sxx) / math.sqrt(syy)\n",
    "print(ρ)"
   ]
  },
  {
   "cell_type": "code",
   "execution_count": null,
   "metadata": {
    "scrolled": false
   },
   "outputs": [],
   "source": [
    "%%time\n",
    "# Vectorized code\n",
    "rng = np.random.default_rng(rand_seed)\n",
    "# Create two random vectors x and y\n",
    "x = rng.random(N)\n",
    "y = x + rng.random(N)\n",
    "# Compute the terms in the formula. Note: @ means ”dot product”\n",
    "xbar = np.sum(x) / N\n",
    "ybar = np.sum(y) / N\n",
    "ρ = ((x-xbar) @ (y-ybar)) / np.sqrt(np.sum((x-xbar)**2) * np.sum((y-ybar)**2))\n",
    "print(ρ)"
   ]
  },
  {
   "cell_type": "markdown",
   "metadata": {},
   "source": [
    "### 2.3 FOR LOOPS CONSIDERED HARMFUL\n",
    "\n",
    "Vectorized thinking isn’t just for mathematical formulae &mdash;\n",
    "there are all sorts of programming constructs\n",
    "that can be vectorized also. In general, whenever you find yourself writing a for loop or a\n",
    "Python [list comprehension](notes1_python.ipynb#listcomprehension), stop and see if you can vectorize your code. You’ll usually end up with something more flexible for scientific computing.\n",
    "\n",
    "Functions for indexing:\n",
    "* the usual [slice notation](notes1_python.ipynb#slice) works on numpy vectors, e.g. `x[:10]` or `x[10:]` or `x[:-3]`\n",
    "* `np.where(b)` gives a vector of indexes at which the boolean vector $b$ is True\n",
    "* index a vector using a vector of booleans, e.g. `x[y>5]`\n",
    "* index a vector using a vector of integers, e.g. `i=np.where(y>5); x[i]`\n",
    "* update part of a vector, e.g. `x[x<3] = x[x<3] + 10`\n",
    "* `np.concatenate([v1,v2])` concatenates two or more vectors\n",
    "\n",
    "General programming functions:\n",
    "* `len(x)` gives the length of a vector\n",
    "* `np.any`, `np.all`, and other [logic functions](https://docs.scipy.org/doc/numpy/reference/routines.logic.html#logic-functions)\n",
    "* `np.unique` returns the unique elements of a vector\n",
    "* `np.isin(x,vals)` returns a vector, the same shape as $\\textsf{x}$, recording whether or not each element of\n",
    "$\\textsf{x}$ is in $\\textsf{vals}$\n",
    "* `∼x` is logical negation, the equivalent of Python’s `not x`; also `(x & y)` and `(x | y)` both work\n",
    "* `np.count_nonzero(x)` counts the number of entries where $\\textsf{x}$ is $\\textsf{True}$ or non-zero\n",
    "* `x.sort()` sorts a vector in-place, and `np.sort(x)` creates a new vector which is a sorted version of\n",
    "$\\textsf{x}$\n",
    "* `np.argsort(x)` gives the vector of indexes that would put $\\textsf{x}$ in order, i.e. it produces an integer\n",
    "vector $\\textsf{i}$ such that $\\textsf{x[i]}$ is sorted; also see other [sorting functions](https://docs.scipy.org/doc/numpy/reference/routines.sort.html#sorting)\n",
    "* `np.argmax` and other [search functions](https://docs.scipy.org/doc/numpy/reference/routines.sort.html#searching)\n",
    "* `np.where(cond,x,y)` is the vectorized version of Python’s $\\textsf{x if cond else y}$\n",
    "* There are [vectorized string functions](https://numpy.org/doc/stable/reference/routines.char.html#module-numpy.char), for example `np.char.add(s1,s2)` and `np.char.lower(s)`\n",
    "\n",
    "Cheating\n",
    "* `g = np.vectorize(f)` is a vectorized version of an arbitrary Python function , so you can call $\\textsf{g(x)}$ on a vector $\\textsf{x}$. It gives you the nice vectorized syntax, but under the hood it's really a slow $\\textsf{for}$ loop, so avoid it if you can"
   ]
  },
  {
   "cell_type": "markdown",
   "metadata": {},
   "source": [
    "**Worked example.** Suppose we want to sort a vector of strings by length, breaking ties alphabetically.\n",
    "\n",
    "1. Get a vector with the length of each string. Digging around the documentation for string functions, we find `np.char.str_len`.\n",
    "2. Work out how to put lengths in order, breaking ties alphabetically by names. Digging around\n",
    "the documentation for sorting, we find `np.lexsort([y,x])`, which returns sorting indexes like\n",
    "$\\textsf{np.argsort(x)}$, but breaks ties in $\\textsf{x}$ by another vector $\\textsf{y}$. This is called lexicographical sorting.\n",
    "3. Pick out the names in the order specified by these indexes."
   ]
  },
  {
   "cell_type": "code",
   "execution_count": null,
   "metadata": {
    "scrolled": false
   },
   "outputs": [],
   "source": [
    "names = np.array(['alexis','chloe','guarav','shay','adrian','rebecca'])\n",
    "lengths = np.char.str_len(names)\n",
    "i = np.lexsort([names, lengths])\n",
    "names[i]"
   ]
  },
  {
   "cell_type": "markdown",
   "metadata": {},
   "source": [
    "## 3. Arrays\n",
    "\n",
    "NumPy supports matrices and higher-dimensional arrays. To enter a 2d array (i.e. a matrix) like\n",
    "$$\n",
    "a =\n",
    "\\begin{bmatrix}\n",
    "2.2 & 3.7 & 9.1\\\\\n",
    "−4 & 3.1 & 1.3\n",
    "\\end{bmatrix}\n",
    "$$\n",
    "we type in"
   ]
  },
  {
   "cell_type": "code",
   "execution_count": null,
   "metadata": {
    "scrolled": false
   },
   "outputs": [],
   "source": [
    "a = np.array([[2.2, 3.7, 9.1], [-4, 3.1, 1.3]])"
   ]
  },
  {
   "cell_type": "markdown",
   "metadata": {},
   "source": [
    "Use `a.shape` to find the dimensions of an array. In fact, vectors are nothing other than one-dimensional\n",
    "arrays, and their shape is a tuple of length 1. NumPy doesn’t have any concept of ‘row vector’ versus\n",
    "‘column vector’ &mdash; it’s only 2d arrays that can be described in that way."
   ]
  },
  {
   "cell_type": "code",
   "execution_count": null,
   "metadata": {
    "scrolled": false
   },
   "outputs": [],
   "source": [
    "a.shape                       # (2,3) — a matrix\n",
    "np.array([5,6,4]).shape       # (2,) — a vector\n",
    "np.array([[5,6,4]]).shape     # (1,3) — a row\n",
    "np.array([[5],[6],[4]]).shape # (3,1) — a column"
   ]
  },
  {
   "cell_type": "markdown",
   "metadata": {},
   "source": [
    "### 3.1 VECTORIZED OPERATIONS ON ARRAYS\n",
    "\n",
    "Most of the standard vectorized operations can be applied to arrays, though now you have a choice about which dimension to apply them to."
   ]
  },
  {
   "cell_type": "code",
   "execution_count": null,
   "metadata": {
    "scrolled": false
   },
   "outputs": [],
   "source": [
    "np.sum(a, axis=0)  # vector of column sums\n",
    "np.sum(a, axis=1)  # vector of tow sums\n",
    "np.sum(a)          # scalar with total sum"
   ]
  },
  {
   "cell_type": "markdown",
   "metadata": {},
   "source": [
    "### 3.2 ARRAY SLICING AND INDEXING\n",
    "\n",
    "To refer to a subarray, we can use an extended version of Python’s slice notation."
   ]
  },
  {
   "cell_type": "code",
   "execution_count": null,
   "metadata": {
    "scrolled": false
   },
   "outputs": [],
   "source": [
    "a[:, :2]                   # all rows, first two columns\n",
    "a[1, :]                    # second row (indexes start at 0), all columns\n",
    "a[1]                       # another way to fetch the second row\n",
    "a[:2, :2] = [[1,2],[3,4]]  # assign to a submatrix"
   ]
  },
  {
   "cell_type": "markdown",
   "metadata": {},
   "source": [
    "There are two ways to refer to an arbitrary set of elements inside the array, both known as [advanced\n",
    "indexing](https://docs.scipy.org/doc/numpy/reference/arrays.indexing.html#advanced-indexing)."
   ]
  },
  {
   "cell_type": "code",
   "execution_count": null,
   "metadata": {
    "scrolled": false
   },
   "outputs": [],
   "source": [
    "a = np.zeros((3,3), dtype=int)\n",
    "\n",
    "# Boolean advanced indexing\n",
    "i = np.array([[False,True,False],[True,False,False],[False,False,True]])\n",
    "a[i] = [6,7,8]\n",
    "\n",
    "# Integer advanced indexing\n",
    "ix,iy = [0,1,2], [1,0,2]\n",
    "a[ix,iy] = [6,7,8]\n",
    "\n",
    "# Both produce the same result."
   ]
  },
  {
   "cell_type": "markdown",
   "metadata": {},
   "source": [
    "<pre>array([[0, 6, 0],\n",
    "       [7, 0, 0],\n",
    "       [0, 0, 8]])</pre>"
   ]
  },
  {
   "cell_type": "markdown",
   "metadata": {},
   "source": [
    "For 1d vectors the only reshaping operations are slicing and concatenating, but for higher dimensional\n",
    "arrays there is a whole variety of [reshaping functions](https://docs.scipy.org/doc/numpy/reference/routines.array-manipulation.html#array-manipulation-routines) such as stacking, tiling, transposing, etc. The\n",
    "most useful operation is adding a new dimension, for example to turn a one-dimensional vector into\n",
    "a column vector. The second most useful is stacking vectors to form an array."
   ]
  },
  {
   "cell_type": "code",
   "execution_count": null,
   "metadata": {
    "scrolled": false
   },
   "outputs": [],
   "source": [
    "x = np.array([1,2,3])\n",
    "x[:, None]   # can also be written x[:, np.newaxis], or x[..., None]"
   ]
  },
  {
   "cell_type": "markdown",
   "metadata": {},
   "source": [
    "<pre>array([[1],\n",
    "       [2],\n",
    "       [3]])</pre>"
   ]
  },
  {
   "cell_type": "code",
   "execution_count": null,
   "metadata": {
    "scrolled": false
   },
   "outputs": [],
   "source": [
    "np.column_stack([[1,2], [3,4], [5,6]])"
   ]
  },
  {
   "cell_type": "markdown",
   "metadata": {},
   "source": [
    "<pre>array([[1, 3, 5],\n",
    "       [2, 4, 6]])</pre>"
   ]
  },
  {
   "cell_type": "markdown",
   "metadata": {},
   "source": [
    "NumPy also has a powerful tool called [broadcasting](https://docs.scipy.org/doc/numpy/user/basics.broadcasting.html) which generalizes ‘add a scalar to a vector’,\n",
    "and which is used a lot in more advanced array-manipulating code. It’s more advanced than we need\n",
    "for this course, but it’s used a lot in machine learning and it’s worth reading about. Here’s a simple\n",
    "example, normalizing a matrix so the columns sum to 1."
   ]
  },
  {
   "cell_type": "code",
   "execution_count": null,
   "metadata": {
    "scrolled": false
   },
   "outputs": [],
   "source": [
    "a = np.array([[3,2,8],[2,6,2]])\n",
    "colsums = np.sum(a, axis=0)\n",
    "a / colsums"
   ]
  },
  {
   "cell_type": "markdown",
   "metadata": {},
   "source": [
    "<pre>array([[0.6 , 0.25, 0.8 ],\n",
    "       [0.4 , 0.75, 0.2 ]])</pre>"
   ]
  },
  {
   "cell_type": "markdown",
   "metadata": {},
   "source": [
    "### 3.3 LINEAR ALGEBRA\n",
    "\n",
    "In Easter term you will study linear algebra in the Maths for Natural Sciences course. If you want to\n",
    "try out the maths, you’ll find relevant functions in [np.linalg](https://docs.scipy.org/doc/numpy/reference/routines.linalg.html) and [np.dual](https://docs.scipy.org/doc/numpy/reference/routines.dual.html).\n",
    "In particular, see [np.linalg.solve](https://docs.scipy.org/doc/numpy/reference/generated/numpy.linalg.solve.html) for solving systems of linear equations."
   ]
  },
  {
   "cell_type": "markdown",
   "metadata": {},
   "source": [
    "## 4. Simulation"
   ]
  },
  {
   "cell_type": "markdown",
   "metadata": {},
   "source": [
    "Simulation is a mainstay of scientific computing. A common style with numpy is to predefine an vector\n",
    "or array to store the results, one row per timestep, and then iterate over timesteps gradually filling in\n",
    "the array. (This is the one case where for loops are appropriate.) Here’s an example, a differential\n",
    "equation simulation. A standard model for an epidemic is the SIR model, which specifies how the number of Susceptible, Infectious, and Recovered people evolves over time. For a total population of size $N$,\n",
    "$$\n",
    "\\begin{aligned}\n",
    "\\frac{dS_t}{dt} &= -r_0 \\gamma \\frac{I_t S_t}{N}\\\\\n",
    "\\frac{dI_t}{dt} &= r_0 \\gamma \\frac{I_t S_t}{N} - \\gamma I_t\\\\\n",
    "\\frac{dR_t}{dt} &= \\gamma I_t,\n",
    "\\end{aligned}\n",
    "$$\n",
    "where $1/\\gamma$ is the time it takes for an infections person to recover. (These differential equations are for a \"friendly\" epidemic which is non-lethal and in which you can't get reinfected. Can you see how to modify them to include deaths and reinfections?)\n",
    "\n",
    "We might simulate this as follows."
   ]
  },
  {
   "cell_type": "code",
   "execution_count": 97,
   "metadata": {
    "scrolled": false
   },
   "outputs": [
    {
     "data": {
      "image/png": "[encoded data removed]",
      "text/plain": [
       "<Figure size 432x288 with 1 Axes>"
      ]
     },
     "metadata": {
      "needs_background": "light"
     },
     "output_type": "display_data"
    }
   ],
   "source": [
    "r0 = 1.5    # reproduction number\n",
    "γ = 1/10    # recovery time is 10 days\n",
    "T = 365     # total duration to simulate\n",
    "dt = 3      # time step granularity of simulation\n",
    "\n",
    "x0 = [99990.0, 10.0, 0.0]         # initial state\n",
    "\n",
    "# initialization\n",
    "num_iterations = np.ceil(T/dt).astype(int)\n",
    "res = np.zeros((num_iterations, 4))         # matrix to store t,S,I,R\n",
    "res[0,1:] = x0\n",
    "res[:,0] = np.arange(num_iterations) * dt\n",
    "\n",
    "# loop\n",
    "for i in range(1, num_iterations):\n",
    "    S,I,R = res[i-1, 1:]\n",
    "    N = S+I+R\n",
    "    d = np.array([-r0*γ*I*S/N, r0*γ*I*S/N-γ*I, γ*I])\n",
    "    res[i, 1:] = res[i-1, 1:] + d*dt\n",
    "    \n",
    "# plot the output (see section 3 for more about plotting)\n",
    "fig,ax = plt.subplots()\n",
    "for col,lbl in zip([1,2,3], ['S','I','R']):\n",
    "    ax.plot(res[:,0], res[:,col], label=lbl)\n",
    "plt.legend()\n",
    "plt.show()"
   ]
  },
  {
   "cell_type": "markdown",
   "metadata": {},
   "source": [
    "This simulation is simple and naive.\n",
    "* From a mathematical point of view it’s naive, because there are much more sophisticated [numerical\n",
    "methods for solving differential equations](https://docs.scipy.org/doc/scipy-0.13.0/reference/generated/scipy.integrate.ode.html).\n",
    "* From a computer science point of view this isn’t ideal, because the code tangles together the\n",
    "iteration logic with the logging logic. It should really be rewritten with lazy lists.\n",
    "* But from a scientific computing point of view, simulations like this are so easy to put together\n",
    "and learn from, that they are invaluable.\n",
    "\n",
    "What we have coded is called a _discrete-time simulation_, because time advances in fixed increments.\n",
    "In IA Algorithms you will study the ‘heap’ data structure, which is good simulation in which time is\n",
    "pegged to changes in state, called _event-driven simulation._"
   ]
  }
 ],
 "metadata": {
  "kernelspec": {
   "display_name": "Python 3",
   "language": "python",
   "name": "python3"
  },
  "language_info": {
   "codemirror_mode": {
    "name": "ipython",
    "version": 3
   },
   "file_extension": ".py",
   "mimetype": "text/x-python",
   "name": "python",
   "nbconvert_exporter": "python",
   "pygments_lexer": "ipython3",
   "version": "3.8.5"
  }
 },
 "nbformat": 4,
 "nbformat_minor": 4
}
