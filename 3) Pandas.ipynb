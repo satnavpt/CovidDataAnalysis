{
 "cells": [
  {
   "cell_type": "markdown",
   "metadata": {},
   "source": [
    "# Handling data with pandas\n",
    "\n",
    "Pandas is a rich expressive library for analyzing data. Plus it comes with a vast set of utilities. Once you're familiar with what pandas has to offer, you'll be able to do all sorts of data handling tasks by stringing together the right pandas commands.\n",
    "\n",
    "\n",
    "#### Contents\n",
    "* [1. Preamble](#1.-Preamble)\n",
    "* [2. What data looks like](#2.-What-data-looks-like)\n",
    "  * [2.1 MISSING VALUES](#2.1-MISSING-VALUES)\n",
    "* [3. Importing, exporting, and creating dataframes](#3.-Importing,-exporting,-and-creating-dataframes)\n",
    "* [4. Selecting and modifying data](#4.-Selecting-and-modifying-data)\n",
    "  * [4.1 LIKE A DICTIONARY](#4.1-LIKE-A-DICTIONARY)\n",
    "  * [4.2 LIKE A DATABASE TABLE](#4.2-LIKE-A-DATABASE-TABLE)\n",
    "  * [4.3 LIKE AN ARRAY](#4.3-LIKE-AN-ARRAY)\n",
    "* [5. Tabulations and indexed arrays](#5.-Tabulations-and-indexed-arrays)\n",
    "  * [5.1 DATAFRAME → INDEXED ARRAY](#5.1-DATAFRAME-→-INDEXED-ARRAY)\n",
    "  * [5.2 INDEXED ARRAY → DATAFRAME](#5.2-INDEXED-ARRAY-→-DATAFRAME)\n",
    "* [6. Merging dataframes](#6.-Merging-dataframes)\n",
    "  * [6.1 WITH DATABASE-STYLE JOINS](#6.1-WITH-DATABASE-STYLE-JOINS)\n",
    "  * [6.2 WITH PANDAS INDEXING](#6.2-WITH-PANDAS-INDEXING)"
   ]
  },
  {
   "cell_type": "code",
   "execution_count": 54,
   "metadata": {},
   "outputs": [
    {
     "data": {
      "image/jpeg": "[encoded data removed]",
      "text/html": [
       "\n",
       "        <iframe\n",
       "            width=\"560\"\n",
       "            height=\"315\"\n",
       "            src=\"https://www.youtube.com/embed/hKOkdgv6RkI\"\n",
       "            frameborder=\"0\"\n",
       "            allowfullscreen\n",
       "        ></iframe>\n",
       "        "
      ],
      "text/plain": [
       "<IPython.lib.display.YouTubeVideo at 0x16452947fa0>"
      ]
     },
     "execution_count": 54,
     "metadata": {},
     "output_type": "execute_result"
    }
   ],
   "source": [
    "from IPython.display import YouTubeVideo\n",
    "YouTubeVideo('hKOkdgv6RkI', width=560, height=315)"
   ]
  },
  {
   "cell_type": "markdown",
   "metadata": {},
   "source": [
    "## 1. Preamble\n",
    "\n",
    "At the top of almost every piece of data handling work, we’ll import these standard modules."
   ]
  },
  {
   "cell_type": "code",
   "execution_count": 55,
   "metadata": {},
   "outputs": [],
   "source": [
    "import numpy as np\n",
    "import pandas\n",
    "import matplotlib.pyplot as plt"
   ]
  },
  {
   "cell_type": "markdown",
   "metadata": {},
   "source": [
    "The running example for this section is a dataset of stop-and-search records, [made available by the\n",
    "UK home office](https://data.police.uk/data/). As it’s a moderate-sized file (172MB) I like to download it to disk, so it’s fast to\n",
    "reread it each time I restart the notebook. Here’s how we can fetch a file from a url, using the Unix\n",
    "command-line tool `wget`. (The exclamation mark `!wget` in the code below is called a [Jupyter magic](http://ipython.readthedocs.io/en/stable/interactive/magics.html), and it means “Treat this\n",
    "line as though it were executed at the command prompt”. In IB Unix Tools you’ll learn more about\n",
    "the Unix command line.)"
   ]
  },
  {
   "cell_type": "code",
   "execution_count": 56,
   "metadata": {},
   "outputs": [
    {
     "name": "stdout",
     "output_type": "stream",
     "text": [
      "file already downloaded\n"
     ]
    }
   ],
   "source": [
    "# Execute a unix command to download a file (if it’s not already\n",
    "# downloaded), and show download progress\n",
    "import os.path\n",
    "if os.path.exists('stop-and-search.csv'):\n",
    "    print(\"file already downloaded\")\n",
    "else:\n",
    "    !wget \"https://www.cl.cam.ac.uk/teaching/2021/DataSci/data/stop-and-search.csv\""
   ]
  },
  {
   "cell_type": "markdown",
   "metadata": {},
   "source": [
    "## 2. What data looks like"
   ]
  },
  {
   "cell_type": "markdown",
   "metadata": {},
   "source": [
    "We almost always work with data in the form of a spreadsheet-like table, referred to as a _dataframe_.\n",
    "A dataframe is a collection of named columns. Each column has the same length, and all entries in a\n",
    "column have the same type, though different columns may have different types. Pandas uses numpy\n",
    "to store columns, so it’s reasonably fast.\n",
    "\n",
    "Here’s how to load a dataframe from a file using `pandas.read_csv`, and how to inspect it. (This\n",
    "dataframe will be used as a running example in the rest of this notebook.) The Pandas library is full of\n",
    "handy utilities like $\\textsf{read_csv}$."
   ]
  },
  {
   "cell_type": "code",
   "execution_count": 57,
   "metadata": {},
   "outputs": [
    {
     "name": "stdout",
     "output_type": "stream",
     "text": [
      "This dataset has 1013915 rows\n",
      "Index(['force', 'month', 'age_range', 'datetime', 'gender', 'involved_person',\n",
      "       'legislation', 'location', 'location_latitude', 'location_longitude',\n",
      "       'location_street_id', 'location_street_name', 'object_of_search',\n",
      "       'officer_defined_ethnicity', 'operation', 'operation_name', 'outcome',\n",
      "       'outcome_linked_to_object_of_search', 'outcome_object_id',\n",
      "       'outcome_object_name', 'removal_of_more_than_outer_clothing',\n",
      "       'self_defined_ethnicity', 'type'],\n",
      "      dtype='object')\n"
     ]
    },
    {
     "data": {
      "text/html": [
       "<div>\n",
       "<style scoped>\n",
       "    .dataframe tbody tr th:only-of-type {\n",
       "        vertical-align: middle;\n",
       "    }\n",
       "\n",
       "    .dataframe tbody tr th {\n",
       "        vertical-align: top;\n",
       "    }\n",
       "\n",
       "    .dataframe thead th {\n",
       "        text-align: right;\n",
       "    }\n",
       "</style>\n",
       "<table border=\"1\" class=\"dataframe\">\n",
       "  <thead>\n",
       "    <tr style=\"text-align: right;\">\n",
       "      <th></th>\n",
       "      <th>force</th>\n",
       "      <th>month</th>\n",
       "      <th>age_range</th>\n",
       "      <th>datetime</th>\n",
       "      <th>gender</th>\n",
       "      <th>involved_person</th>\n",
       "      <th>legislation</th>\n",
       "      <th>location</th>\n",
       "      <th>location_latitude</th>\n",
       "      <th>location_longitude</th>\n",
       "      <th>...</th>\n",
       "      <th>officer_defined_ethnicity</th>\n",
       "      <th>operation</th>\n",
       "      <th>operation_name</th>\n",
       "      <th>outcome</th>\n",
       "      <th>outcome_linked_to_object_of_search</th>\n",
       "      <th>outcome_object_id</th>\n",
       "      <th>outcome_object_name</th>\n",
       "      <th>removal_of_more_than_outer_clothing</th>\n",
       "      <th>self_defined_ethnicity</th>\n",
       "      <th>type</th>\n",
       "    </tr>\n",
       "  </thead>\n",
       "  <tbody>\n",
       "    <tr>\n",
       "      <th>0</th>\n",
       "      <td>bedfordshire</td>\n",
       "      <td>2019-08</td>\n",
       "      <td>18-24</td>\n",
       "      <td>2019-08-01T00:30:00+00:00</td>\n",
       "      <td>Male</td>\n",
       "      <td>True</td>\n",
       "      <td>Misuse of Drugs Act 1971 (section 23)</td>\n",
       "      <td>NaN</td>\n",
       "      <td>51.890579</td>\n",
       "      <td>-0.463753</td>\n",
       "      <td>...</td>\n",
       "      <td>Asian</td>\n",
       "      <td>False</td>\n",
       "      <td>NaN</td>\n",
       "      <td>Arrest</td>\n",
       "      <td>True</td>\n",
       "      <td>bu-arrest</td>\n",
       "      <td>Arrest</td>\n",
       "      <td>False</td>\n",
       "      <td>Other ethnic group - Not stated</td>\n",
       "      <td>Person and Vehicle search</td>\n",
       "    </tr>\n",
       "    <tr>\n",
       "      <th>1</th>\n",
       "      <td>bedfordshire</td>\n",
       "      <td>2019-08</td>\n",
       "      <td>18-24</td>\n",
       "      <td>2019-08-03T16:28:00+00:00</td>\n",
       "      <td>Male</td>\n",
       "      <td>True</td>\n",
       "      <td>Misuse of Drugs Act 1971 (section 23)</td>\n",
       "      <td>NaN</td>\n",
       "      <td>NaN</td>\n",
       "      <td>NaN</td>\n",
       "      <td>...</td>\n",
       "      <td>Other</td>\n",
       "      <td>False</td>\n",
       "      <td>NaN</td>\n",
       "      <td>Caution (simple or conditional)</td>\n",
       "      <td>True</td>\n",
       "      <td>bu-caution</td>\n",
       "      <td>Caution (simple or conditional)</td>\n",
       "      <td>False</td>\n",
       "      <td>White - Any other White background</td>\n",
       "      <td>Person search</td>\n",
       "    </tr>\n",
       "    <tr>\n",
       "      <th>2</th>\n",
       "      <td>bedfordshire</td>\n",
       "      <td>2019-08</td>\n",
       "      <td>NaN</td>\n",
       "      <td>2019-08-08T16:36:00+00:00</td>\n",
       "      <td>Male</td>\n",
       "      <td>True</td>\n",
       "      <td>Misuse of Drugs Act 1971 (section 23)</td>\n",
       "      <td>NaN</td>\n",
       "      <td>NaN</td>\n",
       "      <td>NaN</td>\n",
       "      <td>...</td>\n",
       "      <td>Asian</td>\n",
       "      <td>True</td>\n",
       "      <td>NaN</td>\n",
       "      <td>A no further action disposal</td>\n",
       "      <td>NaN</td>\n",
       "      <td>bu-no-further-action</td>\n",
       "      <td>A no further action disposal</td>\n",
       "      <td>False</td>\n",
       "      <td>NaN</td>\n",
       "      <td>Person search</td>\n",
       "    </tr>\n",
       "    <tr>\n",
       "      <th>3</th>\n",
       "      <td>bedfordshire</td>\n",
       "      <td>2019-08</td>\n",
       "      <td>10-17</td>\n",
       "      <td>2019-08-08T18:20:00+00:00</td>\n",
       "      <td>Male</td>\n",
       "      <td>True</td>\n",
       "      <td>Misuse of Drugs Act 1971 (section 23)</td>\n",
       "      <td>NaN</td>\n",
       "      <td>51.901584</td>\n",
       "      <td>-0.496446</td>\n",
       "      <td>...</td>\n",
       "      <td>Black</td>\n",
       "      <td>False</td>\n",
       "      <td>NaN</td>\n",
       "      <td>A no further action disposal</td>\n",
       "      <td>NaN</td>\n",
       "      <td>bu-no-further-action</td>\n",
       "      <td>A no further action disposal</td>\n",
       "      <td>False</td>\n",
       "      <td>Other ethnic group - Not stated</td>\n",
       "      <td>Person search</td>\n",
       "    </tr>\n",
       "    <tr>\n",
       "      <th>4</th>\n",
       "      <td>bedfordshire</td>\n",
       "      <td>2019-08</td>\n",
       "      <td>18-24</td>\n",
       "      <td>2019-08-08T20:50:26+00:00</td>\n",
       "      <td>Male</td>\n",
       "      <td>True</td>\n",
       "      <td>Misuse of Drugs Act 1971 (section 23)</td>\n",
       "      <td>NaN</td>\n",
       "      <td>NaN</td>\n",
       "      <td>NaN</td>\n",
       "      <td>...</td>\n",
       "      <td>Asian</td>\n",
       "      <td>False</td>\n",
       "      <td>NaN</td>\n",
       "      <td>A no further action disposal</td>\n",
       "      <td>NaN</td>\n",
       "      <td>bu-no-further-action</td>\n",
       "      <td>A no further action disposal</td>\n",
       "      <td>False</td>\n",
       "      <td>Asian/Asian British - Any other Asian background</td>\n",
       "      <td>Person search</td>\n",
       "    </tr>\n",
       "  </tbody>\n",
       "</table>\n",
       "<p>5 rows × 23 columns</p>\n",
       "</div>"
      ],
      "text/plain": [
       "          force    month age_range                   datetime gender  \\\n",
       "0  bedfordshire  2019-08     18-24  2019-08-01T00:30:00+00:00   Male   \n",
       "1  bedfordshire  2019-08     18-24  2019-08-03T16:28:00+00:00   Male   \n",
       "2  bedfordshire  2019-08       NaN  2019-08-08T16:36:00+00:00   Male   \n",
       "3  bedfordshire  2019-08     10-17  2019-08-08T18:20:00+00:00   Male   \n",
       "4  bedfordshire  2019-08     18-24  2019-08-08T20:50:26+00:00   Male   \n",
       "\n",
       "   involved_person                            legislation  location  \\\n",
       "0             True  Misuse of Drugs Act 1971 (section 23)       NaN   \n",
       "1             True  Misuse of Drugs Act 1971 (section 23)       NaN   \n",
       "2             True  Misuse of Drugs Act 1971 (section 23)       NaN   \n",
       "3             True  Misuse of Drugs Act 1971 (section 23)       NaN   \n",
       "4             True  Misuse of Drugs Act 1971 (section 23)       NaN   \n",
       "\n",
       "   location_latitude  location_longitude  ...  officer_defined_ethnicity  \\\n",
       "0          51.890579           -0.463753  ...                      Asian   \n",
       "1                NaN                 NaN  ...                      Other   \n",
       "2                NaN                 NaN  ...                      Asian   \n",
       "3          51.901584           -0.496446  ...                      Black   \n",
       "4                NaN                 NaN  ...                      Asian   \n",
       "\n",
       "  operation operation_name                          outcome  \\\n",
       "0     False            NaN                           Arrest   \n",
       "1     False            NaN  Caution (simple or conditional)   \n",
       "2      True            NaN     A no further action disposal   \n",
       "3     False            NaN     A no further action disposal   \n",
       "4     False            NaN     A no further action disposal   \n",
       "\n",
       "  outcome_linked_to_object_of_search     outcome_object_id  \\\n",
       "0                               True             bu-arrest   \n",
       "1                               True            bu-caution   \n",
       "2                                NaN  bu-no-further-action   \n",
       "3                                NaN  bu-no-further-action   \n",
       "4                                NaN  bu-no-further-action   \n",
       "\n",
       "               outcome_object_name removal_of_more_than_outer_clothing  \\\n",
       "0                           Arrest                               False   \n",
       "1  Caution (simple or conditional)                               False   \n",
       "2     A no further action disposal                               False   \n",
       "3     A no further action disposal                               False   \n",
       "4     A no further action disposal                               False   \n",
       "\n",
       "                             self_defined_ethnicity                       type  \n",
       "0                   Other ethnic group - Not stated  Person and Vehicle search  \n",
       "1                White - Any other White background              Person search  \n",
       "2                                               NaN              Person search  \n",
       "3                   Other ethnic group - Not stated              Person search  \n",
       "4  Asian/Asian British - Any other Asian background              Person search  \n",
       "\n",
       "[5 rows x 23 columns]"
      ]
     },
     "execution_count": 57,
     "metadata": {},
     "output_type": "execute_result"
    }
   ],
   "source": [
    "# Import a dataframe using the pandas library\n",
    "stopsearch = pandas.read_csv('stop-and-search.csv')\n",
    "\n",
    "# How many rows are there?\n",
    "print(f\"This dataset has {len(stopsearch)} rows\")\n",
    "\n",
    "# What are the columns?\n",
    "print(stopsearch.columns)\n",
    "\n",
    "# Display the first 5 rows. iloc[:5] means ”select the first five rows”\n",
    "# (not all columns fit on this page)\n",
    "stopsearch.iloc[:5]"
   ]
  },
  {
   "cell_type": "markdown",
   "metadata": {},
   "source": [
    "### 2.1 MISSING VALUES\n",
    "\n",
    "Missing values (as in the third entry in the $\\textsf{age_range}$ column above) are a fact of life in data science.\n",
    "They should really be supported by Python itself, but they aren’t, so Pandas adopts its own conventions:\n",
    "it uses either $\\textsf{np.nan}$ (the IEEE floating point for ‘Not A Number’), or $\\textsf{None}$ (the built-in Python value\n",
    "commonly used to denote ‘no return value’). It’s best to use $\\textsf{np.nan}$ when the underlying column is a\n",
    "numpy vector of floating point values, but for other column types it doesn’t matter which is used. To\n",
    "determine whether values are missing, use `pandas.isna`."
   ]
  },
  {
   "cell_type": "code",
   "execution_count": 58,
   "metadata": {},
   "outputs": [
    {
     "data": {
      "text/plain": [
       "115354"
      ]
     },
     "execution_count": 58,
     "metadata": {},
     "output_type": "execute_result"
    }
   ],
   "source": [
    "pandas.isna(stopsearch.age_range[:5]) # returns [False,False,True,False,False]\n",
    "\n",
    "sum(pandas.isna(stopsearch.age_range)) # count number of missing values"
   ]
  },
  {
   "cell_type": "markdown",
   "metadata": {},
   "source": [
    "## 3. Importing, exporting, and creating dataframes\n",
    "\n",
    "In my experience, around 70% of the time you spend working with data will be fighting to import it\n",
    "and clean it up. See the supplementary notebooks for a collection of recipes for web scraping, reading from a\n",
    "database, and parsing log files.\n",
    "\n",
    "The simplest case is when you have a nice simple comma-separated value (CSV) file. A CSV file looks like\n",
    "this:\n",
    "```\n",
    "\"Sepal.Length\",\"Sepal.Width\",\"Petal.Length\",\"Petal.Width\",\"Species\"\n",
    "5.1,3.5,1.4,0.2,\"setosa\"\n",
    "4.9,3,1.4,0.2,\"setosa\"\n",
    "4.7,3.2,1.3,0.2,\"setosa\"\n",
    "4.6,3.1,1.5,0.2,\"setosa\"\n",
    "5,3.6,1.4,0.2,\"setosa\"\n",
    "```\n",
    "i.e. a header line, then one line per row of the data frame, with values separated by commas. We’ve\n",
    "already seen how to import a CSV, using [`pandas.read_csv`](https://pandas.pydata.org/pandas-docs/stable/generated/pandas.read_csv.html). If your file is nearly a CSV but has some\n",
    "quirks such as comments or a missing header row, experiment with that function’s 55 options. We can\n",
    "use the same function to read CSV files from remote url:"
   ]
  },
  {
   "cell_type": "code",
   "execution_count": 59,
   "metadata": {},
   "outputs": [],
   "source": [
    "url = 'https://www.cl.cam.ac.uk/teaching/2021/DataSci/data/iris.csv'\n",
    "iris = pandas.read_csv(url)"
   ]
  },
  {
   "cell_type": "markdown",
   "metadata": {},
   "source": [
    "To write a CSV file,"
   ]
  },
  {
   "cell_type": "code",
   "execution_count": 60,
   "metadata": {},
   "outputs": [],
   "source": [
    "iris.to_csv('iris.csv', index=False)"
   ]
  },
  {
   "cell_type": "markdown",
   "metadata": {},
   "source": [
    "To create a dataframe from scratch, pass in a dictionary of columns. You can optionally specify the column order you want with the columns argument."
   ]
  },
  {
   "cell_type": "code",
   "execution_count": 61,
   "metadata": {},
   "outputs": [],
   "source": [
    "iris = pandas.DataFrame({\n",
    "'species': ['setosa', 'virginica', 'virginica', 'setosa', 'versicolor'],\n",
    "'Petal.length': [1.0, 5.0, 5.8, 1.7, 4.2],\n",
    "'Petal.width': [0.2, 1.9, 1.6, 0.5, 1.2]\n",
    "},\n",
    "columns = ['Petal.length', 'Petal.width', 'species'])"
   ]
  },
  {
   "cell_type": "markdown",
   "metadata": {},
   "source": [
    "Or you can create a dataframe from a list of tuples. Now the columns argument is needed to say what\n",
    "the column names are."
   ]
  },
  {
   "cell_type": "code",
   "execution_count": 62,
   "metadata": {},
   "outputs": [],
   "source": [
    "iris = pandas.DataFrame([\n",
    "('setosa', 1.0, 0.2), ('virginica', 5.0, 1.9), ('virginica', 5.8, 1.6),\n",
    "('setosa', 1.7, 0.5), ('versicolor', 4.2, 1.2)\n",
    "],\n",
    "columns = ['species', 'Petal.length', 'Petal.width'])"
   ]
  },
  {
   "cell_type": "markdown",
   "metadata": {},
   "source": [
    "## 4. Selecting and modifying data\n",
    "\n",
    "Data frames have a triple identity:\n",
    "* they’re like a dictionary, where the keys are column names and the values are numpy vectors,\n",
    "and we can add, modify, or remove entire columns\n",
    "* they’re like a database table, and we can select subtables by row and/or column\n",
    "* they’re like an array, and we can select parts of the dataframe based on row indexes."
   ]
  },
  {
   "cell_type": "markdown",
   "metadata": {},
   "source": [
    "### 4.1 LIKE A DICTIONARY\n",
    "\n",
    "We can access entire columns as though the dataframe is a dictionary."
   ]
  },
  {
   "cell_type": "raw",
   "metadata": {},
   "source": [
    "stopsearch.columns          # get a list of column names\n",
    "stopsearch.keys()           # … and another way to do the same\n",
    "x = stopsearch['outcome']   # get a single column\n",
    "x = stopsearch.outcome      # … and another way to do the same\n",
    "del stopsearch['location']  # delete a column\n",
    "# add or modify a column\n",
    "stopsearch['outcome_N'] = np.where(stopsearch.outcome == 'False', 0, 1)"
   ]
  },
  {
   "cell_type": "code",
   "execution_count": null,
   "metadata": {},
   "outputs": [],
   "source": []
  },
  {
   "cell_type": "markdown",
   "metadata": {},
   "source": [
    "The columns aren't just numpy vectors, they're pandas [Series](https://pandas.pydata.org/pandas-docs/stable/reference/api/pandas.Series.html) objects. They support many additional real-world data-handling operations that are missing from plain numpy. For example\n",
    "* `Series.str.startswith` and [many other vectorized string operations](https://pandas.pydata.org/pandas-docs/stable/reference/series.html#api-series-str)\n",
    "* Convert strings to timestamps with [`pandas.to_datetime`](https://pandas.pydata.org/pandas-docs/stable/reference/api/pandas.to_datetime.html) and then use the [many datetime operations](https://pandas.pydata.org/pandas-docs/stable/reference/series.html#api-series-dt)\n",
    "* [`Series.replace`](https://pandas.pydata.org/pandas-docs/stable/reference/api/pandas.Series.replace.html) to replace elements, as shown below"
   ]
  },
  {
   "cell_type": "code",
   "execution_count": 64,
   "metadata": {},
   "outputs": [
    {
     "name": "stdout",
     "output_type": "stream",
     "text": [
      "18-24       332948\n",
      "25-34       210811\n",
      "10-17       184908\n",
      "over 34     169398\n",
      "under 10       496\n",
      "Name: age_range, dtype: int64\n",
      "21.5    332948\n",
      "30.0    210811\n",
      "14.0    184908\n",
      "40.0    169398\n",
      "8.0        496\n",
      "Name: age, dtype: int64\n"
     ]
    }
   ],
   "source": [
    "# list all the non-NA values, and their counts\n",
    "print(stopsearch['age_range'].value_counts())\n",
    "# replace all the string age-ranges with numbers\n",
    "r = {'18-24':21.5, '10-17':14, '25-34':30, 'over 34':40, 'under 10':8}\n",
    "stopsearch['age'] = stopsearch['age_range'].replace(r)\n",
    "print(stopsearch['age'].value_counts())"
   ]
  },
  {
   "cell_type": "markdown",
   "metadata": {},
   "source": [
    "### 4.2 LIKE A DATABASE TABLE\n",
    "\n",
    "We can obtain a new dataframe by selecting a subset of rows and/or columns,\n",
    "using `.loc`."
   ]
  },
  {
   "cell_type": "code",
   "execution_count": 65,
   "metadata": {},
   "outputs": [
    {
     "data": {
      "text/html": [
       "<div>\n",
       "<style scoped>\n",
       "    .dataframe tbody tr th:only-of-type {\n",
       "        vertical-align: middle;\n",
       "    }\n",
       "\n",
       "    .dataframe tbody tr th {\n",
       "        vertical-align: top;\n",
       "    }\n",
       "\n",
       "    .dataframe thead th {\n",
       "        text-align: right;\n",
       "    }\n",
       "</style>\n",
       "<table border=\"1\" class=\"dataframe\">\n",
       "  <thead>\n",
       "    <tr style=\"text-align: right;\">\n",
       "      <th></th>\n",
       "      <th>force</th>\n",
       "      <th>datetime</th>\n",
       "      <th>outcome</th>\n",
       "    </tr>\n",
       "  </thead>\n",
       "  <tbody>\n",
       "    <tr>\n",
       "      <th>1342</th>\n",
       "      <td>cambridgeshire</td>\n",
       "      <td>2019-08-01T05:15:29+00:00</td>\n",
       "      <td>A no further action disposal</td>\n",
       "    </tr>\n",
       "    <tr>\n",
       "      <th>1343</th>\n",
       "      <td>cambridgeshire</td>\n",
       "      <td>2019-08-01T13:28:35+00:00</td>\n",
       "      <td>Arrest</td>\n",
       "    </tr>\n",
       "    <tr>\n",
       "      <th>1344</th>\n",
       "      <td>cambridgeshire</td>\n",
       "      <td>2019-08-01T18:42:09+00:00</td>\n",
       "      <td>A no further action disposal</td>\n",
       "    </tr>\n",
       "    <tr>\n",
       "      <th>1345</th>\n",
       "      <td>cambridgeshire</td>\n",
       "      <td>2019-08-01T18:51:25+00:00</td>\n",
       "      <td>A no further action disposal</td>\n",
       "    </tr>\n",
       "    <tr>\n",
       "      <th>1346</th>\n",
       "      <td>cambridgeshire</td>\n",
       "      <td>2019-08-01T22:07:16+00:00</td>\n",
       "      <td>A no further action disposal</td>\n",
       "    </tr>\n",
       "    <tr>\n",
       "      <th>...</th>\n",
       "      <td>...</td>\n",
       "      <td>...</td>\n",
       "      <td>...</td>\n",
       "    </tr>\n",
       "    <tr>\n",
       "      <th>991406</th>\n",
       "      <td>cambridgeshire</td>\n",
       "      <td>2016-09-27T09:03:34+00:00</td>\n",
       "      <td>False</td>\n",
       "    </tr>\n",
       "    <tr>\n",
       "      <th>991407</th>\n",
       "      <td>cambridgeshire</td>\n",
       "      <td>2016-09-24T23:35:18+00:00</td>\n",
       "      <td>Suspect arrested</td>\n",
       "    </tr>\n",
       "    <tr>\n",
       "      <th>991408</th>\n",
       "      <td>cambridgeshire</td>\n",
       "      <td>2016-09-17T04:55:56+00:00</td>\n",
       "      <td>False</td>\n",
       "    </tr>\n",
       "    <tr>\n",
       "      <th>991409</th>\n",
       "      <td>cambridgeshire</td>\n",
       "      <td>2016-09-10T05:07:08+00:00</td>\n",
       "      <td>Suspect summonsed to court</td>\n",
       "    </tr>\n",
       "    <tr>\n",
       "      <th>991410</th>\n",
       "      <td>cambridgeshire</td>\n",
       "      <td>2016-09-11T01:53:16+00:00</td>\n",
       "      <td>False</td>\n",
       "    </tr>\n",
       "  </tbody>\n",
       "</table>\n",
       "<p>3864 rows × 3 columns</p>\n",
       "</div>"
      ],
      "text/plain": [
       "                 force                   datetime  \\\n",
       "1342    cambridgeshire  2019-08-01T05:15:29+00:00   \n",
       "1343    cambridgeshire  2019-08-01T13:28:35+00:00   \n",
       "1344    cambridgeshire  2019-08-01T18:42:09+00:00   \n",
       "1345    cambridgeshire  2019-08-01T18:51:25+00:00   \n",
       "1346    cambridgeshire  2019-08-01T22:07:16+00:00   \n",
       "...                ...                        ...   \n",
       "991406  cambridgeshire  2016-09-27T09:03:34+00:00   \n",
       "991407  cambridgeshire  2016-09-24T23:35:18+00:00   \n",
       "991408  cambridgeshire  2016-09-17T04:55:56+00:00   \n",
       "991409  cambridgeshire  2016-09-10T05:07:08+00:00   \n",
       "991410  cambridgeshire  2016-09-11T01:53:16+00:00   \n",
       "\n",
       "                             outcome  \n",
       "1342    A no further action disposal  \n",
       "1343                          Arrest  \n",
       "1344    A no further action disposal  \n",
       "1345    A no further action disposal  \n",
       "1346    A no further action disposal  \n",
       "...                              ...  \n",
       "991406                         False  \n",
       "991407              Suspect arrested  \n",
       "991408                         False  \n",
       "991409    Suspect summonsed to court  \n",
       "991410                         False  \n",
       "\n",
       "[3864 rows x 3 columns]"
      ]
     },
     "execution_count": 65,
     "metadata": {},
     "output_type": "execute_result"
    }
   ],
   "source": [
    "stopsearch.loc[:, ['force','datetime','outcome']]  # all rows, some cols\n",
    "stopsearch[['force','datetime','outcome']]         # … the same thing\n",
    "stopsearch.loc[stopsearch.force=='cambridgeshire'] # some rows, all cols\n",
    "stopsearch.loc[stopsearch.force=='cambridgeshire', # some rows, some cols\n",
    "               ['force','datetime','outcome']]"
   ]
  },
  {
   "cell_type": "markdown",
   "metadata": {},
   "source": [
    "If we want to select rows by row number, rather than by a boolean condition as above, we need .iloc."
   ]
  },
  {
   "cell_type": "code",
   "execution_count": 66,
   "metadata": {},
   "outputs": [
    {
     "data": {
      "text/html": [
       "<div>\n",
       "<style scoped>\n",
       "    .dataframe tbody tr th:only-of-type {\n",
       "        vertical-align: middle;\n",
       "    }\n",
       "\n",
       "    .dataframe tbody tr th {\n",
       "        vertical-align: top;\n",
       "    }\n",
       "\n",
       "    .dataframe thead th {\n",
       "        text-align: right;\n",
       "    }\n",
       "</style>\n",
       "<table border=\"1\" class=\"dataframe\">\n",
       "  <thead>\n",
       "    <tr style=\"text-align: right;\">\n",
       "      <th></th>\n",
       "      <th>force</th>\n",
       "      <th>month</th>\n",
       "      <th>age_range</th>\n",
       "      <th>datetime</th>\n",
       "      <th>gender</th>\n",
       "      <th>involved_person</th>\n",
       "      <th>legislation</th>\n",
       "      <th>location_latitude</th>\n",
       "      <th>location_longitude</th>\n",
       "      <th>location_street_id</th>\n",
       "      <th>...</th>\n",
       "      <th>operation_name</th>\n",
       "      <th>outcome</th>\n",
       "      <th>outcome_linked_to_object_of_search</th>\n",
       "      <th>outcome_object_id</th>\n",
       "      <th>outcome_object_name</th>\n",
       "      <th>removal_of_more_than_outer_clothing</th>\n",
       "      <th>self_defined_ethnicity</th>\n",
       "      <th>type</th>\n",
       "      <th>outcome_N</th>\n",
       "      <th>age</th>\n",
       "    </tr>\n",
       "  </thead>\n",
       "  <tbody>\n",
       "    <tr>\n",
       "      <th>870661</th>\n",
       "      <td>west-midlands</td>\n",
       "      <td>2017-03</td>\n",
       "      <td>18-24</td>\n",
       "      <td>2017-03-08T19:49:00+00:00</td>\n",
       "      <td>NaN</td>\n",
       "      <td>True</td>\n",
       "      <td>Police and Criminal Evidence Act 1984 (section 1)</td>\n",
       "      <td>52.429017</td>\n",
       "      <td>-1.816264</td>\n",
       "      <td>1249066.0</td>\n",
       "      <td>...</td>\n",
       "      <td>NaN</td>\n",
       "      <td>False</td>\n",
       "      <td>NaN</td>\n",
       "      <td>nothing</td>\n",
       "      <td>Nothing found - No further action</td>\n",
       "      <td>False</td>\n",
       "      <td>White - White British (W1)</td>\n",
       "      <td>Person search</td>\n",
       "      <td>0</td>\n",
       "      <td>21.5</td>\n",
       "    </tr>\n",
       "    <tr>\n",
       "      <th>616001</th>\n",
       "      <td>metropolitan</td>\n",
       "      <td>2018-02</td>\n",
       "      <td>NaN</td>\n",
       "      <td>2018-02-20T10:05:00+00:00</td>\n",
       "      <td>Male</td>\n",
       "      <td>True</td>\n",
       "      <td>Misuse of Drugs Act 1971 (section 23)</td>\n",
       "      <td>NaN</td>\n",
       "      <td>NaN</td>\n",
       "      <td>NaN</td>\n",
       "      <td>...</td>\n",
       "      <td>NaN</td>\n",
       "      <td>A no further action disposal</td>\n",
       "      <td>NaN</td>\n",
       "      <td>bu-no-further-action</td>\n",
       "      <td>A no further action disposal</td>\n",
       "      <td>NaN</td>\n",
       "      <td>Black/African/Caribbean/Black British - Caribbean</td>\n",
       "      <td>Person search</td>\n",
       "      <td>1</td>\n",
       "      <td>NaN</td>\n",
       "    </tr>\n",
       "    <tr>\n",
       "      <th>698335</th>\n",
       "      <td>kent</td>\n",
       "      <td>2017-10</td>\n",
       "      <td>18-24</td>\n",
       "      <td>2017-10-28T00:15:00+00:00</td>\n",
       "      <td>Male</td>\n",
       "      <td>True</td>\n",
       "      <td>Police and Criminal Evidence Act 1984 (section 1)</td>\n",
       "      <td>51.142831</td>\n",
       "      <td>0.868179</td>\n",
       "      <td>833369.0</td>\n",
       "      <td>...</td>\n",
       "      <td>NaN</td>\n",
       "      <td>Suspect arrested</td>\n",
       "      <td>False</td>\n",
       "      <td>arrest</td>\n",
       "      <td>Suspect arrested</td>\n",
       "      <td>NaN</td>\n",
       "      <td>White - English/Welsh/Scottish/Northern Irish/...</td>\n",
       "      <td>Person and Vehicle search</td>\n",
       "      <td>1</td>\n",
       "      <td>21.5</td>\n",
       "    </tr>\n",
       "    <tr>\n",
       "      <th>355849</th>\n",
       "      <td>metropolitan</td>\n",
       "      <td>2018-12</td>\n",
       "      <td>over 34</td>\n",
       "      <td>2018-12-18T16:30:00+00:00</td>\n",
       "      <td>Female</td>\n",
       "      <td>True</td>\n",
       "      <td>Firearms Act 1968 (section 47)</td>\n",
       "      <td>51.605006</td>\n",
       "      <td>-0.095537</td>\n",
       "      <td>981579.0</td>\n",
       "      <td>...</td>\n",
       "      <td>NaN</td>\n",
       "      <td>A no further action disposal</td>\n",
       "      <td>NaN</td>\n",
       "      <td>bu-no-further-action</td>\n",
       "      <td>A no further action disposal</td>\n",
       "      <td>NaN</td>\n",
       "      <td>Black/African/Caribbean/Black British - Caribbean</td>\n",
       "      <td>Person search</td>\n",
       "      <td>1</td>\n",
       "      <td>40.0</td>\n",
       "    </tr>\n",
       "  </tbody>\n",
       "</table>\n",
       "<p>4 rows × 24 columns</p>\n",
       "</div>"
      ],
      "text/plain": [
       "                force    month age_range                   datetime  gender  \\\n",
       "870661  west-midlands  2017-03     18-24  2017-03-08T19:49:00+00:00     NaN   \n",
       "616001   metropolitan  2018-02       NaN  2018-02-20T10:05:00+00:00    Male   \n",
       "698335           kent  2017-10     18-24  2017-10-28T00:15:00+00:00    Male   \n",
       "355849   metropolitan  2018-12   over 34  2018-12-18T16:30:00+00:00  Female   \n",
       "\n",
       "        involved_person                                        legislation  \\\n",
       "870661             True  Police and Criminal Evidence Act 1984 (section 1)   \n",
       "616001             True              Misuse of Drugs Act 1971 (section 23)   \n",
       "698335             True  Police and Criminal Evidence Act 1984 (section 1)   \n",
       "355849             True                     Firearms Act 1968 (section 47)   \n",
       "\n",
       "        location_latitude  location_longitude  location_street_id  ...  \\\n",
       "870661          52.429017           -1.816264           1249066.0  ...   \n",
       "616001                NaN                 NaN                 NaN  ...   \n",
       "698335          51.142831            0.868179            833369.0  ...   \n",
       "355849          51.605006           -0.095537            981579.0  ...   \n",
       "\n",
       "       operation_name                       outcome  \\\n",
       "870661            NaN                         False   \n",
       "616001            NaN  A no further action disposal   \n",
       "698335            NaN              Suspect arrested   \n",
       "355849            NaN  A no further action disposal   \n",
       "\n",
       "       outcome_linked_to_object_of_search     outcome_object_id  \\\n",
       "870661                                NaN               nothing   \n",
       "616001                                NaN  bu-no-further-action   \n",
       "698335                              False                arrest   \n",
       "355849                                NaN  bu-no-further-action   \n",
       "\n",
       "                      outcome_object_name removal_of_more_than_outer_clothing  \\\n",
       "870661  Nothing found - No further action                               False   \n",
       "616001       A no further action disposal                                 NaN   \n",
       "698335                   Suspect arrested                                 NaN   \n",
       "355849       A no further action disposal                                 NaN   \n",
       "\n",
       "                                   self_defined_ethnicity  \\\n",
       "870661                         White - White British (W1)   \n",
       "616001  Black/African/Caribbean/Black British - Caribbean   \n",
       "698335  White - English/Welsh/Scottish/Northern Irish/...   \n",
       "355849  Black/African/Caribbean/Black British - Caribbean   \n",
       "\n",
       "                             type outcome_N   age  \n",
       "870661              Person search         0  21.5  \n",
       "616001              Person search         1   NaN  \n",
       "698335  Person and Vehicle search         1  21.5  \n",
       "355849              Person search         1  40.0  \n",
       "\n",
       "[4 rows x 24 columns]"
      ]
     },
     "execution_count": 66,
     "metadata": {},
     "output_type": "execute_result"
    }
   ],
   "source": [
    "stopsearch.iloc[:3]      # the first 3 rows\n",
    "stopsearch[:3]           # … and another way to do the same\n",
    "stopsearch.iloc[[0,3,5]] # select several rows\n",
    "stopsearch.iloc[[5]]     # returns a one-row dataframe\n",
    "stopsearch.sample(4)     # select 4 rows at random"
   ]
  },
  {
   "cell_type": "markdown",
   "metadata": {},
   "source": [
    "Row and column selectors can be combined."
   ]
  },
  {
   "cell_type": "code",
   "execution_count": 67,
   "metadata": {},
   "outputs": [
    {
     "data": {
      "text/html": [
       "<div>\n",
       "<style scoped>\n",
       "    .dataframe tbody tr th:only-of-type {\n",
       "        vertical-align: middle;\n",
       "    }\n",
       "\n",
       "    .dataframe tbody tr th {\n",
       "        vertical-align: top;\n",
       "    }\n",
       "\n",
       "    .dataframe thead th {\n",
       "        text-align: right;\n",
       "    }\n",
       "</style>\n",
       "<table border=\"1\" class=\"dataframe\">\n",
       "  <thead>\n",
       "    <tr style=\"text-align: right;\">\n",
       "      <th></th>\n",
       "      <th>force</th>\n",
       "      <th>datetime</th>\n",
       "      <th>outcome</th>\n",
       "    </tr>\n",
       "  </thead>\n",
       "  <tbody>\n",
       "    <tr>\n",
       "      <th>1342</th>\n",
       "      <td>cambridgeshire</td>\n",
       "      <td>2019-08-01T05:15:29+00:00</td>\n",
       "      <td>A no further action disposal</td>\n",
       "    </tr>\n",
       "    <tr>\n",
       "      <th>1343</th>\n",
       "      <td>cambridgeshire</td>\n",
       "      <td>2019-08-01T13:28:35+00:00</td>\n",
       "      <td>Arrest</td>\n",
       "    </tr>\n",
       "    <tr>\n",
       "      <th>1344</th>\n",
       "      <td>cambridgeshire</td>\n",
       "      <td>2019-08-01T18:42:09+00:00</td>\n",
       "      <td>A no further action disposal</td>\n",
       "    </tr>\n",
       "  </tbody>\n",
       "</table>\n",
       "</div>"
      ],
      "text/plain": [
       "               force                   datetime                       outcome\n",
       "1342  cambridgeshire  2019-08-01T05:15:29+00:00  A no further action disposal\n",
       "1343  cambridgeshire  2019-08-01T13:28:35+00:00                        Arrest\n",
       "1344  cambridgeshire  2019-08-01T18:42:09+00:00  A no further action disposal"
      ]
     },
     "execution_count": 67,
     "metadata": {},
     "output_type": "execute_result"
    }
   ],
   "source": [
    "wantcols = ['force','datetime','outcome']\n",
    "stopsearch.loc[stopsearch.force=='cambridgeshire', wantcols]\n",
    "stopsearch[wantcols].iloc[:3]\n",
    "stopsearch.loc[stopsearch.force=='cambridgeshire', wantcols].iloc[:3]"
   ]
  },
  {
   "cell_type": "markdown",
   "metadata": {},
   "source": [
    "To pull out a single row as a tuple, or to pull out a single value as a scalar, there is different syntax."
   ]
  },
  {
   "cell_type": "code",
   "execution_count": 68,
   "metadata": {},
   "outputs": [
    {
     "data": {
      "text/plain": [
       "force                                                           bedfordshire\n",
       "month                                                                2019-08\n",
       "age_range                                                              18-24\n",
       "datetime                                           2019-08-08T20:52:48+00:00\n",
       "gender                                                                  Male\n",
       "involved_person                                                         True\n",
       "legislation                            Misuse of Drugs Act 1971 (section 23)\n",
       "location_latitude                                                        NaN\n",
       "location_longitude                                                       NaN\n",
       "location_street_id                                                       NaN\n",
       "location_street_name                                                     NaN\n",
       "object_of_search                                            Controlled drugs\n",
       "officer_defined_ethnicity                                              Asian\n",
       "operation                                                              False\n",
       "operation_name                                                           NaN\n",
       "outcome                                         A no further action disposal\n",
       "outcome_linked_to_object_of_search                                       NaN\n",
       "outcome_object_id                                       bu-no-further-action\n",
       "outcome_object_name                             A no further action disposal\n",
       "removal_of_more_than_outer_clothing                                    False\n",
       "self_defined_ethnicity                     Asian/Asian British - Bangladeshi\n",
       "type                                                           Person search\n",
       "outcome_N                                                                  1\n",
       "age                                                                     21.5\n",
       "Name: 5, dtype: object"
      ]
     },
     "execution_count": 68,
     "metadata": {},
     "output_type": "execute_result"
    }
   ],
   "source": [
    "stopsearch['force'].iat[5] # a scalar for the specified column and row\n",
    "stopsearch.iloc[5]         # a tuple containing the values for row 5"
   ]
  },
  {
   "cell_type": "markdown",
   "metadata": {},
   "source": [
    "We can use these indexing operations to update a specific element in the dataframe—but  I think\n",
    "it’s cleaner to modify data using dictionary indexing, replacing an entire column, rather than hacking\n",
    "at individual elements.\n",
    "\n",
    "Sometimes pandas will tell us off, warning us that the operation may be inefficient."
   ]
  },
  {
   "cell_type": "code",
   "execution_count": 69,
   "metadata": {},
   "outputs": [
    {
     "name": "stderr",
     "output_type": "stream",
     "text": [
      "<ipython-input-69-f2bb12bf3298>:1: SettingWithCopyWarning: \n",
      "A value is trying to be set on a copy of a slice from a DataFrame\n",
      "\n",
      "See the caveats in the documentation: https://pandas.pydata.org/pandas-docs/stable/user_guide/indexing.html#returning-a-view-versus-a-copy\n",
      "  stopsearch['outcome_N'][0] = 2\n"
     ]
    }
   ],
   "source": [
    "stopsearch['outcome_N'][0] = 2"
   ]
  },
  {
   "cell_type": "markdown",
   "metadata": {},
   "source": [
    "<pre style=\"color:red\">\n",
    "SettingWithCopyWarning: \n",
    "A value is trying to be set on a copy of a slice from a DataFrame\n",
    "</pre>"
   ]
  },
  {
   "cell_type": "markdown",
   "metadata": {},
   "source": [
    "This means that we've taken a subset of the rows, and tried to set a variable. Pandas doesn't actually copy the dataframe when you take a subset of the rows, it shares the data with the original table. So, to suppress this warning, take a copy of the dataframe with `df=stopsearch.copy()`, and then modify\n",
    "the copy."
   ]
  },
  {
   "cell_type": "markdown",
   "metadata": {},
   "source": [
    "### 4.3 LIKE AN ARRAY\n",
    "\n",
    "There is a third way to select rows from a dataframe, which in my experience is the\n",
    "source of endless confusion: selecting by row index. When you see a Pandas dataframe printed out,\n",
    "there is a column at the left without a column name. These aren’t row numbers, they are row indexes,\n",
    "which behave like the keys in a dictionary. In all the examples we’ve seen so far the indexes happen\n",
    "to be numbers, but they could be any other Python object. Row indexes are there for the same reason\n",
    "database tables have indexes: they’re vital for efficient lookup. But we won’t be using them in this\n",
    "course.\n",
    "\n",
    "Pandas always keeps track of row indexes. Even when you pull out a single column, it doesn't give us a numpy vector, it gives us a Series object which is numpy-vector-plus-indexes.\n",
    "And it always tries to match indexes.\n",
    "This is usually not what we want, especially when we just want some plain simple arithmetic. **I recommend that you generally use `.values`\n",
    "when you are working with subsets of rows.** This gives you the actual numpy vector behind the\n",
    "column, not the confusing Series. We won’t be taking advantage of row\n",
    "indexes in this course, but it’s worth knowing they exist so you can understand the cryptic errors and\n",
    "error messages you will undoubtedly come across."
   ]
  },
  {
   "cell_type": "code",
   "execution_count": 70,
   "metadata": {},
   "outputs": [],
   "source": [
    "df = pandas.DataFrame({'x': [3,3,4,8,2]}, index=['a','b','c','d','e'])"
   ]
  },
  {
   "cell_type": "markdown",
   "metadata": {},
   "source": [
    "<div>\n",
    "<style scoped=\"\">\n",
    "    .dataframe tbody tr th:only-of-type {\n",
    "        vertical-align: middle;\n",
    "    }\n",
    "\n",
    "    .dataframe tbody tr th {\n",
    "        vertical-align: top;\n",
    "    }\n",
    "\n",
    "    .dataframe thead th {\n",
    "        text-align: right;\n",
    "    }\n",
    "</style>\n",
    "<table border=\"1\" class=\"dataframe\">\n",
    "  <thead>\n",
    "    <tr style=\"text-align: right;\">\n",
    "      <th></th>\n",
    "      <th>x</th>\n",
    "    </tr>\n",
    "  </thead>\n",
    "  <tbody>\n",
    "    <tr>\n",
    "      <th>a</th>\n",
    "      <td>3</td>\n",
    "    </tr>\n",
    "    <tr>\n",
    "      <th>b</th>\n",
    "      <td>3</td>\n",
    "    </tr>\n",
    "    <tr>\n",
    "      <th>c</th>\n",
    "      <td>4</td>\n",
    "    </tr>\n",
    "    <tr>\n",
    "      <th>d</th>\n",
    "      <td>8</td>\n",
    "    </tr>\n",
    "    <tr>\n",
    "      <th>e</th>\n",
    "      <td>2</td>\n",
    "    </tr>\n",
    "  </tbody>\n",
    "</table>\n",
    "</div>"
   ]
  },
  {
   "cell_type": "code",
   "execution_count": 71,
   "metadata": {},
   "outputs": [
    {
     "data": {
      "text/plain": [
       "a    NaN\n",
       "b    NaN\n",
       "c    8.0\n",
       "d    NaN\n",
       "e    NaN\n",
       "Name: x, dtype: float64"
      ]
     },
     "execution_count": 71,
     "metadata": {},
     "output_type": "execute_result"
    }
   ],
   "source": [
    "# This looks like it should add [3,3,4] and [4,8,2] … but it doesn’t!\n",
    "df['x'][:3] + df['x'][2:]"
   ]
  },
  {
   "cell_type": "markdown",
   "metadata": {},
   "source": [
    "<pre>a    NaN\n",
    "b    NaN\n",
    "c    8.0\n",
    "d    NaN\n",
    "e    NaN\n",
    "Name: x, dtype: float64</pre>"
   ]
  },
  {
   "cell_type": "code",
   "execution_count": 72,
   "metadata": {},
   "outputs": [
    {
     "data": {
      "text/plain": [
       "array([ 7, 11,  6], dtype=int64)"
      ]
     },
     "execution_count": 72,
     "metadata": {},
     "output_type": "execute_result"
    }
   ],
   "source": [
    "# To get the answer we were probably expecting,\n",
    "df['x'][:3].values + df['x'][-3:].values"
   ]
  },
  {
   "cell_type": "markdown",
   "metadata": {},
   "source": [
    "<pre>array([ 7, 11,  6])</pre>"
   ]
  },
  {
   "cell_type": "markdown",
   "metadata": {},
   "source": [
    "## 5. Tabulations and indexed arrays\n",
    "\n",
    "The pattern behind much data processing is split-apply-combine-join: split your data into pieces, apply\n",
    "a transformation to each piece, combine the pieces, and join results from different datasets together.\n",
    "We could code this explicitly with a ‘for’ loop, but it would involve lots of boilerplate code — and I\n",
    "hope you have been persuaded by the [NumPy notes](notes2_numpy.ipynb#2.3-FOR-LOOPS-CONSIDERED-HARMFUL) that ‘for’ loops are considered harmful. Instead, let’s\n",
    "see how to do it with Pandas."
   ]
  },
  {
   "cell_type": "markdown",
   "metadata": {},
   "source": [
    "### 5.1 DATAFRAME → INDEXED ARRAY\n",
    "\n",
    "The following line of code performs a cross-tabulation: it splits the data into a separate dataframe\n",
    "for each combination of officer-defined ethnicity and gender, applies the `len` function to each subdataframe\n",
    "to get the number of rows it contains, and combines the results into a single indexed object.\n",
    "\n",
    "* If we want to apply the function to a single column, pick it out after the groupby.\n",
    "\n",
    "* If we want to apply a more elaborate function, it's handy to define an anonymous function with `lambda`."
   ]
  },
  {
   "cell_type": "code",
   "execution_count": 84,
   "metadata": {},
   "outputs": [
    {
     "data": {
      "text/plain": [
       "officer_defined_ethnicity  gender\n",
       "Asian                      Female       7\n",
       "                           Male       179\n",
       "                           Other        1\n",
       "Black                      Female      10\n",
       "                           Male       257\n",
       "Other                      Female       6\n",
       "                           Male        28\n",
       "White                      Female     253\n",
       "                           Male      1465\n",
       "                           Other        5\n",
       "dtype: int64"
      ]
     },
     "execution_count": 84,
     "metadata": {},
     "output_type": "execute_result"
    }
   ],
   "source": [
    "# Select cambridgeshire records, then tabulate by ethnicity and gender\n",
    "df = stopsearch.loc[stopsearch.force=='cambridgeshire']\n",
    "x = df.groupby(['officer_defined_ethnicity', 'gender']).apply(len)\n",
    "x"
   ]
  },
  {
   "cell_type": "code",
   "execution_count": 74,
   "metadata": {},
   "outputs": [
    {
     "data": {
      "text/plain": [
       "gender\n",
       "Female    24.656682\n",
       "Male      24.628913\n",
       "Other     24.750000\n",
       "Name: age, dtype: float64"
      ]
     },
     "execution_count": 74,
     "metadata": {},
     "output_type": "execute_result"
    }
   ],
   "source": [
    "# Apply the np.mean function to the 'age' column, separately for each gender\n",
    "# (This assumes you've run the commands in 4.1 to define the age column, before defining df.)\n",
    "df.groupby('gender')['age'].apply(lambda x: np.mean(x))"
   ]
  },
  {
   "cell_type": "markdown",
   "metadata": {},
   "source": [
    "For this course, we will only apply functions that return simple Python values. It’s [possible but more\n",
    "complicated](http://pandas.pydata.org/pandas-docs/stable/groupby.html) to apply functions that return dataframes or Pandas columns or indexed arrays.\n",
    "\n",
    "The groupby/apply commands have produced an _indexed array_. An indexed array is a cross between a\n",
    "normal numpy array and a dataframe. We access elements and sub-arrays by dimension, like a numpy\n",
    "array — but the indexes aren’t integer positions, they’re values from the underlying column. Also, the\n",
    "array might be ‘incomplete’, as in the example above which has no entry for $\\textsf{['Black','Other']}$."
   ]
  },
  {
   "cell_type": "code",
   "execution_count": 75,
   "metadata": {},
   "outputs": [
    {
     "data": {
      "text/plain": [
       "officer_defined_ethnicity  gender\n",
       "Black                      Female      10\n",
       "                           Male       257\n",
       "White                      Female     253\n",
       "                           Male      1465\n",
       "                           Other        5\n",
       "dtype: int64"
      ]
     },
     "execution_count": 75,
     "metadata": {},
     "output_type": "execute_result"
    }
   ],
   "source": [
    "x.loc['Asian']           # select the sub-array of ethnicity Asian\n",
    "x.loc[:, 'Other']        # select the sub-array of gender Other\n",
    "x.loc[['Black','White']] # select two ethnicities, all genders"
   ]
  },
  {
   "cell_type": "markdown",
   "metadata": {},
   "source": [
    "The index labels can be accessed with `x.index.levels[0].values` and `x.index.levels[1].values`.\n",
    "To pretty-print an indexed array, use [unstack](https://pandas.pydata.org/pandas-docs/stable/generated/pandas.Series.unstack.html). It will by default fill in any missing values with $\\textsf{NaN}$\n",
    "(not a number), and you can override this with $\\textsf{fill_value}$."
   ]
  },
  {
   "cell_type": "code",
   "execution_count": 76,
   "metadata": {
    "scrolled": true
   },
   "outputs": [
    {
     "data": {
      "text/html": [
       "<div>\n",
       "<style scoped>\n",
       "    .dataframe tbody tr th:only-of-type {\n",
       "        vertical-align: middle;\n",
       "    }\n",
       "\n",
       "    .dataframe tbody tr th {\n",
       "        vertical-align: top;\n",
       "    }\n",
       "\n",
       "    .dataframe thead th {\n",
       "        text-align: right;\n",
       "    }\n",
       "</style>\n",
       "<table border=\"1\" class=\"dataframe\">\n",
       "  <thead>\n",
       "    <tr style=\"text-align: right;\">\n",
       "      <th>gender</th>\n",
       "      <th>Female</th>\n",
       "      <th>Male</th>\n",
       "      <th>Other</th>\n",
       "    </tr>\n",
       "    <tr>\n",
       "      <th>officer_defined_ethnicity</th>\n",
       "      <th></th>\n",
       "      <th></th>\n",
       "      <th></th>\n",
       "    </tr>\n",
       "  </thead>\n",
       "  <tbody>\n",
       "    <tr>\n",
       "      <th>Asian</th>\n",
       "      <td>7</td>\n",
       "      <td>179</td>\n",
       "      <td>1</td>\n",
       "    </tr>\n",
       "    <tr>\n",
       "      <th>Black</th>\n",
       "      <td>10</td>\n",
       "      <td>257</td>\n",
       "      <td>0</td>\n",
       "    </tr>\n",
       "    <tr>\n",
       "      <th>Other</th>\n",
       "      <td>6</td>\n",
       "      <td>28</td>\n",
       "      <td>0</td>\n",
       "    </tr>\n",
       "    <tr>\n",
       "      <th>White</th>\n",
       "      <td>253</td>\n",
       "      <td>1465</td>\n",
       "      <td>5</td>\n",
       "    </tr>\n",
       "  </tbody>\n",
       "</table>\n",
       "</div>"
      ],
      "text/plain": [
       "gender                     Female  Male  Other\n",
       "officer_defined_ethnicity                     \n",
       "Asian                           7   179      1\n",
       "Black                          10   257      0\n",
       "Other                           6    28      0\n",
       "White                         253  1465      5"
      ]
     },
     "execution_count": 76,
     "metadata": {},
     "output_type": "execute_result"
    }
   ],
   "source": [
    "x.unstack(fill_value=0)"
   ]
  },
  {
   "cell_type": "markdown",
   "metadata": {},
   "source": [
    "### 5.2 INDEXED ARRAY → DATAFRAME\n",
    "\n",
    "There are two ways to convert an indexed array to a dataframe, depending on the shape of the dataframe\n",
    "you want to end up with."
   ]
  },
  {
   "cell_type": "code",
   "execution_count": 77,
   "metadata": {},
   "outputs": [
    {
     "data": {
      "text/html": [
       "<div>\n",
       "<style scoped>\n",
       "    .dataframe tbody tr th:only-of-type {\n",
       "        vertical-align: middle;\n",
       "    }\n",
       "\n",
       "    .dataframe tbody tr th {\n",
       "        vertical-align: top;\n",
       "    }\n",
       "\n",
       "    .dataframe thead th {\n",
       "        text-align: right;\n",
       "    }\n",
       "</style>\n",
       "<table border=\"1\" class=\"dataframe\">\n",
       "  <thead>\n",
       "    <tr style=\"text-align: right;\">\n",
       "      <th></th>\n",
       "      <th>officer_defined_ethnicity</th>\n",
       "      <th>gender</th>\n",
       "      <th>count</th>\n",
       "    </tr>\n",
       "  </thead>\n",
       "  <tbody>\n",
       "    <tr>\n",
       "      <th>0</th>\n",
       "      <td>Black</td>\n",
       "      <td>Female</td>\n",
       "      <td>10</td>\n",
       "    </tr>\n",
       "    <tr>\n",
       "      <th>1</th>\n",
       "      <td>Black</td>\n",
       "      <td>Male</td>\n",
       "      <td>257</td>\n",
       "    </tr>\n",
       "    <tr>\n",
       "      <th>2</th>\n",
       "      <td>White</td>\n",
       "      <td>Female</td>\n",
       "      <td>253</td>\n",
       "    </tr>\n",
       "    <tr>\n",
       "      <th>3</th>\n",
       "      <td>White</td>\n",
       "      <td>Male</td>\n",
       "      <td>1465</td>\n",
       "    </tr>\n",
       "    <tr>\n",
       "      <th>4</th>\n",
       "      <td>White</td>\n",
       "      <td>Other</td>\n",
       "      <td>5</td>\n",
       "    </tr>\n",
       "  </tbody>\n",
       "</table>\n",
       "</div>"
      ],
      "text/plain": [
       "  officer_defined_ethnicity  gender  count\n",
       "0                     Black  Female     10\n",
       "1                     Black    Male    257\n",
       "2                     White  Female    253\n",
       "3                     White    Male   1465\n",
       "4                     White   Other      5"
      ]
     },
     "execution_count": 77,
     "metadata": {},
     "output_type": "execute_result"
    }
   ],
   "source": [
    "# Convert an indexed array into a long-form dataframe\n",
    "# -- the array values will become a column, and we can specify its name\n",
    "x[['Black','White']].reset_index(name='count')"
   ]
  },
  {
   "cell_type": "code",
   "execution_count": 78,
   "metadata": {},
   "outputs": [
    {
     "data": {
      "text/html": [
       "<div>\n",
       "<style scoped>\n",
       "    .dataframe tbody tr th:only-of-type {\n",
       "        vertical-align: middle;\n",
       "    }\n",
       "\n",
       "    .dataframe tbody tr th {\n",
       "        vertical-align: top;\n",
       "    }\n",
       "\n",
       "    .dataframe thead th {\n",
       "        text-align: right;\n",
       "    }\n",
       "</style>\n",
       "<table border=\"1\" class=\"dataframe\">\n",
       "  <thead>\n",
       "    <tr style=\"text-align: right;\">\n",
       "      <th></th>\n",
       "      <th>officer_defined_ethnicity</th>\n",
       "      <th>Female</th>\n",
       "      <th>Male</th>\n",
       "      <th>Other</th>\n",
       "    </tr>\n",
       "  </thead>\n",
       "  <tbody>\n",
       "    <tr>\n",
       "      <th>0</th>\n",
       "      <td>Black</td>\n",
       "      <td>10</td>\n",
       "      <td>257</td>\n",
       "      <td>0</td>\n",
       "    </tr>\n",
       "    <tr>\n",
       "      <th>1</th>\n",
       "      <td>White</td>\n",
       "      <td>253</td>\n",
       "      <td>1465</td>\n",
       "      <td>5</td>\n",
       "    </tr>\n",
       "  </tbody>\n",
       "</table>\n",
       "</div>"
      ],
      "text/plain": [
       "  officer_defined_ethnicity  Female  Male  Other\n",
       "0                     Black      10   257      0\n",
       "1                     White     253  1465      5"
      ]
     },
     "execution_count": 78,
     "metadata": {},
     "output_type": "execute_result"
    }
   ],
   "source": [
    "# Convert an indexed array into a wide-form dataframe.\n",
    "# (I'm using the line-continuation character \"\\\" so my code isn't a confusing one-liner)\n",
    "x[['Black','White']].unstack(fill_value=0) \\\n",
    ".reset_index() \\\n",
    ".rename_axis(None, axis=1)"
   ]
  },
  {
   "cell_type": "markdown",
   "metadata": {},
   "source": [
    "When you first start working with data, I recommend you do all your calculations on dataframes rather\n",
    "than indexed arrays. If you want to do calculations on an indexed array, first turn it into a dataframe.\n",
    "As you get deeper into working with data, you’ll discover that the skill in working with data is knowing\n",
    "which representation works best for your task, dataframe or indexed array. Also,\n",
    "\n",
    "* Pandas blurs the boundary between dataframes and indexed arrays\n",
    "* Both rows and columns can have hierarchical indexes, called [multi-indexes](https://pandas.pydata.org/pandas-docs/stable/advanced.html)\n",
    "* For clever tricks with higher-dimensional indexed arrays, read the documentation for [unstack](https://pandas.pydata.org/pandas-docs/stable/generated/pandas.DataFrame.unstack.html)\n",
    "and [rename_axis](https://pandas.pydata.org/pandas-docs/stable/generated/pandas.DataFrame.rename_axis.html).\n",
    "* When you read the documentation or look for help, please note that what I’m calling an indexed\n",
    "array, Pandas calls a [Series](https://pandas.pydata.org/pandas-docs/stable/generated/pandas.Series.html)."
   ]
  },
  {
   "cell_type": "markdown",
   "metadata": {},
   "source": [
    "## 6. Merging dataframes\n",
    "\n",
    "When processing data we often want to combine data at different levels of aggregation. For example,\n",
    "we might like to compare the frequency of false stops (i.e. where the police stopped someone and found\n",
    "nothing suspicious) across different ethnicities. Here’s how we prepare the first three columns … but\n",
    "what about the $n_\\text{tot}$ column and $n/n_\\text{tot}$?"
   ]
  },
  {
   "cell_type": "code",
   "execution_count": 79,
   "metadata": {},
   "outputs": [
    {
     "data": {
      "text/html": [
       "<div>\n",
       "<style scoped>\n",
       "    .dataframe tbody tr th:only-of-type {\n",
       "        vertical-align: middle;\n",
       "    }\n",
       "\n",
       "    .dataframe tbody tr th {\n",
       "        vertical-align: top;\n",
       "    }\n",
       "\n",
       "    .dataframe thead th {\n",
       "        text-align: right;\n",
       "    }\n",
       "</style>\n",
       "<table border=\"1\" class=\"dataframe\">\n",
       "  <thead>\n",
       "    <tr style=\"text-align: right;\">\n",
       "      <th></th>\n",
       "      <th>officer_defined_ethnicity</th>\n",
       "      <th>outcome</th>\n",
       "      <th>n</th>\n",
       "    </tr>\n",
       "  </thead>\n",
       "  <tbody>\n",
       "    <tr>\n",
       "      <th>0</th>\n",
       "      <td>Asian</td>\n",
       "      <td>find</td>\n",
       "      <td>116</td>\n",
       "    </tr>\n",
       "    <tr>\n",
       "      <th>1</th>\n",
       "      <td>Asian</td>\n",
       "      <td>nothing</td>\n",
       "      <td>76</td>\n",
       "    </tr>\n",
       "    <tr>\n",
       "      <th>2</th>\n",
       "      <td>Black</td>\n",
       "      <td>find</td>\n",
       "      <td>170</td>\n",
       "    </tr>\n",
       "    <tr>\n",
       "      <th>3</th>\n",
       "      <td>Black</td>\n",
       "      <td>nothing</td>\n",
       "      <td>100</td>\n",
       "    </tr>\n",
       "    <tr>\n",
       "      <th>4</th>\n",
       "      <td>Other</td>\n",
       "      <td>find</td>\n",
       "      <td>28</td>\n",
       "    </tr>\n",
       "    <tr>\n",
       "      <th>5</th>\n",
       "      <td>Other</td>\n",
       "      <td>nothing</td>\n",
       "      <td>9</td>\n",
       "    </tr>\n",
       "    <tr>\n",
       "      <th>6</th>\n",
       "      <td>White</td>\n",
       "      <td>find</td>\n",
       "      <td>1060</td>\n",
       "    </tr>\n",
       "    <tr>\n",
       "      <th>7</th>\n",
       "      <td>White</td>\n",
       "      <td>nothing</td>\n",
       "      <td>680</td>\n",
       "    </tr>\n",
       "  </tbody>\n",
       "</table>\n",
       "</div>"
      ],
      "text/plain": [
       "  officer_defined_ethnicity  outcome     n\n",
       "0                     Asian     find   116\n",
       "1                     Asian  nothing    76\n",
       "2                     Black     find   170\n",
       "3                     Black  nothing   100\n",
       "4                     Other     find    28\n",
       "5                     Other  nothing     9\n",
       "6                     White     find  1060\n",
       "7                     White  nothing   680"
      ]
     },
     "execution_count": 79,
     "metadata": {},
     "output_type": "execute_result"
    }
   ],
   "source": [
    "df = stopsearch.loc[stopsearch.force=='cambridgeshire'].copy()\n",
    "df['outcome'] = np.where(df.outcome == 'False', 'nothing', 'find')\n",
    "x = df.groupby(['officer_defined_ethnicity', 'outcome']) \\\n",
    ".apply(len) \\\n",
    ".reset_index(name='n')\n",
    "x"
   ]
  },
  {
   "cell_type": "markdown",
   "metadata": {},
   "source": [
    "### 6.1 WITH DATABASE-STYLE JOINS\n",
    "\n",
    "The database answer is to create a smaller table with two columns, $\\textsf{officer_defined_ethnicity}$ and $n_\\text{tot}$,\n",
    "and then to join this to $\\textsf{x}$ using the key $\\textsf{officer_defined_ethnicity}$."
   ]
  },
  {
   "cell_type": "code",
   "execution_count": 80,
   "metadata": {},
   "outputs": [
    {
     "data": {
      "text/html": [
       "<div>\n",
       "<style scoped>\n",
       "    .dataframe tbody tr th:only-of-type {\n",
       "        vertical-align: middle;\n",
       "    }\n",
       "\n",
       "    .dataframe tbody tr th {\n",
       "        vertical-align: top;\n",
       "    }\n",
       "\n",
       "    .dataframe thead th {\n",
       "        text-align: right;\n",
       "    }\n",
       "</style>\n",
       "<table border=\"1\" class=\"dataframe\">\n",
       "  <thead>\n",
       "    <tr style=\"text-align: right;\">\n",
       "      <th></th>\n",
       "      <th>officer_defined_ethnicity</th>\n",
       "      <th>ntot</th>\n",
       "    </tr>\n",
       "  </thead>\n",
       "  <tbody>\n",
       "    <tr>\n",
       "      <th>0</th>\n",
       "      <td>Asian</td>\n",
       "      <td>192</td>\n",
       "    </tr>\n",
       "    <tr>\n",
       "      <th>1</th>\n",
       "      <td>Black</td>\n",
       "      <td>270</td>\n",
       "    </tr>\n",
       "    <tr>\n",
       "      <th>2</th>\n",
       "      <td>Other</td>\n",
       "      <td>37</td>\n",
       "    </tr>\n",
       "    <tr>\n",
       "      <th>3</th>\n",
       "      <td>White</td>\n",
       "      <td>1740</td>\n",
       "    </tr>\n",
       "  </tbody>\n",
       "</table>\n",
       "</div>"
      ],
      "text/plain": [
       "  officer_defined_ethnicity  ntot\n",
       "0                     Asian   192\n",
       "1                     Black   270\n",
       "2                     Other    37\n",
       "3                     White  1740"
      ]
     },
     "execution_count": 80,
     "metadata": {},
     "output_type": "execute_result"
    }
   ],
   "source": [
    "y = x.groupby('officer_defined_ethnicity')['n'].apply(sum).reset_index(name='ntot')\n",
    "y"
   ]
  },
  {
   "cell_type": "code",
   "execution_count": 81,
   "metadata": {},
   "outputs": [
    {
     "data": {
      "text/html": [
       "<div>\n",
       "<style scoped>\n",
       "    .dataframe tbody tr th:only-of-type {\n",
       "        vertical-align: middle;\n",
       "    }\n",
       "\n",
       "    .dataframe tbody tr th {\n",
       "        vertical-align: top;\n",
       "    }\n",
       "\n",
       "    .dataframe thead th {\n",
       "        text-align: right;\n",
       "    }\n",
       "</style>\n",
       "<table border=\"1\" class=\"dataframe\">\n",
       "  <thead>\n",
       "    <tr style=\"text-align: right;\">\n",
       "      <th></th>\n",
       "      <th>officer_defined_ethnicity</th>\n",
       "      <th>outcome</th>\n",
       "      <th>n</th>\n",
       "      <th>ntot</th>\n",
       "      <th>percent_find</th>\n",
       "      <th>err</th>\n",
       "    </tr>\n",
       "  </thead>\n",
       "  <tbody>\n",
       "    <tr>\n",
       "      <th>0</th>\n",
       "      <td>Asian</td>\n",
       "      <td>find</td>\n",
       "      <td>116</td>\n",
       "      <td>192</td>\n",
       "      <td>60.4</td>\n",
       "      <td>6.9</td>\n",
       "    </tr>\n",
       "    <tr>\n",
       "      <th>1</th>\n",
       "      <td>Asian</td>\n",
       "      <td>nothing</td>\n",
       "      <td>76</td>\n",
       "      <td>192</td>\n",
       "      <td>39.6</td>\n",
       "      <td>6.9</td>\n",
       "    </tr>\n",
       "    <tr>\n",
       "      <th>2</th>\n",
       "      <td>Black</td>\n",
       "      <td>find</td>\n",
       "      <td>170</td>\n",
       "      <td>270</td>\n",
       "      <td>63.0</td>\n",
       "      <td>5.8</td>\n",
       "    </tr>\n",
       "    <tr>\n",
       "      <th>3</th>\n",
       "      <td>Black</td>\n",
       "      <td>nothing</td>\n",
       "      <td>100</td>\n",
       "      <td>270</td>\n",
       "      <td>37.0</td>\n",
       "      <td>5.8</td>\n",
       "    </tr>\n",
       "    <tr>\n",
       "      <th>4</th>\n",
       "      <td>Other</td>\n",
       "      <td>find</td>\n",
       "      <td>28</td>\n",
       "      <td>37</td>\n",
       "      <td>75.7</td>\n",
       "      <td>13.8</td>\n",
       "    </tr>\n",
       "    <tr>\n",
       "      <th>5</th>\n",
       "      <td>Other</td>\n",
       "      <td>nothing</td>\n",
       "      <td>9</td>\n",
       "      <td>37</td>\n",
       "      <td>24.3</td>\n",
       "      <td>13.8</td>\n",
       "    </tr>\n",
       "    <tr>\n",
       "      <th>6</th>\n",
       "      <td>White</td>\n",
       "      <td>find</td>\n",
       "      <td>1060</td>\n",
       "      <td>1740</td>\n",
       "      <td>60.9</td>\n",
       "      <td>2.3</td>\n",
       "    </tr>\n",
       "    <tr>\n",
       "      <th>7</th>\n",
       "      <td>White</td>\n",
       "      <td>nothing</td>\n",
       "      <td>680</td>\n",
       "      <td>1740</td>\n",
       "      <td>39.1</td>\n",
       "      <td>2.3</td>\n",
       "    </tr>\n",
       "  </tbody>\n",
       "</table>\n",
       "</div>"
      ],
      "text/plain": [
       "  officer_defined_ethnicity  outcome     n  ntot  percent_find   err\n",
       "0                     Asian     find   116   192          60.4   6.9\n",
       "1                     Asian  nothing    76   192          39.6   6.9\n",
       "2                     Black     find   170   270          63.0   5.8\n",
       "3                     Black  nothing   100   270          37.0   5.8\n",
       "4                     Other     find    28    37          75.7  13.8\n",
       "5                     Other  nothing     9    37          24.3  13.8\n",
       "6                     White     find  1060  1740          60.9   2.3\n",
       "7                     White  nothing   680  1740          39.1   2.3"
      ]
     },
     "execution_count": 81,
     "metadata": {},
     "output_type": "execute_result"
    }
   ],
   "source": [
    "z = x.merge(y, on='officer_defined_ethnicity')\n",
    "p = z.n / z.ntot\n",
    "z['percent_find'] = np.round(p * 100, 1)\n",
    "# Also compute a margin for error; see IB Data Science for the theory\n",
    "z['err'] = np.round(1.96 * np.sqrt(p*(1-p)/z.ntot) * 100, 1)\n",
    "z"
   ]
  },
  {
   "cell_type": "markdown",
   "metadata": {},
   "source": [
    "### 6.2 WITH PANDAS INDEXING\n",
    "\n",
    "This particular operation (groupby and apply, then merge the result back into the original table) is so common that pandas has a built-in way to do it, using `df.groupby(...)[col].transform(f)`. This applies function $\\textsf{f}$ to each chunk of $\\textsf{col}$, and then reassembles the answer back into an array _with the same index as $\\textsf{df}$_. We can then just put it into $\\textsf{df}$ as an extra column."
   ]
  },
  {
   "cell_type": "code",
   "execution_count": 82,
   "metadata": {},
   "outputs": [
    {
     "data": {
      "text/html": [
       "<div>\n",
       "<style scoped>\n",
       "    .dataframe tbody tr th:only-of-type {\n",
       "        vertical-align: middle;\n",
       "    }\n",
       "\n",
       "    .dataframe tbody tr th {\n",
       "        vertical-align: top;\n",
       "    }\n",
       "\n",
       "    .dataframe thead th {\n",
       "        text-align: right;\n",
       "    }\n",
       "</style>\n",
       "<table border=\"1\" class=\"dataframe\">\n",
       "  <thead>\n",
       "    <tr style=\"text-align: right;\">\n",
       "      <th></th>\n",
       "      <th>officer_defined_ethnicity</th>\n",
       "      <th>outcome</th>\n",
       "      <th>n</th>\n",
       "      <th>ntot</th>\n",
       "    </tr>\n",
       "  </thead>\n",
       "  <tbody>\n",
       "    <tr>\n",
       "      <th>0</th>\n",
       "      <td>Asian</td>\n",
       "      <td>find</td>\n",
       "      <td>116</td>\n",
       "      <td>192</td>\n",
       "    </tr>\n",
       "    <tr>\n",
       "      <th>1</th>\n",
       "      <td>Asian</td>\n",
       "      <td>nothing</td>\n",
       "      <td>76</td>\n",
       "      <td>192</td>\n",
       "    </tr>\n",
       "    <tr>\n",
       "      <th>2</th>\n",
       "      <td>Black</td>\n",
       "      <td>find</td>\n",
       "      <td>170</td>\n",
       "      <td>270</td>\n",
       "    </tr>\n",
       "    <tr>\n",
       "      <th>3</th>\n",
       "      <td>Black</td>\n",
       "      <td>nothing</td>\n",
       "      <td>100</td>\n",
       "      <td>270</td>\n",
       "    </tr>\n",
       "    <tr>\n",
       "      <th>4</th>\n",
       "      <td>Other</td>\n",
       "      <td>find</td>\n",
       "      <td>28</td>\n",
       "      <td>37</td>\n",
       "    </tr>\n",
       "    <tr>\n",
       "      <th>5</th>\n",
       "      <td>Other</td>\n",
       "      <td>nothing</td>\n",
       "      <td>9</td>\n",
       "      <td>37</td>\n",
       "    </tr>\n",
       "    <tr>\n",
       "      <th>6</th>\n",
       "      <td>White</td>\n",
       "      <td>find</td>\n",
       "      <td>1060</td>\n",
       "      <td>1740</td>\n",
       "    </tr>\n",
       "    <tr>\n",
       "      <th>7</th>\n",
       "      <td>White</td>\n",
       "      <td>nothing</td>\n",
       "      <td>680</td>\n",
       "      <td>1740</td>\n",
       "    </tr>\n",
       "  </tbody>\n",
       "</table>\n",
       "</div>"
      ],
      "text/plain": [
       "  officer_defined_ethnicity  outcome     n  ntot\n",
       "0                     Asian     find   116   192\n",
       "1                     Asian  nothing    76   192\n",
       "2                     Black     find   170   270\n",
       "3                     Black  nothing   100   270\n",
       "4                     Other     find    28    37\n",
       "5                     Other  nothing     9    37\n",
       "6                     White     find  1060  1740\n",
       "7                     White  nothing   680  1740"
      ]
     },
     "execution_count": 82,
     "metadata": {},
     "output_type": "execute_result"
    }
   ],
   "source": [
    "x['ntot'] = x.groupby('officer_defined_ethnicity')['n'].transform(sum)\n",
    "x"
   ]
  },
  {
   "cell_type": "markdown",
   "metadata": {},
   "source": [
    "Pandas also lets us join indexed arrays on their common indices, and that can often streamline more advanced database-style joins; but that counts as more advanced Pandas usage than we will cover here."
   ]
  }
 ],
 "metadata": {
  "kernelspec": {
   "display_name": "Python 3",
   "language": "python",
   "name": "python3"
  },
  "language_info": {
   "codemirror_mode": {
    "name": "ipython",
    "version": 3
   },
   "file_extension": ".py",
   "mimetype": "text/x-python",
   "name": "python",
   "nbconvert_exporter": "python",
   "pygments_lexer": "ipython3",
   "version": "3.9.0"
  }
 },
 "nbformat": 4,
 "nbformat_minor": 4
}
