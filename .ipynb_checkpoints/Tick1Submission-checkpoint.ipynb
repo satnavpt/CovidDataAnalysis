{
 "cells": [
  {
   "cell_type": "markdown",
   "metadata": {},
   "source": [
    "# Tick 1"
   ]
  },
  {
   "cell_type": "code",
   "execution_count": 1,
   "metadata": {},
   "outputs": [],
   "source": [
    "import matplotlib.pyplot as plt\n",
    "import pandas\n",
    "import numpy as np\n",
    "import ucamcl"
   ]
  },
  {
   "cell_type": "code",
   "execution_count": 2,
   "metadata": {},
   "outputs": [
    {
     "name": "stdout",
     "output_type": "stream",
     "text": [
      "Waiting for you to log in .. done.\n"
     ]
    }
   ],
   "source": [
    "GRADER = ucamcl.autograder('https://markmy.solutions', course='scicomp').subsection('tick1a')"
   ]
  },
  {
   "cell_type": "markdown",
   "metadata": {},
   "source": [
    "##### The aim of this tick is to model infections in a population of individuals. We will be focusing on the effects of the size of peoples' home bubbles and their interactions with people outside their own bubble."
   ]
  },
  {
   "cell_type": "markdown",
   "metadata": {},
   "source": [
    "## Question 1a"
   ]
  },
  {
   "cell_type": "markdown",
   "metadata": {},
   "source": [
    "#### 1)"
   ]
  },
  {
   "cell_type": "code",
   "execution_count": 3,
   "metadata": {},
   "outputs": [],
   "source": [
    "def random_sizes(N, avg_size):\n",
    "    return np.random.geometric(1/avg_size, size=N)"
   ]
  },
  {
   "cell_type": "markdown",
   "metadata": {},
   "source": [
    "##### This function generates a vector of N sizes for loci."
   ]
  },
  {
   "cell_type": "code",
   "execution_count": 4,
   "metadata": {},
   "outputs": [],
   "source": [
    "def trunc_sizes(sizes):\n",
    "    N = len(sizes)\n",
    "    cummul = np.cumsum(sizes)\n",
    "    cummul[cummul>N] = 0\n",
    "    cummul[cummul==0] = sizes[0]\n",
    "    maxind = np.argmax(cummul) + 1\n",
    "    if maxind == 1: sizestrunc = sizes[:maxind]\n",
    "    else: sizestrunc = sizes[:maxind+1]\n",
    "    lastind = np.size(sizestrunc) - 1\n",
    "    diff = (np.sum(sizestrunc) - N)\n",
    "    sizestrunc[lastind] -= diff\n",
    "    sizestrunc = np.trim_zeros(np.array(sizestrunc))\n",
    "    return (sizestrunc)"
   ]
  },
  {
   "cell_type": "markdown",
   "metadata": {},
   "source": [
    "##### This function truncates the vector created by the random_sizes function so that the sum of all the elements adds to N instead of having a cardinality of N."
   ]
  },
  {
   "cell_type": "code",
   "execution_count": 5,
   "metadata": {},
   "outputs": [],
   "source": [
    "q = GRADER.fetch_question('q1')\n",
    "ans = trunc_sizes(q.s)"
   ]
  },
  {
   "cell_type": "code",
   "execution_count": 6,
   "metadata": {},
   "outputs": [
    {
     "name": "stdout",
     "output_type": "stream",
     "text": [
      "Correct!\n"
     ]
    },
    {
     "data": {
      "text/plain": [
       "True"
      ]
     },
     "execution_count": 6,
     "metadata": {},
     "output_type": "execute_result"
    }
   ],
   "source": [
    "GRADER.submit_answer(q, ans)"
   ]
  },
  {
   "cell_type": "markdown",
   "metadata": {},
   "source": [
    "#### 2)"
   ]
  },
  {
   "cell_type": "markdown",
   "metadata": {},
   "source": [
    "##### The loc_sizes parameter is a vector of locus sizes that sum to N."
   ]
  },
  {
   "cell_type": "code",
   "execution_count": 7,
   "metadata": {},
   "outputs": [],
   "source": [
    "def person_in(loc_sizes):\n",
    "    loc_sizes = np.array(loc_sizes)\n",
    "    M = np.size(loc_sizes)\n",
    "    P = np.repeat(np.arange(0, M), loc_sizes)\n",
    "    return (P)"
   ]
  },
  {
   "cell_type": "markdown",
   "metadata": {},
   "source": [
    "##### This function computes a vector of length N, that contains the index of the locus that each person is in."
   ]
  },
  {
   "cell_type": "code",
   "execution_count": 8,
   "metadata": {},
   "outputs": [],
   "source": [
    "def first_occ(loc_sizes):\n",
    "    loc_sizes = np.array(loc_sizes)\n",
    "    M = np.size(loc_sizes)\n",
    "    F = np.cumsum(loc_sizes)\n",
    "    A = np.zeros(M, dtype=int)\n",
    "    A[1:] = F[:-1]\n",
    "    return A"
   ]
  },
  {
   "cell_type": "markdown",
   "metadata": {},
   "source": [
    "##### This function computes a vector of length M, where M is the length of the loc_sizes vector. The vector contains the index of the first person in each locus"
   ]
  },
  {
   "cell_type": "code",
   "execution_count": 9,
   "metadata": {},
   "outputs": [],
   "source": [
    "q = GRADER.fetch_question('q2')\n",
    "ans = {'person_in': person_in(q.loc_sizes), 'first_occ': first_occ(q.loc_sizes)}"
   ]
  },
  {
   "cell_type": "code",
   "execution_count": 10,
   "metadata": {},
   "outputs": [
    {
     "name": "stdout",
     "output_type": "stream",
     "text": [
      "Correct!\n"
     ]
    },
    {
     "data": {
      "text/plain": [
       "True"
      ]
     },
     "execution_count": 10,
     "metadata": {},
     "output_type": "execute_result"
    }
   ],
   "source": [
    "GRADER.submit_answer(q, ans)"
   ]
  },
  {
   "cell_type": "markdown",
   "metadata": {},
   "source": [
    "#### 3)"
   ]
  },
  {
   "cell_type": "markdown",
   "metadata": {},
   "source": [
    "##### The infected parameter is a vector of length N which contains information on whether the person at each index is infected (using 0s and 1s)."
   ]
  },
  {
   "cell_type": "code",
   "execution_count": 11,
   "metadata": {},
   "outputs": [],
   "source": [
    "def exposure(infected, loc_sizes):\n",
    "    infected = np.array(infected)\n",
    "    loc_sizes = np.array(loc_sizes)\n",
    "    per_in = person_in(loc_sizes)\n",
    "    fi_occ = first_occ(loc_sizes)\n",
    "    \n",
    "    a = np.cumsum(loc_sizes)\n",
    "    breaks = np.zeros(np.size(a)+1, dtype=int)\n",
    "    breaks[1:] = a\n",
    "    \n",
    "    sums = np.add.reduceat((infected > 0).astype(int), breaks[:-1], dtype=np.int)\n",
    "    \n",
    "    ans = np.repeat(sums, loc_sizes)\n",
    "    return ans"
   ]
  },
  {
   "cell_type": "markdown",
   "metadata": {},
   "source": [
    "##### This function returns a vector of length N, where each entry i counts the number of infected people in the locus that person i is on."
   ]
  },
  {
   "cell_type": "code",
   "execution_count": 12,
   "metadata": {},
   "outputs": [],
   "source": [
    "q = GRADER.fetch_question('q3')\n",
    "ans = exposure(np.array(q.infected), q.loc_sizes)"
   ]
  },
  {
   "cell_type": "code",
   "execution_count": 13,
   "metadata": {},
   "outputs": [
    {
     "name": "stdout",
     "output_type": "stream",
     "text": [
      "Correct!\n"
     ]
    },
    {
     "data": {
      "text/plain": [
       "True"
      ]
     },
     "execution_count": 13,
     "metadata": {},
     "output_type": "execute_result"
    }
   ],
   "source": [
    "GRADER.submit_answer(q, ans)"
   ]
  },
  {
   "cell_type": "markdown",
   "metadata": {},
   "source": [
    "#### 4)"
   ]
  },
  {
   "cell_type": "markdown",
   "metadata": {},
   "source": [
    "##### These are helper functions used by the sim function to simulate a single day's infections and recoveries respectively."
   ]
  },
  {
   "cell_type": "code",
   "execution_count": 14,
   "metadata": {},
   "outputs": [],
   "source": [
    "def sim_infections(infected, exposed, prob_infect):\n",
    "    infected[infected == 2] = 1\n",
    "    original_total = np.sum((np.copy(infected) > 0).astype(int))\n",
    "    infected[((np.random.rand(*infected.shape) < prob_infect).astype(int)==1) & (exposed > 0) & (infected == 0)] = 2\n",
    "    return ((np.sum((infected > 0).astype(int)) - original_total))\n",
    "    \n",
    "def sim_recoveries(infected, exposed, prob_recover):\n",
    "    original_infected = np.copy(infected)\n",
    "    original_total = np.sum((original_infected > 0).astype(int))\n",
    "    probs = np.random.rand(*infected.shape)\n",
    "    probs = (probs < prob_recover).astype(int)\n",
    "    infected[(probs==1) & (infected == 1)] = -1\n",
    "    total = np.sum((infected > 0).astype(int))\n",
    "    total_recovered = (original_total - total)\n",
    "    return (total_recovered)"
   ]
  },
  {
   "cell_type": "markdown",
   "metadata": {},
   "source": [
    "##### The sim function returns a matrix with T rows (for T days) and 4 columns (for daily new infections, daily new recoveries, cummulative total infections, cummulative total recoveries). In order to fill the matrix, the sim function simmulates infections and recoveries for each day."
   ]
  },
  {
   "cell_type": "code",
   "execution_count": 15,
   "metadata": {},
   "outputs": [],
   "source": [
    "def sim(N, T, n0, avg_loc_size=2.1, prob_infect=0.07, prob_recover=1/10):\n",
    "    loc_sizes = trunc_sizes(random_sizes(N, avg_loc_size))\n",
    "    infected = np.zeros(N, dtype=int)\n",
    "    infected[:n0] = 1\n",
    "    infected = np.random.permutation(infected)\n",
    "    exposed = exposure(infected, loc_sizes)\n",
    "    \n",
    "    A = np.zeros((T, 4), dtype=int)\n",
    "    \n",
    "    for x in range (0, T):\n",
    "        infected_today = sim_infections(infected, exposed, prob_infect)\n",
    "        exposed = exposure(infected, loc_sizes)\n",
    "        recovered_today = sim_recoveries(infected, exposed, prob_recover)\n",
    "        exposed = exposure(infected, loc_sizes)\n",
    "        total_infections = np.sum((infected != 0).astype(int))\n",
    "        total_recoveries = np.sum((infected == -1).astype(int))\n",
    "        a = [infected_today, recovered_today, total_infections, total_recoveries]\n",
    "        A[x] = a\n",
    "        infected = np.random.permutation(infected)\n",
    "        exposed = exposure(infected, loc_sizes)\n",
    "        \n",
    "    \n",
    "    return A"
   ]
  },
  {
   "cell_type": "code",
   "execution_count": 16,
   "metadata": {},
   "outputs": [],
   "source": [
    "q = GRADER.fetch_question('q4')\n",
    "x = sim(N=q.N, T=q.T, n0=q.n0, avg_loc_size=q.avg_loc_size, prob_infect=q.prob_infect, prob_recover=q.prob_recover)\n",
    "ans = x[-1,3]/q.N"
   ]
  },
  {
   "cell_type": "code",
   "execution_count": 17,
   "metadata": {},
   "outputs": [
    {
     "name": "stdout",
     "output_type": "stream",
     "text": [
      "Correct!\n"
     ]
    },
    {
     "data": {
      "text/plain": [
       "True"
      ]
     },
     "execution_count": 17,
     "metadata": {},
     "output_type": "execute_result"
    }
   ],
   "source": [
    "GRADER.submit_answer(q, ans)"
   ]
  },
  {
   "cell_type": "markdown",
   "metadata": {},
   "source": [
    "#### 5)"
   ]
  },
  {
   "cell_type": "code",
   "execution_count": 18,
   "metadata": {},
   "outputs": [
    {
     "data": {
      "image/png": "[encoded data removed]",
      "text/plain": [
       "<Figure size 504x432 with 2 Axes>"
      ]
     },
     "metadata": {
      "needs_background": "light"
     },
     "output_type": "display_data"
    }
   ],
   "source": [
    "x = sim(N=50000, T=200, n0=200)\n",
    "day_num = np.arange(0,200)\n",
    "total_infected_percent = (x[:, 2]/50000) * 100\n",
    "total_recovered_percent = (x[:, 3]/50000) * 100\n",
    "total_infected = x[:, 2] - x[:, 3]\n",
    "daily_infected = x[:, 0]\n",
    "\n",
    "data = pandas.DataFrame({\n",
    "'day'          : day_num,\n",
    "'been_infected': total_infected_percent,\n",
    "'recovered'    : total_recovered_percent,\n",
    "'infected'     : total_infected,\n",
    "'new_infected' : daily_infected\n",
    "},\n",
    "columns = ['day', 'been_infected', 'recovered', 'infected', 'new_infected'])\n",
    "\n",
    "\n",
    "fig, (ax1, ax2) = plt.subplots(nrows=2, ncols=1, sharex=True, figsize=(7, 6))\n",
    "ax1.plot(data.day, data.been_infected, label='been infected', color='orange')\n",
    "ax1.plot(data.day, data.recovered, label='recovered', color='blue')\n",
    "ax1.legend()\n",
    "ax1.set_ylabel('% of popn')\n",
    "ax2.plot(data.day, data.infected, label='infected', color='blue')\n",
    "ax2.plot(data.day, data.new_infected, label='new infected', color='orange')\n",
    "ax2.legend()\n",
    "ax2.set_ylabel('num. people')\n",
    "plt.xlabel('day')\n",
    "plt.show()"
   ]
  },
  {
   "cell_type": "markdown",
   "metadata": {},
   "source": [
    "##### This series of instructions generate graphs for the percentage of population that has been infected and recovered against time, and the number of currently infected and new infections against time."
   ]
  },
  {
   "cell_type": "markdown",
   "metadata": {},
   "source": [
    "## Question 1b"
   ]
  },
  {
   "cell_type": "code",
   "execution_count": 19,
   "metadata": {},
   "outputs": [
    {
     "name": "stdout",
     "output_type": "stream",
     "text": [
      "Waiting for you to log in .. done.\n"
     ]
    }
   ],
   "source": [
    "GRADER = ucamcl.autograder('https://markmy.solutions', course='scicomp').subsection('tick1b')"
   ]
  },
  {
   "cell_type": "markdown",
   "metadata": {},
   "source": [
    "#### 6)"
   ]
  },
  {
   "cell_type": "markdown",
   "metadata": {},
   "source": [
    "##### The R number can be estimated using R = days * N/D where N is the total number of new infections, D is the sum (over time) of the number of infected people at the start of each day and days is the average number of days a person is infected (1/prob_recover). N and D are computed over a specified range of days."
   ]
  },
  {
   "cell_type": "code",
   "execution_count": 20,
   "metadata": {},
   "outputs": [],
   "source": [
    "def r(X, t0, t1, days):\n",
    "    \n",
    "    XN = X[t0:t1]\n",
    "    N = np.sum(XN[:, 0])\n",
    "    \n",
    "    XD = X[t0-1:t1-1]\n",
    "    D = np.sum(XD[:, 2])\n",
    "    \n",
    "    R = days*N/D\n",
    "    return R"
   ]
  },
  {
   "cell_type": "markdown",
   "metadata": {},
   "source": [
    "##### This function computes the R number using the matrix generated by the simulator above."
   ]
  },
  {
   "cell_type": "code",
   "execution_count": 21,
   "metadata": {},
   "outputs": [],
   "source": [
    "q = GRADER.fetch_question('q6')\n",
    "ans = r(np.array(q.X), t0=q.t0, t1=q.t1, days=q.days)"
   ]
  },
  {
   "cell_type": "code",
   "execution_count": 22,
   "metadata": {},
   "outputs": [
    {
     "name": "stdout",
     "output_type": "stream",
     "text": [
      "Correct!\n"
     ]
    },
    {
     "data": {
      "text/plain": [
       "True"
      ]
     },
     "execution_count": 22,
     "metadata": {},
     "output_type": "execute_result"
    }
   ],
   "source": [
    "GRADER.submit_answer(q, ans)"
   ]
  },
  {
   "cell_type": "markdown",
   "metadata": {},
   "source": [
    "#### 7)"
   ]
  },
  {
   "cell_type": "code",
   "execution_count": 23,
   "metadata": {},
   "outputs": [],
   "source": [
    "def bubbles(N, num_households):\n",
    "    return np.random.choice([1,2,3,4,5,6], p=[.29,.35,.15,.14,.05,.02], size=(num_households,N)).sum(0)"
   ]
  },
  {
   "cell_type": "markdown",
   "metadata": {},
   "source": [
    "##### This function generates a vector of household bubble sizes based on the distribution of household sizes in the UK."
   ]
  },
  {
   "cell_type": "code",
   "execution_count": 24,
   "metadata": {},
   "outputs": [],
   "source": [
    "def sim_infections2(infected, exposed, prob_infect):\n",
    "    infected[infected == 2] = 1\n",
    "    original_infected = np.copy(infected)\n",
    "    original_total = np.sum((original_infected > 0).astype(int))\n",
    "    probs = np.random.rand(*infected.shape)\n",
    "    probs = (probs < prob_infect).astype(int)\n",
    "    infected[(probs==1) & (exposed > 0) & (infected == 0)] = 2\n",
    "    total = np.sum((infected > 0).astype(int))\n",
    "    total_infected = (total - original_total)\n",
    "    return (total_infected)\n",
    "    \n",
    "def sim_recoveries2(infected, prob_recover):\n",
    "    original_infected = np.copy(infected)\n",
    "    original_total = np.sum((original_infected > 0).astype(int))\n",
    "    probs = np.random.rand(*infected.shape)\n",
    "    probs = (probs < prob_recover).astype(int)\n",
    "    infected[(probs==1) & (infected == 1)] = -1\n",
    "    total = np.sum((infected > 0).astype(int))\n",
    "    total_recovered = (original_total - total)\n",
    "    return (total_recovered)"
   ]
  },
  {
   "cell_type": "markdown",
   "metadata": {},
   "source": [
    "##### These are the modified helper functions."
   ]
  },
  {
   "cell_type": "markdown",
   "metadata": {},
   "source": [
    "##### The parameter n0 is an initial number of infected people that are randomly distributed throughout the households."
   ]
  },
  {
   "cell_type": "code",
   "execution_count": 25,
   "metadata": {},
   "outputs": [],
   "source": [
    "def sim2(N, T, n0, avg_loc_size, prob_infect_outside, prob_recover, prob_infect_home, num_households):\n",
    "    bubble_sizes = trunc_sizes(bubbles(N, num_households))\n",
    "    loc_sizes = trunc_sizes(random_sizes(N, avg_loc_size))\n",
    "    \n",
    "    infected = np.zeros(N, dtype=int)\n",
    "    infected[:n0] = 1\n",
    "        \n",
    "    A = np.zeros((T, 4), dtype=int)\n",
    "    \n",
    "    for x in range (0, T):\n",
    "        rand =  np.random.permutation(np.arange(0,N))\n",
    "        infected = infected[rand]\n",
    "        exposed = exposure(infected, loc_sizes)\n",
    "        infected_today_outside = sim_infections2(infected, exposed, prob_infect_outside)\n",
    "        exposed = exposure(infected, loc_sizes)\n",
    "\n",
    "        infected[rand] = np.copy(infected)\n",
    "        exposed = exposure(infected, bubble_sizes)\n",
    "        infected_today_home = sim_infections2(infected, exposed, prob_infect_home)\n",
    "        exposed = exposure(infected, bubble_sizes)\n",
    "        \n",
    "        infected_today = infected_today_outside + infected_today_home\n",
    "        \n",
    "        recovered_today = sim_recoveries2(infected, prob_recover)\n",
    "        exposed = exposure(infected, bubble_sizes)\n",
    "        \n",
    "        total_infections = np.sum((infected != 0).astype(int))\n",
    "        \n",
    "        total_recoveries = np.sum((infected == -1).astype(int))\n",
    "        \n",
    "        a = [infected_today, recovered_today, total_infections, total_recoveries]\n",
    "        A[x] = a\n",
    "        \n",
    "        exposed = exposure(infected, loc_sizes)\n",
    "        \n",
    "    return A"
   ]
  },
  {
   "cell_type": "markdown",
   "metadata": {},
   "source": [
    "##### This is a modified simulator that, simulates people travelling from a constant home bubble to and from a random public loci. There is a chance of being infected at both loci and then a chance of recovering at the end of the day."
   ]
  },
  {
   "cell_type": "code",
   "execution_count": 26,
   "metadata": {},
   "outputs": [],
   "source": [
    "q = GRADER.fetch_question('q7')\n",
    "x = sim2(N=q.N, T=q.T, n0=q.n0, avg_loc_size=q.avg_loc_size,\n",
    "         prob_infect_outside=q.prob_infect, prob_recover=q.prob_recover, prob_infect_home=q.prob_infect_home,\n",
    "         num_households=q.num_households)\n",
    "ans = x[-1,3] / q.N"
   ]
  },
  {
   "cell_type": "code",
   "execution_count": 27,
   "metadata": {},
   "outputs": [
    {
     "name": "stdout",
     "output_type": "stream",
     "text": [
      "Correct!\n"
     ]
    },
    {
     "data": {
      "text/plain": [
       "True"
      ]
     },
     "execution_count": 27,
     "metadata": {},
     "output_type": "execute_result"
    }
   ],
   "source": [
    "GRADER.submit_answer(q, ans)"
   ]
  },
  {
   "cell_type": "markdown",
   "metadata": {},
   "source": [
    "#### 8)"
   ]
  },
  {
   "cell_type": "code",
   "execution_count": 28,
   "metadata": {},
   "outputs": [
    {
     "data": {
      "image/png": "[encoded data removed]",
      "text/plain": [
       "<Figure size 504x504 with 2 Axes>"
      ]
     },
     "metadata": {
      "needs_background": "light"
     },
     "output_type": "display_data"
    },
    {
     "name": "stdout",
     "output_type": "stream",
     "text": [
      "CPU times: user 1min 12s, sys: 56.1 ms, total: 1min 12s\n",
      "Wall time: 1min 12s\n"
     ]
    }
   ],
   "source": [
    "%%time\n",
    "import math\n",
    "\n",
    "day_num = np.arange(0,200)\n",
    "data = pandas.DataFrame({'day' : day_num}, columns=['day'])\n",
    "\n",
    "fig, (ax1, ax2) = plt.subplots(nrows=2, ncols=1, sharex=True, figsize=(7,7))\n",
    "\n",
    "colours = ['red', 'purple', 'brown', 'grey']\n",
    "\n",
    "for m in range(1, 5):\n",
    "    for n in range(0, 5):\n",
    "        x = sim2(N=100000, T=200, n0=2000, prob_infect_home=.2, prob_infect_outside=.01, avg_loc_size=2.1, prob_recover=1/10,\n",
    "                 num_households=m)\n",
    "        total_infected_percent = (x[:, 2]/100000) * 100\n",
    "        total_infected = x[:, 2] - x[:, 3]\n",
    "        data['been_infected_'+str(m)+'_'+str(n)] = total_infected_percent\n",
    "        data['infected_'+str(m)+'_'+str(n)] = total_infected\n",
    "        label1 = \"data.been_infected_\" + str(m) + '_' + str(n)\n",
    "        label2 = \"data.infected_\" + str(m) + '_' + str(n)\n",
    "        ax1.plot(data.day, eval(label1), label= str(m) + ' hshlds', color=colours[m-1])\n",
    "        ax2.plot(data.day, eval(label2), label= str(m) + ' hshlds', color=colours[m-1])\n",
    "\n",
    "        \n",
    "ax1.set_ylabel('% of popn been infected')\n",
    "ax2.set_ylabel('num. people infected')\n",
    "plt.xlabel('day')\n",
    "handles, labels = ax2.get_legend_handles_labels()\n",
    "handles = np.array(handles)\n",
    "labels = np.array(labels)\n",
    "h = handles[[0, 5, 10, 15]]\n",
    "l = labels[[0, 5, 10, 15]]\n",
    "fig.legend(h, l, loc='lower center', mode = \"expand\", ncol = 4)\n",
    "plt.show()"
   ]
  },
  {
   "cell_type": "markdown",
   "metadata": {},
   "source": [
    "##### This set of instructions generates plots, using data from the simulator. We vary the sixe of household bubbles from 1 to 4, repeating each simulation 5 times. We plot the percentage of the population that has been infected against time and the number of currently infected people against time."
   ]
  },
  {
   "cell_type": "markdown",
   "metadata": {},
   "source": [
    "#### 9)"
   ]
  },
  {
   "cell_type": "code",
   "execution_count": 29,
   "metadata": {},
   "outputs": [],
   "source": [
    "def r2(X, t0, t1, days):\n",
    "    \n",
    "    XN = X[t0:t1]\n",
    "    N = np.sum(XN[:, 0])\n",
    "    \n",
    "    XD = X[t0-1:t1-1]\n",
    "    D = np.sum(XD[:, 2] - XD[:, 3])\n",
    "    \n",
    "    R = days*N/D\n",
    "    return R"
   ]
  },
  {
   "cell_type": "markdown",
   "metadata": {},
   "source": [
    "##### This function generates the R number over a certain timespan to try and capture the R value of the initial wave."
   ]
  },
  {
   "cell_type": "code",
   "execution_count": 30,
   "metadata": {},
   "outputs": [],
   "source": [
    "ans = []\n",
    "\n",
    "for b in range(1, 5):\n",
    "    x = sim2(N=100000, T=200, n0=2000, prob_infect_home=.2, prob_infect_outside=.01, avg_loc_size=2.1, prob_recover=1/10, \n",
    "             num_households=b)\n",
    "    R = r2(x, 10, 25, 10)\n",
    "    ans.append(R)"
   ]
  },
  {
   "cell_type": "markdown",
   "metadata": {},
   "source": [
    "##### This series of instructions, once again, runs simulations for the aforementioned bubble sizes and uses the function above to generate their R values for an initial wave."
   ]
  },
  {
   "cell_type": "code",
   "execution_count": 31,
   "metadata": {},
   "outputs": [
    {
     "name": "stdout",
     "output_type": "stream",
     "text": [
      "Correct!\n"
     ]
    },
    {
     "data": {
      "text/plain": [
       "True"
      ]
     },
     "execution_count": 31,
     "metadata": {},
     "output_type": "execute_result"
    }
   ],
   "source": [
    "GRADER.submit_answer(GRADER.fetch_question('q9'), ans)"
   ]
  }
 ],
 "metadata": {
  "kernelspec": {
   "display_name": "Python 3",
   "language": "python",
   "name": "python3"
  },
  "language_info": {
   "codemirror_mode": {
    "name": "ipython",
    "version": 3
   },
   "file_extension": ".py",
   "mimetype": "text/x-python",
   "name": "python",
   "nbconvert_exporter": "python",
   "pygments_lexer": "ipython3",
   "version": "3.8.5"
  }
 },
 "nbformat": 4,
 "nbformat_minor": 4
}
