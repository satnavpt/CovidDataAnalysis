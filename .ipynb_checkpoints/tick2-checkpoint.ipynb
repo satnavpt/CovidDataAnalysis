{
 "cells": [
  {
   "cell_type": "markdown",
   "metadata": {},
   "source": [
    "# Tick 2: pandas\n",
    "\n",
    "* [Pandas warmup exercises](#Pandas-warmup-exercises---not-assessed) - not assessed\n",
    "* [Questions 2a](#Questions-2a---worth-1-mark) - worth 1 mark\n",
    "* [Questions 2b](#Questions-2b---worth-1-mark) - worth 1 mark\n",
    "* [Investigation](#Investigation) - not assessed\n",
    "* [Appendix](#Appendix)"
   ]
  },
  {
   "cell_type": "code",
   "execution_count": 42,
   "metadata": {},
   "outputs": [],
   "source": [
    "from IPython.display import YouTubeVideo\n",
    "#YouTubeVideo('RD_7YhsQ8hg', width=560, height=315)"
   ]
  },
  {
   "cell_type": "markdown",
   "metadata": {},
   "source": [
    "We'll be working with data on the COVID-19 pandemic assembled by researchers at Johns Hopkins university.\n",
    "(For more about the dataset, \n",
    "please see [_An interactive web-based dashboard to track COVID-19 in real time_](https://doi.org/10.1016/S1473-3099(20)30120-1) by Dong, Du, and Gardner, The Lancet, May 2020.)\n",
    "For consistency of grading, we'll work with a snapshot taken on 13 December and available as [https://www.cl.cam.ac.uk/teaching/2021/DataSci/data/covid_global_20201213.csv](https://www.cl.cam.ac.uk/teaching/2021/DataSci/data/covid_global_20201213.csv). If you want to re-run your analyses on up-to-date data, the code to retrieve it is given in the appendix.\n",
    "\n",
    "<div class=\"alert alert-warning\">This assignment tests your understanding of the pandas library. YOUR CODE MUST USE PANDAS OPERATIONS such as groupby to split and process the data. Do not use Python 'for' loops or list comprehensions (except in plotting code).\n",
    "</div>\n",
    "\n",
    "* Watch out for whether the question asks you to submit a dataframe or an indexed array. It doesn't matter what order the rows and columns are in, only the contents.\n",
    "* For many of the questions there are diagnostic plots. You don't have to reproduce them but, if you want to, the relevant code is in the appendix. You **do** have to reproduce the plots for questions (q5) and (q12)."
   ]
  },
  {
   "cell_type": "markdown",
   "metadata": {},
   "source": [
    "## Pandas warmup exercises - not assessed\n",
    "\n",
    "These are optional warmup exercises, to get you used to pandas. \n",
    "Use the following autograder settings:\n",
    "```python\n",
    "import ucamcl\n",
    "GRADER = ucamcl.autograder('https://markmy.solutions', course='scicomp').subsection('ex2')\n",
    "```\n",
    "For these exercises, there is no answer for you to submit. Instead, the autograder shows a model answer.\n",
    "Use it like this:\n",
    "```python\n",
    "q = GRADER.fetch_question('p1')  # these warmup exercises are labelled p1, p2, ...\n",
    "print(q)\n",
    "```"
   ]
  },
  {
   "cell_type": "code",
   "execution_count": 1,
   "metadata": {},
   "outputs": [
    {
     "name": "stdout",
     "output_type": "stream",
     "text": [
      "Waiting for you to log in ... done.\n"
     ]
    }
   ],
   "source": [
    "import ucamcl\n",
    "GRADER = ucamcl.autograder('https://markmy.solutions', course='scicomp').subsection('ex2')"
   ]
  },
  {
   "cell_type": "markdown",
   "metadata": {},
   "source": [
    "**Question (p1)** from section 4.1 and 5.1. Here are two ways to explore the contents of a column:\n",
    "```python\n",
    "stopsearch['outcome'].unique()            # gets a list of unique values\n",
    "stopsearch.groupby('outcome').apply(len)  # gets counts for each value\n",
    "```\n",
    "The first method returns a list of length 17, and the second returns a Series of length 16. Why are they different lengths?\n",
    "How can you get the counts for all 17 values? How can you sort the list of counts, largest to smallest? "
   ]
  },
  {
   "cell_type": "markdown",
   "metadata": {},
   "source": [
    "The first method includes NaN, this counts as an extra element. The number of NaNs can be counted as well by setting dropna to false in groupby.\n",
    "```python\n",
    "stopsearch.copy().fillna(\"NaN\").groupby('outcome').apply(len)\n",
    "```"
   ]
  },
  {
   "cell_type": "markdown",
   "metadata": {},
   "source": [
    "**Question (p2)** from sections 5.1 and 5.2. We can find the most common age-range in the entire dataset with\n",
    "```python\n",
    "stopsearch['age_range'].mode().values[0]\n",
    "```\n",
    "(Note that `mode()` returns a Series object, and `.values[0]` gives us just the first item in the Series as a plain Python value.)\n",
    "How can we produce a table listing the most common age-range for each ethnicity and gender?"
   ]
  },
  {
   "cell_type": "markdown",
   "metadata": {},
   "source": [
    "```python\n",
    "stopsearch.groupby(['officer_defined_ethnicity', 'gender'])['age_range'].agg(pandas.Series.mode)\n",
    "```"
   ]
  },
  {
   "cell_type": "markdown",
   "metadata": {},
   "source": [
    "**Question (p3)** from sections 5.1 and 5.2. \n",
    "Given the dataframe\n",
    "```\n",
    "df = pandas.DataFrame({'A': [0,0,0,1,1,1], 'B': [0,1,2,0,1,2], 'X': range(6)})\n",
    "```\n",
    "how do you produce a table that has rows for A, columns for B, and shows values of X?"
   ]
  },
  {
   "cell_type": "code",
   "execution_count": 3,
   "metadata": {
    "collapsed": true,
    "jupyter": {
     "outputs_hidden": true
    }
   },
   "outputs": [
    {
     "data": {
      "text/html": [
       "<div>\n",
       "<style scoped>\n",
       "    .dataframe tbody tr th:only-of-type {\n",
       "        vertical-align: middle;\n",
       "    }\n",
       "\n",
       "    .dataframe tbody tr th {\n",
       "        vertical-align: top;\n",
       "    }\n",
       "\n",
       "    .dataframe thead th {\n",
       "        text-align: right;\n",
       "    }\n",
       "</style>\n",
       "<table border=\"1\" class=\"dataframe\">\n",
       "  <thead>\n",
       "    <tr style=\"text-align: right;\">\n",
       "      <th></th>\n",
       "      <th>B</th>\n",
       "      <th>X</th>\n",
       "    </tr>\n",
       "    <tr>\n",
       "      <th>A</th>\n",
       "      <th></th>\n",
       "      <th></th>\n",
       "    </tr>\n",
       "  </thead>\n",
       "  <tbody>\n",
       "    <tr>\n",
       "      <th>0</th>\n",
       "      <td>0</td>\n",
       "      <td>0</td>\n",
       "    </tr>\n",
       "    <tr>\n",
       "      <th>0</th>\n",
       "      <td>1</td>\n",
       "      <td>1</td>\n",
       "    </tr>\n",
       "    <tr>\n",
       "      <th>0</th>\n",
       "      <td>2</td>\n",
       "      <td>2</td>\n",
       "    </tr>\n",
       "    <tr>\n",
       "      <th>1</th>\n",
       "      <td>0</td>\n",
       "      <td>3</td>\n",
       "    </tr>\n",
       "    <tr>\n",
       "      <th>1</th>\n",
       "      <td>1</td>\n",
       "      <td>4</td>\n",
       "    </tr>\n",
       "    <tr>\n",
       "      <th>1</th>\n",
       "      <td>2</td>\n",
       "      <td>5</td>\n",
       "    </tr>\n",
       "  </tbody>\n",
       "</table>\n",
       "</div>"
      ],
      "text/plain": [
       "   B  X\n",
       "A      \n",
       "0  0  0\n",
       "0  1  1\n",
       "0  2  2\n",
       "1  0  3\n",
       "1  1  4\n",
       "1  2  5"
      ]
     },
     "execution_count": 3,
     "metadata": {},
     "output_type": "execute_result"
    }
   ],
   "source": [
    "import pandas\n",
    "df = pandas.DataFrame({'A': [0,0,0,1,1,1], 'B': [0,1,2,0,1,2], 'X': range(6)})\n",
    "df.set_index('A')"
   ]
  },
  {
   "cell_type": "markdown",
   "metadata": {},
   "source": [
    "**Question (p4).** There are three different levels in the `stopsearch['type']` column. Here are two different ways to extract three rows, one for each of the levels:\n",
    "```python\n",
    "stopsearch.drop_duplicates('type')\n",
    "stopsearch.groupby('type').tail(1)\n",
    "```\n",
    "Look up the help for these two functions, and explain the difference."
   ]
  },
  {
   "cell_type": "markdown",
   "metadata": {},
   "source": [
    "The drop_duplicates method keeps the first element in the list of duplicates and the second method keeps the last element."
   ]
  },
  {
   "cell_type": "markdown",
   "metadata": {},
   "source": [
    "**Question (p5).** The columns in a pandas DataFrame are [Series](https://pandas.pydata.org/pandas-docs/stable/reference/series.html) objects, and they have all sorts of useful methods. Using the methods `isin` and `diff`,\n",
    "take the subset of rows where `event_type` is 0 or 1, and then define a new column Δt containing the time since the preceding event.\n",
    "```python\n",
    "df = pandas.DataFrame({'time': [1,2,3,4,5,6,7,8], 'event_type': [0,0,2,1,0,1,2,1]})\n",
    "```"
   ]
  },
  {
   "cell_type": "code",
   "execution_count": 4,
   "metadata": {
    "collapsed": true,
    "jupyter": {
     "outputs_hidden": true
    }
   },
   "outputs": [
    {
     "data": {
      "text/html": [
       "<div>\n",
       "<style scoped>\n",
       "    .dataframe tbody tr th:only-of-type {\n",
       "        vertical-align: middle;\n",
       "    }\n",
       "\n",
       "    .dataframe tbody tr th {\n",
       "        vertical-align: top;\n",
       "    }\n",
       "\n",
       "    .dataframe thead th {\n",
       "        text-align: right;\n",
       "    }\n",
       "</style>\n",
       "<table border=\"1\" class=\"dataframe\">\n",
       "  <thead>\n",
       "    <tr style=\"text-align: right;\">\n",
       "      <th></th>\n",
       "      <th>time</th>\n",
       "      <th>event_type</th>\n",
       "      <th>dt</th>\n",
       "    </tr>\n",
       "  </thead>\n",
       "  <tbody>\n",
       "    <tr>\n",
       "      <th>0</th>\n",
       "      <td>1</td>\n",
       "      <td>0</td>\n",
       "      <td>NaN</td>\n",
       "    </tr>\n",
       "    <tr>\n",
       "      <th>1</th>\n",
       "      <td>2</td>\n",
       "      <td>0</td>\n",
       "      <td>1.0</td>\n",
       "    </tr>\n",
       "    <tr>\n",
       "      <th>3</th>\n",
       "      <td>4</td>\n",
       "      <td>1</td>\n",
       "      <td>2.0</td>\n",
       "    </tr>\n",
       "    <tr>\n",
       "      <th>4</th>\n",
       "      <td>5</td>\n",
       "      <td>0</td>\n",
       "      <td>1.0</td>\n",
       "    </tr>\n",
       "    <tr>\n",
       "      <th>5</th>\n",
       "      <td>6</td>\n",
       "      <td>1</td>\n",
       "      <td>1.0</td>\n",
       "    </tr>\n",
       "    <tr>\n",
       "      <th>7</th>\n",
       "      <td>8</td>\n",
       "      <td>1</td>\n",
       "      <td>2.0</td>\n",
       "    </tr>\n",
       "  </tbody>\n",
       "</table>\n",
       "</div>"
      ],
      "text/plain": [
       "   time  event_type   dt\n",
       "0     1           0  NaN\n",
       "1     2           0  1.0\n",
       "3     4           1  2.0\n",
       "4     5           0  1.0\n",
       "5     6           1  1.0\n",
       "7     8           1  2.0"
      ]
     },
     "execution_count": 4,
     "metadata": {},
     "output_type": "execute_result"
    }
   ],
   "source": [
    "df = pandas.DataFrame({'time': [1,2,3,4,5,6,7,8], 'event_type': [0,0,2,1,0,1,2,1]})\n",
    "\n",
    "a = df[df['event_type'].isin([0, 1])]\n",
    "dt = a['time'].diff()\n",
    "b = a.copy()\n",
    "b['dt'] = dt\n",
    "b"
   ]
  },
  {
   "cell_type": "markdown",
   "metadata": {},
   "source": [
    "**Question (p6)** from section 6.2. With the dataframe from the last question, add a column Δte that gives *within each event_type* the time since the last event of that type. Finally, sort the data by event_type and time, using [`sort_values`](https://pandas.pydata.org/pandas-docs/stable/reference/api/pandas.DataFrame.sort_values.html).\n",
    "```jupyter\n",
    "```"
   ]
  },
  {
   "cell_type": "code",
   "execution_count": null,
   "metadata": {},
   "outputs": [],
   "source": []
  },
  {
   "cell_type": "markdown",
   "metadata": {},
   "source": [
    "## Questions 2a - worth 1 mark\n",
    "The first step in any data science work is to find out what the dataset consists of, and to preprocess it into a form that you can work with. Typically, this takes around 70% of a data scientist's time.\n",
    "```python\n",
    "GRADER = ucamcl.autograder('https://markmy.solutions', course='scicomp').subsection('tick2a')\n",
    "```"
   ]
  },
  {
   "cell_type": "code",
   "execution_count": 2,
   "metadata": {},
   "outputs": [],
   "source": [
    "import ucamcl\n",
    "import pandas\n",
    "import numpy as np\n",
    "import matplotlib.pyplot as plt"
   ]
  },
  {
   "cell_type": "code",
   "execution_count": 3,
   "metadata": {},
   "outputs": [
    {
     "name": "stdout",
     "output_type": "stream",
     "text": [
      "Waiting for you to log in .. done.\n"
     ]
    }
   ],
   "source": [
    "GRADER = ucamcl.autograder('https://markmy.solutions', course='scicomp').subsection('tick2a')"
   ]
  },
  {
   "cell_type": "markdown",
   "metadata": {},
   "source": [
    "**Question (q1).** Import the CSV file and print out a few lines, choosing the lines at random. The file\n",
    "includes some rows that don't correspond to countries; for these rows `Population` is missing. Remove these rows, and store what's left as the data frame `covid`. How many rows are left?\n",
    "\n",
    "```\n",
    "num_rows = ...\n",
    "GRADER.submit_answer(GRADER.fetch_question('q1'), num_rows)\n",
    "```"
   ]
  },
  {
   "cell_type": "code",
   "execution_count": 27,
   "metadata": {},
   "outputs": [
    {
     "name": "stdout",
     "output_type": "stream",
     "text": [
      "file already downloaded\n"
     ]
    }
   ],
   "source": [
    "import os.path\n",
    "if os.path.exists('covid_global_20201213.csv'):\n",
    "    print(\"file already downloaded\")\n",
    "else:\n",
    "    !wget \"https://www.cl.cam.ac.uk/teaching/2021/DataSci/data/covid_global_20201213.csv\""
   ]
  },
  {
   "cell_type": "code",
   "execution_count": 28,
   "metadata": {},
   "outputs": [],
   "source": [
    "df = pandas.read_csv('covid_global_20201213.csv')\n",
    "covid = (df.dropna(subset=['Population']))\n",
    "num_rows = len(covid)"
   ]
  },
  {
   "cell_type": "code",
   "execution_count": 29,
   "metadata": {},
   "outputs": [
    {
     "name": "stdout",
     "output_type": "stream",
     "text": [
      "Correct!\n"
     ]
    },
    {
     "data": {
      "text/plain": [
       "True"
      ]
     },
     "execution_count": 29,
     "metadata": {},
     "output_type": "execute_result"
    }
   ],
   "source": [
    "GRADER.submit_answer(GRADER.fetch_question('q1'), num_rows)"
   ]
  },
  {
   "cell_type": "markdown",
   "metadata": {},
   "source": [
    "**Question (q2).** Complete this data frame listing the unique `(Country/Region, Province/State)` pairs that you removed.\n",
    "\n",
    "\n",
    "| **Country/Region** | **Province/State** |\n",
    "|---|---|\n",
    "| Diamond Princess | NaN |\n",
    "\n",
    "```\n",
    "ans = ... # your answer as a DataFrame\n",
    "GRADER.submit_answer(GRADER.fetch_question('q2'), ans)\n",
    "```"
   ]
  },
  {
   "cell_type": "code",
   "execution_count": 30,
   "metadata": {},
   "outputs": [],
   "source": [
    "ans = df[df['Population'].isna()][['Country/Region', 'Province/State']].drop_duplicates(['Country/Region', 'Province/State'])"
   ]
  },
  {
   "cell_type": "code",
   "execution_count": 31,
   "metadata": {},
   "outputs": [
    {
     "name": "stdout",
     "output_type": "stream",
     "text": [
      "Correct!\n"
     ]
    },
    {
     "data": {
      "text/plain": [
       "True"
      ]
     },
     "execution_count": 31,
     "metadata": {},
     "output_type": "execute_result"
    }
   ],
   "source": [
    "GRADER.submit_answer(GRADER.fetch_question('q2'), ans)"
   ]
  },
  {
   "cell_type": "markdown",
   "metadata": {},
   "source": [
    "**Question (q3).** Complete this table listing the number of rows for each different `Province/State` linked to the UK. Include the case where `Province/State` is NaN.\n",
    "\n",
    "| **Province/State** | |\n",
    "|---|---|\n",
    "| Anguilla | 326 |\n",
    "\n",
    "```\n",
    "ans = ... # your answer as an Indexed Array\n",
    "GRADER.submit_answer(GRADER.fetch_question('q3'), ans.reset_index(name='n'))\n",
    "```"
   ]
  },
  {
   "cell_type": "code",
   "execution_count": 32,
   "metadata": {},
   "outputs": [],
   "source": [
    "ans = covid[covid['Country/Region'] == 'United Kingdom'][['Country/Region', 'Province/State']].groupby('Province/State', dropna=0).apply(len)"
   ]
  },
  {
   "cell_type": "code",
   "execution_count": 33,
   "metadata": {},
   "outputs": [
    {
     "name": "stdout",
     "output_type": "stream",
     "text": [
      "Correct!\n"
     ]
    },
    {
     "data": {
      "text/plain": [
       "True"
      ]
     },
     "execution_count": 33,
     "metadata": {},
     "output_type": "execute_result"
    }
   ],
   "source": [
    "GRADER.submit_answer(GRADER.fetch_question('q3'), ans.reset_index(name='n'))"
   ]
  },
  {
   "cell_type": "markdown",
   "metadata": {},
   "source": [
    "**Question (q4).** Take the subset of the table that refers to the UK and for which `Province/State` is NaN. (This subset excludes the UK's dependent territories).\n",
    "1. Convert the date strings to proper dates using [`pandas.to_datetime`](https://pandas.pydata.org/pandas-docs/stable/reference/api/pandas.to_datetime.html)\n",
    "2. Define a column `new_confirmed` giving the number of newly confirmed cases each day, and similarly `new_deaths`.\n",
    "3. Define a column `smooth_new_confirmed` to be the average of `new_confirmed` over the past seven days. \n",
    "\n",
    "_This dataset happens to have one record for every country and every date, and so it's easy to find the number of newly confirmed cases by finding the difference between successive elements. In numpy we could do `np.insert(x[1:]-x[:-1],0,x[0])`. Pandas provides\n",
    "[`diff`](https://pandas.pydata.org/pandas-docs/stable/reference/api/pandas.Series.diff.html) \n",
    "which does the same thing except for the first element -- but sometimes simplicity is more valuable than correctness of corner cases, and a `diff`-based answer is fine.\n",
    "For the rolling average, Pandas provides [`rolling`](https://pandas.pydata.org/pandas-docs/stable/reference/api/pandas.Series.rolling.html)._\n",
    "\n",
    "| **Date** | **Confirmed** | **Deaths** | **new_confirmed** | **new_deaths** | **smooth_new_confirmed** |\n",
    "|---|---|---|---|---|---|\n",
    "| 2020-01-30 | 0 | 0 | 0 | 0 | 0 |\n",
    "| 2020-01-31 | 2 | 0 | 2 | 0 | 0.286 |\n",
    "\n",
    "```\n",
    "ans = ... # your answer as a DataFrame\n",
    "q = GRADER.fetch_question('q4')\n",
    "want = pandas.DataFrame(q.rows).assign(Date=lambda df: pandas.to_datetime(df.Date))\n",
    "submit = ans.merge(want)[q.want_cols].assign(Date=lambda df: df.Date.astype(str))\n",
    "GRADER.submit_answer(q, submit)\n",
    "```"
   ]
  },
  {
   "cell_type": "code",
   "execution_count": 34,
   "metadata": {},
   "outputs": [],
   "source": [
    "ans = (covid[(covid['Country/Region']=='United Kingdom') & (covid['Province/State'].isna())]).copy()\n",
    "ans['Date'] = pandas.to_datetime(ans['Date'])\n",
    "ans['new_confirmed'] = ans['Confirmed'].diff()\n",
    "ans['new_deaths'] = ans['Deaths'].diff()\n",
    "ans['smooth_new_confirmed'] = ans['new_confirmed'].rolling(window=7).mean()"
   ]
  },
  {
   "cell_type": "code",
   "execution_count": 35,
   "metadata": {},
   "outputs": [
    {
     "name": "stdout",
     "output_type": "stream",
     "text": [
      "Correct!\n"
     ]
    },
    {
     "data": {
      "text/plain": [
       "True"
      ]
     },
     "execution_count": 35,
     "metadata": {},
     "output_type": "execute_result"
    }
   ],
   "source": [
    "q = GRADER.fetch_question('q4')\n",
    "want = pandas.DataFrame(q.rows).assign(Date=lambda df: pandas.to_datetime(df.Date))\n",
    "submit = ans.merge(want)[q.want_cols].assign(Date=lambda df: df.Date.astype(str))\n",
    "GRADER.submit_answer(q, submit)"
   ]
  },
  {
   "cell_type": "markdown",
   "metadata": {},
   "source": [
    "**Question (q5).** Plot two bar charts, one showing the number of daily confirmed cases, the other showing the number of daily deaths. On your first bar chart, also plot the weekly-smoothed values.\n",
    "\n",
    "_You don't have to submit your plot to the autograder, but you **must** include it in your submitted notebook. Your plot should look something like this. In your plot, you should pay attention to (1) making sure the subplots share the same x-axis, (2) making sure the x-axis ticks are legible. Don't worry about fine-grained control of the plot, such as plot size or colour scheme._\n",
    "\n",
    "<img src=\"res/tick2_uk-timeseries.svg\" style=\"width:45em\"/>"
   ]
  },
  {
   "cell_type": "code",
   "execution_count": 36,
   "metadata": {},
   "outputs": [
    {
     "data": {
      "image/png": "[encoded data removed]",
      "text/plain": [
       "<Figure size 720x288 with 2 Axes>"
      ]
     },
     "metadata": {
      "needs_background": "light"
     },
     "output_type": "display_data"
    }
   ],
   "source": [
    "fig,(ax1,ax2) = plt.subplots(nrows=2,ncols=1, figsize=(10,4), sharex=True)\n",
    "\n",
    "ax1.bar(ans['Date'], ans['new_confirmed'], width=1.0, color='lightblue')\n",
    "ax1.plot(ans['Date'], ans['smooth_new_confirmed'])\n",
    "\n",
    "ax2.bar(ans['Date'], ans['new_deaths'], width=1.0, color='lightblue')\n",
    "\n",
    "plt.show()"
   ]
  },
  {
   "cell_type": "markdown",
   "metadata": {},
   "source": [
    "**Question (q6).** Most countries in this dataset appear as `Country/Region=x, Province/State=NaN`, but there are a few, like the UK, that have non-NaN entries for `Province/State`. To see what the dataset contains, complete the following table. Here `metropole` is 1 if the country has a `Province/State=NaN` entry, 0 otherwise; and `provinces` is the number of distinct non-NaN values; and the table lists all the seven countries for which `metropole=0` or `provinces>0`.\n",
    "\n",
    "| **Country/Region** | metropole | provinces |\n",
    "|---|---|---|\n",
    "| Australia | 0 | 8 |\n",
    "| Canada | 1 | 13 |\n",
    "\n",
    "```\n",
    "ans = ... # your answer as a DataFrame\n",
    "GRADER.submit_answer(GRADER.fetch_question('q6'), ans)\n",
    "```"
   ]
  },
  {
   "cell_type": "code",
   "execution_count": 37,
   "metadata": {},
   "outputs": [],
   "source": [
    "ans = pandas.DataFrame()\n",
    "\n",
    "provinces = covid[covid['Country/Region'].isna() == 0].groupby(['Country/Region', 'Province/State']).apply(len).groupby('Country/Region').apply(len)\n",
    "ans['provinces'] = provinces\n",
    "\n",
    "metropoles = covid[(covid['Country/Region'].isin(ans.index)) & (covid['Province/State'].isna())]['Country/Region'].drop_duplicates()\n",
    "metropoles = metropoles.reset_index()\n",
    "metropoles['metropole'] = 1\n",
    "del metropoles['index']\n",
    "\n",
    "ans = ans.merge(metropoles, on='Country/Region', how='outer').fillna(0)\n",
    "ans.metropole = ans.metropole.astype(int)"
   ]
  },
  {
   "cell_type": "code",
   "execution_count": 38,
   "metadata": {},
   "outputs": [
    {
     "name": "stdout",
     "output_type": "stream",
     "text": [
      "Correct!\n"
     ]
    },
    {
     "data": {
      "text/plain": [
       "True"
      ]
     },
     "execution_count": 38,
     "metadata": {},
     "output_type": "execute_result"
    }
   ],
   "source": [
    "GRADER.submit_answer(GRADER.fetch_question('q6'), ans)"
   ]
  },
  {
   "cell_type": "markdown",
   "metadata": {},
   "source": [
    "**Question (q7).** Upon closer inspection of these special-case countries, we conclude there are two types of special case:\n",
    "* For Australia, Canada, and China, we should add up the COVID statistics for each of the provinces\n",
    "* For Denmark, France, Netherlands, and UK, we should only keep the `Province/State=NaN` entries and discard the others.\n",
    "\n",
    "Prepare a dataset `covidc` which fixes up the data for these special-case countries, and includes all the non-special-case countries as is. In addition, \n",
    "* convert the date strings to proper dates\n",
    "* merge in `Population` values and `iso3` codes from\n",
    "[https://www.cl.cam.ac.uk/teaching/2021/DataSci/data/covid_countries_20201213.csv](https://www.cl.cam.ac.uk/teaching/2021/DataSci/data/covid_countries_20201213.csv), since the Population values in the original dataset don't account for the special-cased countries\n",
    "* sort the dataset by `Country/Region` then by `Date`\n",
    "\n",
    "| **Country/Region** | **Date** | **Confirmed** | **Deaths** | **Population** |\n",
    "|---|---|---|---|---|\n",
    "| United Kingdom | 2020-05-01 | 182270 | 27381 | 67886004 |\n",
    "| United Kingdom | 2020-05-02 | 185491 | 27965 | 67886004 |\n",
    "\n",
    "\n",
    "```\n",
    "covidc = ... # your answer as a DataFrame\n",
    "q = GRADER.fetch_question('q7')\n",
    "want = pandas.DataFrame(q.rows).assign(Date=lambda df: pandas.to_datetime(df.Date))\n",
    "submit = covidc.merge(want)[q.want_cols].assign(Date=lambda df: df.Date.astype(str))\n",
    "GRADER.submit_answer(q, {'num_rows': len(covidc), 'details': submit})\n",
    "```\n",
    "\n",
    "<img src=\"res/tick2_global-cases.svg\" style=\"width:30em\">"
   ]
  },
  {
   "cell_type": "code",
   "execution_count": 39,
   "metadata": {},
   "outputs": [
    {
     "name": "stdout",
     "output_type": "stream",
     "text": [
      "file already downloaded\n"
     ]
    }
   ],
   "source": [
    "import os.path\n",
    "if os.path.exists('covid_countries_20201213.csv'):\n",
    "    print(\"file already downloaded\")\n",
    "else:\n",
    "    !wget \"https://www.cl.cam.ac.uk/teaching/2021/DataSci/data/covid_countries_20201213.csv\""
   ]
  },
  {
   "cell_type": "code",
   "execution_count": 49,
   "metadata": {},
   "outputs": [],
   "source": [
    "covid_countries = pandas.read_csv('covid_countries_20201213.csv')\n",
    "covid_countries = covid_countries[covid_countries['Province_State'].isna()]\n",
    "covid_countries = covid_countries[['Population', 'iso3']]\n",
    "\n",
    "covidc = covid.copy()\n",
    "groupA = ['Australia', 'Canada', 'China']\n",
    "groupB = ['Denmark', 'France', 'Netherlands', 'United Kingdom']\n",
    "\n",
    "for country in groupA:\n",
    "    old = covidc[covidc['Country/Region']==country]\n",
    "    aggs = {'Province/State': 'first', 'Lat': 'first', 'Long': 'first', 'Confirmed': 'sum', 'Deaths': 'sum', 'Recovered': 'sum', 'Population': 'sum', 'iso3': 'first'}\n",
    "    new = old.groupby(['Date', 'Country/Region']).agg(aggs).reset_index()\n",
    "    new['Province/State'] = np.nan\n",
    "    covidc = covidc[covidc['Country/Region']!=country]\n",
    "    covidc = pandas.concat([covidc, new], ignore_index=True)\n",
    "    \n",
    "\n",
    "for country in groupB:\n",
    "    covidc = covidc.drop(covidc[(covidc['Country/Region'] == country) & (covidc['Province/State'].notna())].index)\n",
    "        \n",
    "covidc['Date'] = pandas.to_datetime(covidc['Date'])\n",
    "covidc = covidc.drop(columns=['Population'])\n",
    "covidc.sort_values(['Country/Region', 'Date'])\n",
    "covidc = covidc.dropna(how='all')\n",
    "\n",
    "covidc = covidc.merge(covid_countries, on='iso3', how='left').sort_values(['Country/Region', 'Date'])\n",
    "covidc['Confirmed'] = covidc['Confirmed'].astype(int)\n",
    "covidc['Deaths'] = covidc['Deaths'].astype(int)\n",
    "covidc['Population'] = covidc['Population'].astype(int)\n",
    "covidc['Recovered'] = covidc['Recovered'].astype(int)"
   ]
  },
  {
   "cell_type": "code",
   "execution_count": 50,
   "metadata": {},
   "outputs": [
    {
     "name": "stdout",
     "output_type": "stream",
     "text": [
      "Correct!\n"
     ]
    },
    {
     "data": {
      "text/plain": [
       "True"
      ]
     },
     "execution_count": 50,
     "metadata": {},
     "output_type": "execute_result"
    }
   ],
   "source": [
    "q = GRADER.fetch_question('q7')\n",
    "want = pandas.DataFrame(q.rows).assign(Date=lambda df: pandas.to_datetime(df.Date))\n",
    "submit = covidc.merge(want)[q.want_cols].assign(Date=lambda df: df.Date.astype(str))\n",
    "GRADER.submit_answer(q, {'num_rows': len(covidc), 'details': submit})"
   ]
  },
  {
   "cell_type": "markdown",
   "metadata": {},
   "source": [
    "## Questions 2b - worth 1 mark\n",
    "```python\n",
    "GRADER = ucamcl.autograder('https://markmy.solutions', course='scicomp').subsection('tick2b')\n",
    "```"
   ]
  },
  {
   "cell_type": "code",
   "execution_count": 51,
   "metadata": {},
   "outputs": [
    {
     "name": "stdout",
     "output_type": "stream",
     "text": [
      "Waiting for you to log in .. done.\n"
     ]
    }
   ],
   "source": [
    "GRADER = ucamcl.autograder('https://markmy.solutions', course='scicomp').subsection('tick2b')"
   ]
  },
  {
   "cell_type": "markdown",
   "metadata": {},
   "source": [
    "**Question (q8).** We'd like to know the overall case fatality rate for each country.\n",
    "To get overall figures, we'll just look at the total confirmed cases and deaths for each country.\n",
    "Prepare a dataframe that lists this information.\n",
    "\n",
    "| **Country/Region** | **Confirmed** | **Deaths** |\n",
    "|---|---|---|\n",
    "| Australia | 28030 | 908 |\n",
    "| Austria | 319822 | 4415 |\n",
    "\n",
    "\n",
    "```\n",
    "ans = ... # your answer as a DataFrame\n",
    "q = GRADER.fetch_question('q8')\n",
    "submit = pandas.DataFrame(q.rows).merge(ans)[q.want_cols]\n",
    "GRADER.submit_answer(q, submit)\n",
    "```\n",
    "\n",
    "<img src=\"res/tick2_cfr.svg\" style=\"width:30em\"/>"
   ]
  },
  {
   "cell_type": "code",
   "execution_count": 52,
   "metadata": {},
   "outputs": [],
   "source": [
    "ans = covidc.groupby(['Country/Region']).tail(1)[['Country/Region', 'Confirmed', 'Deaths']].reset_index().drop('index', axis=1)"
   ]
  },
  {
   "cell_type": "code",
   "execution_count": 53,
   "metadata": {},
   "outputs": [
    {
     "name": "stdout",
     "output_type": "stream",
     "text": [
      "Correct!\n"
     ]
    },
    {
     "data": {
      "text/plain": [
       "True"
      ]
     },
     "execution_count": 53,
     "metadata": {},
     "output_type": "execute_result"
    }
   ],
   "source": [
    "q = GRADER.fetch_question('q8')\n",
    "submit = pandas.DataFrame(q.rows).merge(ans)[q.want_cols]\n",
    "GRADER.submit_answer(q, submit)"
   ]
  },
  {
   "cell_type": "markdown",
   "metadata": {},
   "source": [
    "**Question (q9).** The bar chart from question q5 suggests that cases were undercounted in the first wave of the pandemic. Take the first wave to be until 14 July inclusive, and the second wave to be 15 July to the most recent date, and complete the following table\n",
    "which lists the number of cases confirmed in each wave, and the number of deaths.\n",
    "\n",
    "\n",
    "| **Country/Region** | **Confirmed1** | **Deaths1** | **Confirmed2** | **Deaths2** | \n",
    "|---|---|---|---|---|\n",
    "| France | 199509 | 29929 | 2149286 | 27281 |\n",
    "| United Kingdom | 291373 | 40899 | 1539583 | 23127 |\n",
    "\n",
    "We'd like to be able to compare the spread of the disease in December versus March, and so we'd like case counts from the first and second waves to be comparable. We shall assume that true fatality rate (the fraction of infected people who die from the disease) is constant, and that the case counts from the first wave are undercounting. Add to your table a new column  called `case_multiplier`, defined as\n",
    "$$\n",
    "\\textsf{case_multiplier} = \\frac{\\textsf{Deaths1}/\\textsf{Confirmed1}}{\\textsf{Deaths2}/\\textsf{Confirmed2}}\n",
    "$$\n",
    "\n",
    "```\n",
    "ans = ... # your table as a DataFrame\n",
    "q = GRADER.fetch_question('q9')\n",
    "submit = pandas.DataFrame(q.rows).merge(ans)[q.want_cols]\n",
    "GRADER.submit_answer(q, submit)\n",
    "```\n",
    "\n",
    "*This is a huge simplification. There are differences in how countries define \"death due to COVID\", and there\n",
    "are surely differences in standard-of-care, and in demographics. Nonetheless, the plot below shows that many countries have broadly similar case fataility rates in the second wave, so `case_multiplier` is probably measuring something real; and anyway, if we only use it to compare the two waves within a single country, it doesn't matter that different countries use different definitions. It would be better to use a smoothly-varying function rather than just two levels (a multipler for the 1st, a constant 1 for the 2nd wave), but this takes more work.*\n",
    "\n",
    "\n",
    "<img src=\"res/tick2_cfr2.svg\" style=\"width:30em\"/>"
   ]
  },
  {
   "cell_type": "code",
   "execution_count": 54,
   "metadata": {},
   "outputs": [],
   "source": [
    "ans = covidc.groupby(['Country/Region']).tail(1)[['Country/Region', 'Confirmed', 'Deaths']].reset_index().drop('index', axis=1)\n",
    "ans = ans.rename(columns = {'Confirmed':'Confirmedtotal', 'Deaths': 'Deathstotal'})\n",
    "a = (covidc[covidc['Date'] == '14/07/20'][['Country/Region', 'Confirmed', 'Deaths']])\n",
    "a = a.rename(columns = {'Confirmed':'Confirmed1', 'Deaths': 'Deaths1'})\n",
    "ans = ans.merge(a)\n",
    "ans['Confirmed2'] = ans['Confirmedtotal'] - ans['Confirmed1']\n",
    "ans['Deaths2'] = ans['Deathstotal'] - ans['Deaths1']\n",
    "ans = ans.drop(['Confirmedtotal', 'Deathstotal'], axis=1)\n",
    "ans['case_multiplier'] = (ans['Deaths1'] / ans['Confirmed1']) / (ans['Deaths2'] / ans['Confirmed2'])\n",
    "multipliers = ans[['Country/Region', 'case_multiplier']]"
   ]
  },
  {
   "cell_type": "code",
   "execution_count": 55,
   "metadata": {},
   "outputs": [
    {
     "name": "stdout",
     "output_type": "stream",
     "text": [
      "Correct!\n"
     ]
    },
    {
     "data": {
      "text/plain": [
       "True"
      ]
     },
     "execution_count": 55,
     "metadata": {},
     "output_type": "execute_result"
    }
   ],
   "source": [
    "q = GRADER.fetch_question('q9')\n",
    "submit = pandas.DataFrame(q.rows).merge(ans)[q.want_cols]\n",
    "GRADER.submit_answer(q, submit)"
   ]
  },
  {
   "cell_type": "markdown",
   "metadata": {},
   "source": [
    "**Question (q10).** For each country,\n",
    "* Find the number of `new_confirmed` cases each day as in (q4), and multiply the first-wave counts by the corresponding `case_multiplier`. In maths notation, let $N_t=\\alpha_t (C_t-C_{t-1})$, where $C_t$ is the number of confirmed cases recorded in the dataset for date $t$, where where $\\alpha_t$ is the case multiplier for $t$ up to 14 July inclusive, and $\\alpha_t=1$ for later $t$.\n",
    "* Define a daily `smooth_new_confirmed` value as in (q4). In maths notation, let $S_t=(N_{t-6}+\\cdots+N_t)/7$.\n",
    "* Define a column `infected` which gives the total number of `smooth_new_confirmed` over the past $d$ days, where $d=10$ is the average duration of an infection -- this is a crude guess at the number of currently infected people. In maths notation, let $I_t=S_{t-d+1}+\\cdots+S_t.$\n",
    "* Define a column `inc` which measures the relative change. In maths notation, let $\\Delta_t=I_t/I_{t-1}$.\n",
    "* Define a column `R` which reports the daily $R$ number, which can be calculated by $R_t=d(\\Delta_t-1)+1$.\n",
    "\n",
    "| **Country/Region** | **Date** | **Confirmed** | **new_confirmed** | **smooth_new_confirmed** | **infected** | **inc** | **R** |\n",
    "|---|---|---|---|---|---|---|---|\n",
    "| United Kingdom | 2020-05-01 | 182270 | 44170.5 | 42392.5 | 436857.1 | 0.995 | 0.947 |\n",
    "| United Kingdom | 2020-05-02 | 185491 | 30098.0 | 41689.0 | 433240.9 | 0.992 | 0.917 |\n",
    "\n",
    "```\n",
    "ans = ... # Your answer as a DataFrame\n",
    "q = GRADER.fetch_question('q10')\n",
    "want = pandas.DataFrame(q.rows).assign(Date=lambda df: pandas.to_datetime(df.Date))\n",
    "submit = ans.merge(want)[q.want_cols].assign(Date=lambda df: df.Date.astype(str))\n",
    "GRADER.submit_answer(q, submit)\n",
    "```"
   ]
  },
  {
   "cell_type": "code",
   "execution_count": 56,
   "metadata": {},
   "outputs": [],
   "source": [
    "d = 10\n",
    "\n",
    "ans = covidc.copy()\n",
    "ans = ans.merge(multipliers)\n",
    "ans['new_confirmed'] = ans.groupby('Country/Region')['Confirmed'].transform(lambda x: x.diff())\n",
    "\n",
    "multiplied = ans.loc[:, 'Date'] <= '14/07/20'\n",
    "m = ans.copy()[multiplied]\n",
    "m['new_confirmed'] *= m['case_multiplier']\n",
    "ans[multiplied] = m\n",
    "\n",
    "ans['smooth_new_confirmed'] = ans.groupby('Country/Region')['new_confirmed'].transform(lambda x: x.rolling(window=7).mean())\n",
    "ans['infected'] = ans.groupby('Country/Region')['smooth_new_confirmed'].transform(lambda x: x.rolling(window=d).sum())\n",
    "ans['inc'] = ans.groupby('Country/Region')['infected'].transform(lambda x: x.pct_change() + 1)\n",
    "ans['R'] = (d * (ans['inc'] - 1)) + 1"
   ]
  },
  {
   "cell_type": "code",
   "execution_count": 57,
   "metadata": {},
   "outputs": [
    {
     "name": "stdout",
     "output_type": "stream",
     "text": [
      "Correct!\n"
     ]
    },
    {
     "data": {
      "text/plain": [
       "True"
      ]
     },
     "execution_count": 57,
     "metadata": {},
     "output_type": "execute_result"
    }
   ],
   "source": [
    "q = GRADER.fetch_question('q10')\n",
    "want = pandas.DataFrame(q.rows).assign(Date=lambda df: pandas.to_datetime(df.Date))\n",
    "submit = ans.merge(want)[q.want_cols].assign(Date=lambda df: df.Date.astype(str))\n",
    "GRADER.submit_answer(q, submit)"
   ]
  },
  {
   "cell_type": "markdown",
   "metadata": {},
   "source": [
    "**Question (q11).** Plot $R$ against against the number of infected people per 100k, one point per day, one subplot per country,\n",
    "showing the UK, Italy, Germany, and the USA.\n",
    "Annotate your plot with [axhline](https://matplotlib.org/api/_as_gen/matplotlib.axes.Axes.axhline.html) to show $R=1$,\n",
    "and with [axhspan](https://matplotlib.org/api/_as_gen/matplotlib.axes.Axes.axhspan.html)\n",
    "to show the range of $R$ values that are in between \"infections double every two weeks\" and \"infections halve every two weeks\", that is, between $\\Delta=2^{1/14}$ and $\\Delta=0.5^{1/14}$.\n",
    "\n",
    "_You don't have to submit your plot to the autograder, but you **must** include it in your submitted notebook. Your plot should look something like this. In your plot, you should pay attention to (1) making sure the subplots share the same x-axis, (2) using a log x-axis, (3) colour-coding the points to indicate what's recent versus what's historic. Annotating your plot with notable events is optional. Don't worry about fine-grained control of the plot, such as plot size or colour scheme._\n",
    "\n",
    "<img src=\"res/tick2_phase.svg\" style=\"width:40em\"/>"
   ]
  },
  {
   "cell_type": "code",
   "execution_count": 59,
   "metadata": {},
   "outputs": [
    {
     "data": {
      "text/plain": [
       "Text(0.5, 0, 'num. infected per 100k')"
      ]
     },
     "execution_count": 59,
     "metadata": {},
     "output_type": "execute_result"
    },
    {
     "data": {
      "image/png": "[encoded data removed]",
      "text/plain": [
       "<Figure size 720x576 with 4 Axes>"
      ]
     },
     "metadata": {
      "needs_background": "light"
     },
     "output_type": "display_data"
    }
   ],
   "source": [
    "df = ans\n",
    "df['infper100k'] = (df['infected'] / df['Population']) * 100000\n",
    "df = df[['Country/Region', 'Date', 'R', 'infper100k']]\n",
    "countries = ['United Kingdom', 'Italy', 'Germany', 'US']\n",
    "\n",
    "fig, (ax1,ax2,ax3,ax4) = plt.subplots(nrows=4, ncols=1, sharex=True, figsize=(10,8))\n",
    "\n",
    "for (ax, c) in zip([ax1,ax2,ax3, ax4], countries):\n",
    "    country = df[df['Country/Region'] == c]\n",
    "    x = country['infper100k']\n",
    "    y = country['R']\n",
    "    cols = plt.get_cmap('Set2', len(x))\n",
    "    ax.set_xscale('log')\n",
    "    ax.set_xlim([3,1000])\n",
    "    ax.set_ylim([0,3])\n",
    "    ax.set_title(c)\n",
    "    ax.plot(x, y, linewidth=1, color='lightgrey')\n",
    "    ax.scatter(x, y, c=country['Date'], cmap='winter', marker='+', linewidth=1)\n",
    "    ax.axhline(y=1, color='grey', linewidth=1).set_zorder(0)\n",
    "    ax.axhspan(ymin=0.5, ymax=1.5, color='lightgrey').set_zorder(0)\n",
    "    \n",
    "fig.suptitle('R versus number infected per 100k')\n",
    "plt.xlabel('num. infected per 100k')"
   ]
  },
  {
   "cell_type": "markdown",
   "metadata": {},
   "source": [
    "## Investigation\n",
    "\n",
    "More granular data for the UK is available at [https://coronavirus.data.gov.uk/details/download](https://coronavirus.data.gov.uk/details/download). Repeat this exercise, but applied to your own region. The data includes details of number of tests, saving us the `case_multiplier` hack."
   ]
  },
  {
   "cell_type": "markdown",
   "metadata": {},
   "source": [
    "## Appendix\n",
    "\n",
    "### Fetching the data\n",
    "\n",
    "This data is from a Johns Hopkins university [github repository](https://github.com/CSSEGISandData/COVID-19). For more about the dataset, \n",
    "please see [_An interactive web-based dashboard to track COVID-19 in real time_](https://doi.org/10.1016/S1473-3099(20)30120-1) by Dong, Du, and Gardner, The Lancet, May 2020."
   ]
  },
  {
   "cell_type": "markdown",
   "metadata": {},
   "source": [
    "```python\n",
    "BASE_URL = 'https://raw.githubusercontent.com/CSSEGISandData/COVID-19/master/csse_covid_19_data'\n",
    "confirmed = pandas.read_csv(f'{BASE_URL}/csse_covid_19_time_series/time_series_covid19_confirmed_global.csv')\n",
    "deaths = pandas.read_csv(f'{BASE_URL}/csse_covid_19_time_series/time_series_covid19_deaths_global.csv')\n",
    "recovered = pandas.read_csv(f'{BASE_URL}/csse_covid_19_time_series/time_series_covid19_recovered_global.csv')\n",
    "countries = pandas.read_csv(f'{BASE_URL}/UID_ISO_FIPS_LookUp_Table.csv')\n",
    "\n",
    "id_vars = ['Province/State','Country/Region','Lat','Long']\n",
    "x1 = confirmed.melt(id_vars=id_vars, var_name='Date', value_name='Confirmed')\n",
    "x2 = deaths.melt(id_vars=id_vars, var_name='Date', value_name='Deaths')\n",
    "x3 = recovered.melt(id_vars=id_vars, var_name='Date', value_name='Recovered')\n",
    "x = pandas.merge(x1,x2, how='outer', validate='1:1', on=id_vars + ['Date'])\n",
    "x = pandas.merge(x, x3, how='outer', validate='1:1', on=id_vars + ['Date'])\n",
    "for v in ['Confirmed','Deaths','Recovered']:\n",
    "    x[v] = np.where(pandas.isna(x[v]), 0, x[v]).astype(int)\n",
    "covid = x\n",
    "\n",
    "covid = covid.merge(countries[['Country_Region','Province_State','Population','iso3']],\n",
    "                    left_on = ['Country/Region','Province/State'],\n",
    "                    right_on = ['Country_Region', 'Province_State'],\n",
    "                    how = 'left')\n",
    "\n",
    "covid.drop(columns=['Country_Region', 'Province_State'], inplace=True)\n",
    "\n",
    "covid.to_csv('covid_global_latest.csv', index=False)\n",
    "```"
   ]
  },
  {
   "cell_type": "markdown",
   "metadata": {},
   "source": [
    "### Snippets for plotting"
   ]
  },
  {
   "cell_type": "code",
   "execution_count": null,
   "metadata": {},
   "outputs": [],
   "source": [
    "# Question 7\n",
    "\n",
    "want_countries = ['Austria','Belgium','Czechia','Denmark','Finland','France','Germany',\n",
    "                  'Greece','Hungary','Ireland','Italy',\n",
    "                  'Netherlands','Norway','Poland','Portugal','Spain','Sweden','Switzerland','United Kingdom',\n",
    "                  'Australia','US','Canada','Japan','China','Russia','Ukraine','India']\n",
    "\n",
    "fig,ax = plt.subplots(figsize=(8,4))\n",
    "for c in want_countries:\n",
    "    df = covidc.loc[covidc['Country/Region']==c]\n",
    "    x,y = df.Confirmed / df.Population*100000, df.Deaths / df.Population*100000\n",
    "    ax.plot(x, y, label=c)\n",
    "    # note: ax.text can only plot one text label at a time\n",
    "    ax.text(x.iloc[-1], y.iloc[-1], c, ha='left', va='baseline')\n",
    "ax.set_xlabel('confirmed/100k')\n",
    "ax.set_ylabel('deaths/100k')\n",
    "plt.show()"
   ]
  },
  {
   "cell_type": "code",
   "execution_count": null,
   "metadata": {},
   "outputs": [],
   "source": [
    "# Question 8\n",
    "\n",
    "df = ... # dataframe for Question 8\n",
    "df = df.loc[df['Country/Region'].isin(want_countries)]\n",
    "\n",
    "fig,ax = plt.subplots(figsize=(8,6))\n",
    "ax.scatter(df.Confirmed, df.Deaths)\n",
    "for i in range(len(df)):\n",
    "    ax.text(df.Confirmed.iloc[i]*1.055, df.Deaths.iloc[i], df['Country/Region'].iloc[i], ha='left', va='center',\n",
    "           fontsize=7)\n",
    "xx = np.power(10, np.linspace(4.5,7.4,100))\n",
    "for cfr in [.01,.02,.04]:\n",
    "    ax.plot(xx, xx*cfr, color='0.6', linestyle='dashed')\n",
    "    ax.text(xx[-1], xx[-1]*cfr, f'cfr {cfr*100}%', ha='left')\n",
    "ax.set_xscale('log')\n",
    "ax.set_yscale('log')\n",
    "ax.set_xlabel('confirmed cases')\n",
    "ax.set_ylabel('deaths')\n",
    "plt.show()"
   ]
  },
  {
   "cell_type": "code",
   "execution_count": null,
   "metadata": {},
   "outputs": [],
   "source": [
    "# Question 9\n",
    "\n",
    "df = ... # dataframe for Question 9\n",
    "df = df.loc[df['Country/Region'].isin(want_countries)]\n",
    "\n",
    "fig,ax = plt.subplots(figsize=(8,6))\n",
    "ax.scatter(df.Confirmed1, df.Deaths1, color='cornflowerblue')\n",
    "ax.scatter(df.Confirmed2, df.Deaths2, color='goldenrod')\n",
    "for i in range(len(df)):\n",
    "    x1,y1 = df.Confirmed1.iloc[i], df.Deaths1.iloc[i]\n",
    "    x2,y2 = df.Confirmed2.iloc[i], df.Deaths2.iloc[i]\n",
    "    ax.plot([x1,x2],[y1,y2], color='black', alpha=.4, linewidth=.5, zorder=-1)\n",
    "    # the nudge *1.055 is just to offset the text label from the marker\n",
    "    ax.text(x2*1.055,y2, df['Country/Region'].iloc[i], ha='left', va='center', fontsize=7)\n",
    "xx = np.power(10, np.linspace(4.5,7.4,100))\n",
    "for cfr in [.01,.02,.04]:\n",
    "    ax.plot(xx, xx*cfr, color='0.6', linestyle='dashed')\n",
    "    ax.text(xx[-1], xx[-1]*cfr, f'cfr {cfr*100}%', ha='left')\n",
    "ax.set_xscale('log')\n",
    "ax.set_yscale('log')\n",
    "ax.set_xlabel('confirmed cases')\n",
    "ax.set_ylabel('deaths')\n",
    "plt.show()"
   ]
  },
  {
   "cell_type": "code",
   "execution_count": null,
   "metadata": {},
   "outputs": [],
   "source": [
    "# Question 12\n",
    "\n",
    "# Data for special dates\n",
    "\n",
    "import io\n",
    "specials = pandas.read_csv(io.StringIO('''\n",
    "Country/Region,Date,event\n",
    "\"United Kingdom\",2020-03-23,\"lockdown\"\n",
    ",2020-07-04,\"open\"\n",
    ",2020-07-24,\"facemasks\"\n",
    ",2020-09-14,\"unsocial\"\n",
    ",2020-09-17,\"local\"\n",
    ",2020-10-03,\"local\"\n",
    ",2020-10-14,\"local\"\n",
    ",2020-10-23,\"local\"\n",
    ",2020-11-05,\"lockdown2\"\n",
    ",2020-12-02,\"open2\"\n",
    "'''))\n",
    "specials['Date'] = pandas.to_datetime(specials['Date'])\n",
    "specials['Country/Region'] = specials['Country/Region'].fillna(method='ffill')\n",
    "\n",
    "# To show these specials as annotations:\n",
    "# merge the specials dataframe with your full per-country-and-date dataframe,\n",
    "# and then just plot the points where event isn't NaN."
   ]
  }
 ],
 "metadata": {
  "kernelspec": {
   "display_name": "Python 3",
   "language": "python",
   "name": "python3"
  },
  "language_info": {
   "codemirror_mode": {
    "name": "ipython",
    "version": 3
   },
   "file_extension": ".py",
   "mimetype": "text/x-python",
   "name": "python",
   "nbconvert_exporter": "python",
   "pygments_lexer": "ipython3",
   "version": "3.8.5"
  }
 },
 "nbformat": 4,
 "nbformat_minor": 4
}
