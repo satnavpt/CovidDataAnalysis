{
 "cells": [
  {
   "cell_type": "markdown",
   "metadata": {},
   "source": [
    "# Tick 1: numpy\n",
    "\n",
    "* [Numpy warmup exercises](#Numpy-warmup-exercises---not-assessed) (not assessed)\n",
    "* [Questions 1a](#Questions-1a---worth-1-mark) (worth 1 mark)\n",
    "* [Questions 1b](#Questions-1b---worth-1-mark) (worth 1 mark)\n",
    "* [Investigation](#Investigation---not-assessed) (not assessed)"
   ]
  },
  {
   "cell_type": "code",
   "execution_count": 5,
   "metadata": {
    "jupyter": {
     "source_hidden": true
    }
   },
   "outputs": [
    {
     "data": {
      "image/jpeg": "[encoded data removed]",
      "text/html": [
       "\n",
       "        <iframe\n",
       "            width=\"560\"\n",
       "            height=\"315\"\n",
       "            src=\"https://www.youtube.com/embed/H7WmvsYYoVk\"\n",
       "            frameborder=\"0\"\n",
       "            allowfullscreen\n",
       "        ></iframe>\n",
       "        "
      ],
      "text/plain": [
       "<IPython.lib.display.YouTubeVideo at 0x7f19a03d9a60>"
      ]
     },
     "execution_count": 5,
     "metadata": {},
     "output_type": "execute_result"
    }
   ],
   "source": [
    "from IPython.display import YouTubeVideo\n",
    "YouTubeVideo('H7WmvsYYoVk', width=560, height=315)"
   ]
  },
  {
   "cell_type": "markdown",
   "metadata": {},
   "source": [
    "\n",
    "\n",
    "* [Sir Patrick Vallence's evidence in the Science and Technology committee](https://committees.parliament.uk/oralevidence/1122/default/)\n",
    "* [Prof Ferguson's simulator](https://github.com/mrc-ide/covid-sim/blob/ec807e2a6a96dd58f67170b55b82cc5f969a16df/src/Models/Person.h) which has a record for each simulated person\n",
    "* [Youyang Gu's simulator](https://github.com/youyanggu/yyg-seir-simulator/blob/master/simulation.py) which simply tracks total numbers\n",
    "* [New York Times survey of models](https://www.nytimes.com/interactive/2020/05/12/upshot/coronavirus-models.html)\n",
    "\n",
    "We'll model a population of $N$ individuals, each of them either **S**usceptible, or **I**nfected, or **R**ecovered. Once **R**ecovered, they do not become **I**nfected again. Each day, each person goes to a locus. If there are any **I**nfected people in a locus, each **S**usceptible person at that locus has a probability `prob_infect` of becoming **I**nfected. At the end of the day, each person who was **I**nfected at the start of the day **R**ecovers with probability `prob_recover`. (A simple probability calculation shows that the average number of days a person is infected is `1/prob_recover`.)\n",
    "\n",
    "The spread of the epidemic depends on the number of people gathering in each locus. If some loci have many people, the epidemic will spread quicker. If loci are limited to a small number of people, the epidemic will spread slower. We'll model loci as having random numbers of people, we'll assign people randomly to loci, and we'll generate a new set of loci each day.\n",
    "\n",
    "\n",
    "<div class=\"alert alert-warning\">This assignment tests your vectorized thinking. You will be asked to run simulations on a population of tens of thousands of individuals, in tens of thousands of locations, over many timesteps. <strong>YOUR CODE MUST USE NUMPY VECTORIZED OPERATIONS</strong> to iterate over the population or over loci. Do not use Python 'for' loops or list comprehensions, and do not use <code style=\"background-color:inherit\">np.vectorize</code> either. For any other iteration, e.g. over simulated timesteps, or over simulation parameters, it's a good idea to use 'for' loops or list comprehension.\n",
    "</div>"
   ]
  },
  {
   "cell_type": "markdown",
   "metadata": {},
   "source": [
    "# Numpy warmup exercises - not assessed\n",
    "\n",
    "These are optional warmup exercises, to get you used to numpy. \n",
    "Use the following autograder settings:\n",
    "```python\n",
    "import ucamcl\n",
    "GRADER = ucamcl.autograder('https://markmy.solutions', course='scicomp').subsection('ex1')\n",
    "```\n",
    "For these exercises, there is no answer for you to submit. Instead, the autograder shows a model answer.\n",
    "Use it like this:\n",
    "```python\n",
    "q = GRADER.fetch_question('q1')\n",
    "print(q)\n",
    "```"
   ]
  },
  {
   "cell_type": "code",
   "execution_count": 6,
   "metadata": {
    "jupyter": {
     "source_hidden": true
    }
   },
   "outputs": [],
   "source": [
    "import ucamcl"
   ]
  },
  {
   "cell_type": "code",
   "execution_count": 7,
   "metadata": {
    "jupyter": {
     "source_hidden": true
    }
   },
   "outputs": [
    {
     "name": "stdout",
     "output_type": "stream",
     "text": [
      "Waiting for you to log in ... done.\n"
     ]
    }
   ],
   "source": [
    "GRADER = ucamcl.autograder('https://markmy.solutions', course='scicomp').subsection('ex1')"
   ]
  },
  {
   "cell_type": "markdown",
   "metadata": {},
   "source": [
    "**Question (q1)** from section 2.2. Here is some standard Python code:\n",
    "```python\n",
    "import math, random\n",
    "x = random.uniform(-1, 1)\n",
    "y = random.uniform(-1, 1)\n",
    "d = math.sqrt(x**2 + y**2)\n",
    "```\n",
    "We'd like to repeat this a million times, and find the mean and standard deviation of the `d` values. Implement this using numpy vectorized code."
   ]
  },
  {
   "cell_type": "code",
   "execution_count": 8,
   "metadata": {
    "jupyter": {
     "source_hidden": true
    }
   },
   "outputs": [],
   "source": [
    "import numpy as np"
   ]
  },
  {
   "cell_type": "code",
   "execution_count": 9,
   "metadata": {
    "jupyter": {
     "source_hidden": true
    }
   },
   "outputs": [
    {
     "ename": "NameError",
     "evalue": "name 'rand_seed' is not defined",
     "output_type": "error",
     "traceback": [
      "\u001b[0;31m---------------------------------------------------------------------------\u001b[0m",
      "\u001b[0;31mNameError\u001b[0m                                 Traceback (most recent call last)",
      "\u001b[0;32m<ipython-input-9-1e0583288244>\u001b[0m in \u001b[0;36m<module>\u001b[0;34m\u001b[0m\n\u001b[1;32m      6\u001b[0m \u001b[0;34m\u001b[0m\u001b[0m\n\u001b[1;32m      7\u001b[0m \u001b[0mN\u001b[0m \u001b[0;34m=\u001b[0m \u001b[0;36m1000000\u001b[0m\u001b[0;34m\u001b[0m\u001b[0;34m\u001b[0m\u001b[0m\n\u001b[0;32m----> 8\u001b[0;31m \u001b[0mrng\u001b[0m \u001b[0;34m=\u001b[0m \u001b[0mnp\u001b[0m\u001b[0;34m.\u001b[0m\u001b[0mrandom\u001b[0m\u001b[0;34m.\u001b[0m\u001b[0mdefault_rng\u001b[0m\u001b[0;34m(\u001b[0m\u001b[0mrand_seed\u001b[0m\u001b[0;34m)\u001b[0m\u001b[0;34m\u001b[0m\u001b[0;34m\u001b[0m\u001b[0m\n\u001b[0m\u001b[1;32m      9\u001b[0m \u001b[0mxys\u001b[0m \u001b[0;34m=\u001b[0m \u001b[0mrng\u001b[0m\u001b[0;34m.\u001b[0m\u001b[0muniform\u001b[0m\u001b[0;34m(\u001b[0m\u001b[0mlow\u001b[0m\u001b[0;34m=\u001b[0m\u001b[0;34m-\u001b[0m\u001b[0;36m1\u001b[0m\u001b[0;34m,\u001b[0m \u001b[0mhigh\u001b[0m\u001b[0;34m=\u001b[0m\u001b[0;36m1\u001b[0m\u001b[0;34m,\u001b[0m \u001b[0msize\u001b[0m\u001b[0;34m=\u001b[0m\u001b[0;34m(\u001b[0m\u001b[0mN\u001b[0m\u001b[0;34m,\u001b[0m \u001b[0;36m2\u001b[0m\u001b[0;34m)\u001b[0m\u001b[0;34m)\u001b[0m\u001b[0;34m\u001b[0m\u001b[0;34m\u001b[0m\u001b[0m\n\u001b[1;32m     10\u001b[0m \u001b[0mds\u001b[0m \u001b[0;34m=\u001b[0m \u001b[0;34m(\u001b[0m\u001b[0mxys\u001b[0m\u001b[0;34m[\u001b[0m\u001b[0;34m:\u001b[0m\u001b[0;34m,\u001b[0m \u001b[0;36m0\u001b[0m\u001b[0;34m]\u001b[0m\u001b[0;34m**\u001b[0m\u001b[0;36m2\u001b[0m \u001b[0;34m+\u001b[0m \u001b[0mxys\u001b[0m\u001b[0;34m[\u001b[0m\u001b[0;34m:\u001b[0m\u001b[0;34m,\u001b[0m \u001b[0;36m1\u001b[0m\u001b[0;34m]\u001b[0m\u001b[0;34m**\u001b[0m\u001b[0;36m2\u001b[0m\u001b[0;34m)\u001b[0m\u001b[0;34m**\u001b[0m\u001b[0;36m0.5\u001b[0m\u001b[0;34m\u001b[0m\u001b[0;34m\u001b[0m\u001b[0m\n",
      "\u001b[0;31mNameError\u001b[0m: name 'rand_seed' is not defined"
     ]
    }
   ],
   "source": [
    "import math, random\n",
    "x = random.uniform(-1, 1)\n",
    "y = random.uniform(-1, 1)\n",
    "d = math.sqrt(x**2 + y**2)\n",
    "\n",
    "\n",
    "N = 1000000\n",
    "rng = np.random.default_rng(rand_seed)\n",
    "xys = rng.uniform(low=-1, high=1, size=(N, 2))\n",
    "ds = (xys[:, 0]**2 + xys[:, 1]**2)**0.5\n",
    "\n",
    "mean = np.mean(ds)\n",
    "std = np.std(ds)\n",
    "\n",
    "(mean, std)"
   ]
  },
  {
   "cell_type": "code",
   "execution_count": null,
   "metadata": {
    "jupyter": {
     "source_hidden": true
    }
   },
   "outputs": [],
   "source": [
    "q = GRADER.fetch_question('q1')\n",
    "print(q)"
   ]
  },
  {
   "cell_type": "markdown",
   "metadata": {},
   "source": [
    "**Question (q2)** from section 2.3. Look up the help for [`np.argmax`](https://docs.scipy.org/doc/numpy/reference/routines.sort.html#searching). Generate the vectors\n",
    "```python\n",
    "x = np.linspace(.1,10,1000)\n",
    "a = x**2\n",
    "b = 0.01*(np.exp(x)-1)\n",
    "```\n",
    "and find the first `x` value at which `a<b`."
   ]
  },
  {
   "cell_type": "code",
   "execution_count": null,
   "metadata": {
    "jupyter": {
     "source_hidden": true
    }
   },
   "outputs": [],
   "source": [
    "x = np.linspace(.1,10,1000)\n",
    "a = x**2\n",
    "b = 0.01*(np.exp(x)-1)\n",
    "\n",
    "x[np.argmax(a<b)]"
   ]
  },
  {
   "cell_type": "code",
   "execution_count": null,
   "metadata": {
    "jupyter": {
     "source_hidden": true
    }
   },
   "outputs": [],
   "source": [
    "q = GRADER.fetch_question('q2')\n",
    "print(q)"
   ]
  },
  {
   "cell_type": "markdown",
   "metadata": {},
   "source": [
    "**Question (q3)** from section 2.3. I have a list of names which I can sort alphabetically using `np.argsort`,\n",
    "```python\n",
    "names = np.array(['alexis','chloe','guarav','shay','adrian','rebecca'])\n",
    "i = np.argsort(names)\n",
    "names_rank = np.char.add(names[i], np.arange(1,7).astype(str))\n",
    "```\n",
    "How can I put `names_rank` back in the original order?"
   ]
  },
  {
   "cell_type": "code",
   "execution_count": null,
   "metadata": {
    "jupyter": {
     "source_hidden": true
    }
   },
   "outputs": [],
   "source": [
    "names = np.array(['alexis','chloe','guarav','shay','adrian','rebecca'])\n",
    "i = np.argsort(names)\n",
    "names_rank = np.char.add(names[i], np.arange(1,7).astype(str))\n",
    "\n",
    "names_rank[i] = np.copy(names_rank)\n",
    "print(names_rank)"
   ]
  },
  {
   "cell_type": "code",
   "execution_count": null,
   "metadata": {
    "jupyter": {
     "source_hidden": true
    }
   },
   "outputs": [],
   "source": [
    "q = GRADER.fetch_question('q3')\n",
    "print(q)"
   ]
  },
  {
   "cell_type": "markdown",
   "metadata": {},
   "source": [
    "**Question (q4)** from section 3. For a numpy matrix `a`, what is the relationship between `a.shape` and `len(a)`?"
   ]
  },
  {
   "cell_type": "markdown",
   "metadata": {},
   "source": [
    "a.shape gives the full dimensions where as len(a) gives the first dimension."
   ]
  },
  {
   "cell_type": "code",
   "execution_count": null,
   "metadata": {
    "jupyter": {
     "source_hidden": true
    }
   },
   "outputs": [],
   "source": [
    "q = GRADER.fetch_question('q4')\n",
    "print(q)"
   ]
  },
  {
   "cell_type": "markdown",
   "metadata": {},
   "source": [
    "**Question (q5)** from section 3. Look up the numpy help for [`np.arange`](https://docs.scipy.org/doc/numpy/reference/generated/numpy.arange.html) and [`reshape`](https://docs.scipy.org/doc/numpy/reference/generated/numpy.ndarray.reshape.html), and use these functions to produce the $3\\times5$ matrix\n",
    "$$\n",
    "b = \\left( \\begin{matrix} \n",
    "1 & 2 & 3 & 4 & 5\\\\\n",
    "6 & 7 & 8 & 9 & 10\\\\\n",
    "11 & 12 & 13 & 14 & 15\n",
    "\\end{matrix} \\right)\n",
    "$$\n",
    "\n",
    "Look up the help for [`np.sum`](https://docs.scipy.org/doc/numpy/reference/generated/numpy.sum.html), and compute the length-5 vector of column sums and the length-3 vector of row sums."
   ]
  },
  {
   "cell_type": "code",
   "execution_count": null,
   "metadata": {
    "jupyter": {
     "source_hidden": true
    }
   },
   "outputs": [],
   "source": [
    "nums = np.arange(1, 16)\n",
    "nums2 = nums.reshape(3,5)\n",
    "a = np.sum(nums2, axis=0)\n",
    "b = np.sum(nums2, axis=1)\n",
    "(a, b)"
   ]
  },
  {
   "cell_type": "code",
   "execution_count": null,
   "metadata": {
    "jupyter": {
     "source_hidden": true
    }
   },
   "outputs": [],
   "source": [
    "q = GRADER.fetch_question('q5')\n",
    "print(q)"
   ]
  },
  {
   "cell_type": "markdown",
   "metadata": {},
   "source": [
    "**Question (q6)** from section 3. Find two different ways to use numpy to create the column vector\n",
    "`[[1],[2],...,[n]]`."
   ]
  },
  {
   "cell_type": "code",
   "execution_count": null,
   "metadata": {
    "jupyter": {
     "source_hidden": true
    }
   },
   "outputs": [],
   "source": [
    "n=5\n",
    "a = np.arange(1, n+1)\n",
    "print(a)\n",
    "print(a[:, None])\n",
    "print(a.reshape(-1,1))\n",
    "print(np.array([a]).T)"
   ]
  },
  {
   "cell_type": "code",
   "execution_count": null,
   "metadata": {
    "jupyter": {
     "source_hidden": true
    }
   },
   "outputs": [],
   "source": [
    "q = GRADER.fetch_question('q6')\n",
    "print(q)"
   ]
  },
  {
   "cell_type": "markdown",
   "metadata": {},
   "source": [
    "**Question (q7)** from section 3. A [permutation matrix](https://en.wikipedia.org/wiki/Permutation_matrix) is a square matrix of 0s and 1s,\n",
    "where each row contains exactly one 1, and each column likewise. (The code snippet in section 2.3 of notes, for 'advanced indexing', creates a $3\\times3$ permutation matrix.)\n",
    "\n",
    "Write code to generate a random $n\\times n$ permutation matrix."
   ]
  },
  {
   "cell_type": "code",
   "execution_count": null,
   "metadata": {
    "jupyter": {
     "source_hidden": true
    }
   },
   "outputs": [],
   "source": [
    "n = 7\n",
    "a = np.zeros((n, n), dtype=int)\n",
    "a[np.arange(n), np.random.permutation(n)] = 1\n",
    "a"
   ]
  },
  {
   "cell_type": "code",
   "execution_count": null,
   "metadata": {
    "jupyter": {
     "source_hidden": true
    }
   },
   "outputs": [],
   "source": [
    "q = GRADER.fetch_question('q7')\n",
    "print(q)"
   ]
  },
  {
   "cell_type": "markdown",
   "metadata": {},
   "source": [
    "**Question (q8)** from section 2.2. In a Exercise ex0 Question q6 you wrote a Pythonic simulator for a queue, based on the recursion\n",
    "$$\n",
    "q_{t+1} = \\max(q_t + a_t - C, 0).\n",
    "$$\n",
    "It can be proved that another way to get the same answer is with the formula\n",
    "$$\n",
    "q_t = q_0 + x_t - \\min(0, y_t)\n",
    "$$\n",
    "where\n",
    "$$\n",
    "x_t = \\sum_{u=0}^{t-1} (a_u-C)\n",
    "\\quad\\text{and}\\quad\n",
    "y_t = \\min_{1 \\leq u \\leq t} (q_0 + x_u).\n",
    "$$\n",
    "Given a vector $a=[a_0,a_1,\\dots,a_{t-1}]$,\n",
    "* compute $x=[x_1,x_2,\\dots,x_t]$ using [`np.cumsum`](https://docs.scipy.org/doc/numpy/reference/generated/numpy.cumsum.html)\n",
    "* compute $y=[y_1,y_2,\\dots,y_t]$ by [accumulating](https://docs.scipy.org/doc/numpy/reference/generated/numpy.ufunc.accumulate.html) the function `np.minimum`\n",
    "* compute $q=[q_1,q_2,\\dots,q_t]$, and check your answer against your Pythonic code."
   ]
  },
  {
   "cell_type": "code",
   "execution_count": null,
   "metadata": {
    "jupyter": {
     "source_hidden": true
    }
   },
   "outputs": [],
   "source": [
    "q0 = 1\n",
    "C = 3\n",
    "a = np.array([4, 1, 2, 8, 2, 3, 1])\n",
    "x = np.cumsum(a-C)\n",
    "y = np.minimum.accumulate(q0 + x)\n",
    "q = q0 + x - np.minimum(0, y)\n",
    "q"
   ]
  },
  {
   "cell_type": "markdown",
   "metadata": {},
   "source": [
    "## Questions 1a - worth 1 mark\n",
    "```python\n",
    "GRADER = ucamcl.autograder('https://markmy.solutions', course='scicomp').subsection('tick1a')\n",
    "```"
   ]
  },
  {
   "cell_type": "code",
   "execution_count": 10,
   "metadata": {},
   "outputs": [],
   "source": [
    "import matplotlib.pyplot as plt\n",
    "import pandas\n",
    "import numpy as np\n",
    "import ucamcl"
   ]
  },
  {
   "cell_type": "code",
   "execution_count": 11,
   "metadata": {},
   "outputs": [
    {
     "name": "stdout",
     "output_type": "stream",
     "text": [
      "Waiting for you to log in .. done.\n"
     ]
    }
   ],
   "source": [
    "GRADER = ucamcl.autograder('https://markmy.solutions', course='scicomp').subsection('tick1a')"
   ]
  },
  {
   "cell_type": "markdown",
   "metadata": {},
   "source": [
    "**Question (q1).** Here is code to generate a vector of $N$ sizes for loci.\n",
    "```\n",
    "def random_sizes(N, avg_size): return np.random.geometric(1/avg_size, size=N)\n",
    "```\n",
    "We don't actually want a vector of $N$ sizes, we want a vector of sizes that adds up to $N$. Write a function `trunc_sizes(s)`\n",
    "that truncates the vector returned by `random_sizes`, and reduces the size of the final locus if necessary. \n",
    "\n",
    "```\n",
    "q = GRADER.fetch_question('q1')\n",
    "ans = trunc_sizes(q.s)\n",
    "GRADER.submit_answer(q, ans)\n",
    "```"
   ]
  },
  {
   "cell_type": "code",
   "execution_count": 12,
   "metadata": {},
   "outputs": [],
   "source": [
    "def random_sizes(N, avg_size):\n",
    "    return np.random.geometric(1/avg_size, size=N)"
   ]
  },
  {
   "cell_type": "code",
   "execution_count": 13,
   "metadata": {},
   "outputs": [],
   "source": [
    "def trunc_sizes(sizes):\n",
    "    N = len(sizes)\n",
    "    cummul = np.cumsum(sizes)\n",
    "    cummul[cummul>N] = 0\n",
    "    cummul[cummul==0] = sizes[0]\n",
    "    maxind = np.argmax(cummul) + 1\n",
    "    if maxind == 1: sizestrunc = sizes[:maxind]\n",
    "    else: sizestrunc = sizes[:maxind+1]\n",
    "    lastind = np.size(sizestrunc) - 1\n",
    "    diff = (np.sum(sizestrunc) - N)\n",
    "    sizestrunc[lastind] -= diff\n",
    "    sizestrunc = np.trim_zeros(np.array(sizestrunc))\n",
    "    return (sizestrunc)"
   ]
  },
  {
   "cell_type": "code",
   "execution_count": 14,
   "metadata": {},
   "outputs": [],
   "source": [
    "q = GRADER.fetch_question('q1')\n",
    "ans = trunc_sizes(q.s)"
   ]
  },
  {
   "cell_type": "code",
   "execution_count": 15,
   "metadata": {},
   "outputs": [
    {
     "name": "stdout",
     "output_type": "stream",
     "text": [
      "Correct!\n"
     ]
    },
    {
     "data": {
      "text/plain": [
       "True"
      ]
     },
     "execution_count": 15,
     "metadata": {},
     "output_type": "execute_result"
    }
   ],
   "source": [
    "GRADER.submit_answer(q, ans)"
   ]
  },
  {
   "cell_type": "markdown",
   "metadata": {},
   "source": [
    "**Question (q2).** Let `loc_sizes` be a vector of locus sizes that sums up to $N$, and let it have length $M$. Write a function\n",
    "`person_in(loc_sizes)` that computes a length-$N$ vector, containing the index of the locus that each person is in, as in the diagram below. Write another function `first_occ(loc_sizes)` that computes a length-$M$ vector, containing the index of the first person in each locus.\n",
    "\n",
    "```\n",
    "q = GRADER.fetch_question('q2')\n",
    "ans = {'person_in': person_in(q.loc_sizes), 'first_occ': first_occ(q.loc_sizes)}\n",
    "GRADER.submit_answer(q, ans)\n",
    "```\n",
    "\n",
    "<img src=\"res/tick1_locs.svg\" style=\"width:40em\">"
   ]
  },
  {
   "cell_type": "code",
   "execution_count": 16,
   "metadata": {},
   "outputs": [],
   "source": [
    "def person_in(loc_sizes):\n",
    "    loc_sizes = np.array(loc_sizes)\n",
    "    M = np.size(loc_sizes)\n",
    "    P = np.repeat(np.arange(0, M), loc_sizes)\n",
    "    return (P)"
   ]
  },
  {
   "cell_type": "code",
   "execution_count": 17,
   "metadata": {},
   "outputs": [],
   "source": [
    "def first_occ(loc_sizes):\n",
    "    loc_sizes = np.array(loc_sizes)\n",
    "    M = np.size(loc_sizes)\n",
    "    F = np.cumsum(loc_sizes)\n",
    "    A = np.zeros(M, dtype=int)\n",
    "    A[1:] = F[:-1]\n",
    "    return A"
   ]
  },
  {
   "cell_type": "code",
   "execution_count": 18,
   "metadata": {},
   "outputs": [],
   "source": [
    "q = GRADER.fetch_question('q2')\n",
    "ans = {'person_in': person_in(q.loc_sizes), 'first_occ': first_occ(q.loc_sizes)}"
   ]
  },
  {
   "cell_type": "code",
   "execution_count": 19,
   "metadata": {},
   "outputs": [
    {
     "name": "stdout",
     "output_type": "stream",
     "text": [
      "Correct!\n"
     ]
    },
    {
     "data": {
      "text/plain": [
       "True"
      ]
     },
     "execution_count": 19,
     "metadata": {},
     "output_type": "execute_result"
    }
   ],
   "source": [
    "GRADER.submit_answer(q, ans)"
   ]
  },
  {
   "cell_type": "markdown",
   "metadata": {},
   "source": [
    "**Question (q3).** Let `infected` be a vector of length $N$ consisting of 0s and 1s. Write a function `exposure(infected,loc_sizes)` that returns a vector of length $N$, where each entry $i$ counts the number of infected people in the locus that person $i$ is in. \n",
    "Assume that people are assigned to loci sequentially, as in the diagram above&mdash;do not implement shuffling at this stage.\n",
    "\n",
    "```\n",
    "q = GRADER.fetch_question('q3')\n",
    "ans = exposure(np.array(q.infected), q.loc_sizes)\n",
    "GRADER.submit_answer(q, ans)\n",
    "```"
   ]
  },
  {
   "cell_type": "code",
   "execution_count": 20,
   "metadata": {},
   "outputs": [],
   "source": [
    "def exposure(infected, loc_sizes):\n",
    "    infected = np.array(infected)\n",
    "    loc_sizes = np.array(loc_sizes)\n",
    "    per_in = person_in(loc_sizes)\n",
    "    fi_occ = first_occ(loc_sizes)\n",
    "    \n",
    "    a = np.cumsum(loc_sizes)\n",
    "    breaks = np.zeros(np.size(a)+1, dtype=int)\n",
    "    breaks[1:] = a\n",
    "    \n",
    "    sums = np.add.reduceat((infected > 0).astype(int), breaks[:-1], dtype=np.int)\n",
    "    \n",
    "    ans = np.repeat(sums, loc_sizes)\n",
    "    return ans"
   ]
  },
  {
   "cell_type": "code",
   "execution_count": 21,
   "metadata": {},
   "outputs": [],
   "source": [
    "q = GRADER.fetch_question('q3')\n",
    "ans = exposure(np.array(q.infected), q.loc_sizes)"
   ]
  },
  {
   "cell_type": "code",
   "execution_count": 22,
   "metadata": {},
   "outputs": [
    {
     "name": "stdout",
     "output_type": "stream",
     "text": [
      "Correct!\n"
     ]
    },
    {
     "data": {
      "text/plain": [
       "True"
      ]
     },
     "execution_count": 22,
     "metadata": {},
     "output_type": "execute_result"
    }
   ],
   "source": [
    "GRADER.submit_answer(q, ans)"
   ]
  },
  {
   "cell_type": "markdown",
   "metadata": {},
   "source": [
    "**Question (q4).** Write a function \n",
    "```python\n",
    "sim(N, T, n0, avg_loc_size=2.1, prob_infect=0.07, prob_recover=1/10)\n",
    "```\n",
    "which runs the simulator on a population of size $N$ for $T$ days, where $n_0$ is the number of people who were initially infected, prior to the first simulated day. Remember that people are assigned randomly to loci.\n",
    "\n",
    "Your simulator should return a matrix with $T$ rows and 4 columns, which record respectively for each day (1) the number of new infections that day, (2) the number of recoveries that day, (3) the total number infected at the end of that day, (4) the total number recovered by the end of that day. \n",
    "\n",
    "```\n",
    "q = GRADER.fetch_question('q4')\n",
    "x = sim(N=q.N, T=q.T, ...) # fill in the rest from q\n",
    "ans = x[-1,3]/q.N\n",
    "GRADER.submit_answer(q, ans)\n",
    "```"
   ]
  },
  {
   "cell_type": "code",
   "execution_count": 23,
   "metadata": {},
   "outputs": [],
   "source": [
    "def sim_infections(infected, exposed, prob_infect):\n",
    "    infected[infected == 2] = 1\n",
    "    original_total = np.sum((np.copy(infected) > 0).astype(int))\n",
    "    infected[((np.random.rand(*infected.shape) < prob_infect).astype(int)==1) & (exposed > 0) & (infected == 0)] = 2\n",
    "    return ((np.sum((infected > 0).astype(int)) - original_total))\n",
    "    \n",
    "def sim_recoveries(infected, exposed, prob_recover):\n",
    "    original_infected = np.copy(infected)\n",
    "    original_total = np.sum((original_infected > 0).astype(int))\n",
    "    probs = np.random.rand(*infected.shape)\n",
    "    probs = (probs < prob_recover).astype(int)\n",
    "    infected[(probs==1) & (infected == 1)] = -1\n",
    "    total = np.sum((infected > 0).astype(int))\n",
    "    total_recovered = (original_total - total)\n",
    "    return (total_recovered)"
   ]
  },
  {
   "cell_type": "code",
   "execution_count": 24,
   "metadata": {},
   "outputs": [],
   "source": [
    "def sim(N, T, n0, avg_loc_size=2.1, prob_infect=0.07, prob_recover=1/10):\n",
    "    loc_sizes = trunc_sizes(random_sizes(N, avg_loc_size))\n",
    "    infected = np.zeros(N, dtype=int)\n",
    "    infected[:n0] = 1\n",
    "    infected = np.random.permutation(infected)\n",
    "    exposed = exposure(infected, loc_sizes)\n",
    "    \n",
    "    A = np.zeros((T, 4), dtype=int)\n",
    "    \n",
    "    for x in range (0, T):\n",
    "        infected_today = sim_infections(infected, exposed, prob_infect)\n",
    "        exposed = exposure(infected, loc_sizes)\n",
    "        recovered_today = sim_recoveries(infected, exposed, prob_recover)\n",
    "        exposed = exposure(infected, loc_sizes)\n",
    "        total_infections = np.sum((infected != 0).astype(int))\n",
    "        total_recoveries = np.sum((infected == -1).astype(int))\n",
    "        a = [infected_today, recovered_today, total_infections, total_recoveries]\n",
    "        A[x] = a\n",
    "        infected = np.random.permutation(infected)\n",
    "        exposed = exposure(infected, loc_sizes)\n",
    "        \n",
    "    \n",
    "    return A"
   ]
  },
  {
   "cell_type": "code",
   "execution_count": 25,
   "metadata": {},
   "outputs": [],
   "source": [
    "q = GRADER.fetch_question('q4')\n",
    "x = sim(N=q.N, T=q.T, n0=q.n0, avg_loc_size=q.avg_loc_size, prob_infect=q.prob_infect, prob_recover=q.prob_recover)\n",
    "ans = x[-1,3]/q.N"
   ]
  },
  {
   "cell_type": "code",
   "execution_count": 26,
   "metadata": {},
   "outputs": [
    {
     "name": "stdout",
     "output_type": "stream",
     "text": [
      "Correct!\n"
     ]
    },
    {
     "data": {
      "text/plain": [
       "True"
      ]
     },
     "execution_count": 26,
     "metadata": {},
     "output_type": "execute_result"
    }
   ],
   "source": [
    "GRADER.submit_answer(q, ans)"
   ]
  },
  {
   "cell_type": "markdown",
   "metadata": {},
   "source": [
    "**Question (q5).** Simulate a population of $N=50,000$ over $T=200$ days with $n_0=200$. Plot the percentage of the population that been infected, and that has recovered, with day number on the _x_-axis. Also plot the number of currently infected people, and the number of new infections on each day. \n",
    "\n",
    "_You don't have to submit your plot to the autograder, but you must include it in your submitted notebook. Your plot should look something like this. In your plot, you should pay attention to (1) making sure the plots share the same x-axis, (2) colouring the lines and showing a legend. Don't worry about fine-grained control of the plot, such as legend placement or plot size or colour scheme._\n",
    "\n",
    "<img src=\"res/tick1_4vars.svg\" style=\"width:30em\"/>"
   ]
  },
  {
   "cell_type": "code",
   "execution_count": 27,
   "metadata": {},
   "outputs": [
    {
     "data": {
      "image/png": "[encoded data removed]",
      "text/plain": [
       "<Figure size 504x432 with 2 Axes>"
      ]
     },
     "metadata": {
      "needs_background": "light"
     },
     "output_type": "display_data"
    }
   ],
   "source": [
    "x = sim(N=50000, T=200, n0=200)\n",
    "day_num = np.arange(0,200)\n",
    "total_infected_percent = (x[:, 2]/50000) * 100\n",
    "total_recovered_percent = (x[:, 3]/50000) * 100\n",
    "total_infected = x[:, 2] - x[:, 3]\n",
    "daily_infected = x[:, 0]\n",
    "\n",
    "data = pandas.DataFrame({\n",
    "'day'          : day_num,\n",
    "'been_infected': total_infected_percent,\n",
    "'recovered'    : total_recovered_percent,\n",
    "'infected'     : total_infected,\n",
    "'new_infected' : daily_infected\n",
    "},\n",
    "columns = ['day', 'been_infected', 'recovered', 'infected', 'new_infected'])\n",
    "\n",
    "\n",
    "fig, (ax1, ax2) = plt.subplots(nrows=2, ncols=1, sharex=True, figsize=(7, 6))\n",
    "ax1.plot(data.day, data.been_infected, label='been infected', color='orange')\n",
    "ax1.plot(data.day, data.recovered, label='recovered', color='blue')\n",
    "ax1.legend()\n",
    "ax1.set_ylabel('% of popn')\n",
    "ax2.plot(data.day, data.infected, label='infected', color='blue')\n",
    "ax2.plot(data.day, data.new_infected, label='new infected', color='orange')\n",
    "ax2.legend()\n",
    "ax2.set_ylabel('num. people')\n",
    "plt.xlabel('day')\n",
    "plt.show()"
   ]
  },
  {
   "cell_type": "markdown",
   "metadata": {},
   "source": [
    "## Questions 1b - worth 1 mark\n",
    "```python\n",
    "GRADER = ucamcl.autograder('https://markmy.solutions', course='scicomp').subsection('tick1b')\n",
    "```"
   ]
  },
  {
   "cell_type": "code",
   "execution_count": 28,
   "metadata": {},
   "outputs": [
    {
     "name": "stdout",
     "output_type": "stream",
     "text": [
      "Waiting for you to log in ...........  still waiting.\n"
     ]
    }
   ],
   "source": [
    "GRADER = ucamcl.autograder('https://markmy.solutions', course='scicomp').subsection('tick1b')"
   ]
  },
  {
   "cell_type": "markdown",
   "metadata": {},
   "source": [
    "**Question (q6).** A simple way to estimate the _R_ number is `R=days*N/D` where `N` is the total number of new infections, where `D` is total number of infected-person-days, i.e. what you get by summing over days the number of infected people at the start of each day, and \n",
    "where\n",
    "`days=1/prob_recover` is the average number of days a person is infected.\n",
    "Write a function \n",
    "```python\n",
    "r(X, t0, t1, days)\n",
    "```\n",
    "to compute the _R_ number, where `X` is the matrix produced by your simulator, and `N` and `D` are computed over days `t0,t0+1,...,t1-1`.\n",
    "\n",
    "```\n",
    "q = GRADER.fetch_question('q6')\n",
    "ans = r(np.array(q.X), t0=q.t0, t1=q.t1, days=q.days)\n",
    "GRADER1b.submit_answer(q, ans)\n",
    "```"
   ]
  },
  {
   "cell_type": "code",
   "execution_count": null,
   "metadata": {},
   "outputs": [],
   "source": [
    "def r(X, t0, t1, days):\n",
    "    \n",
    "    XN = X[t0:t1]\n",
    "    N = np.sum(XN[:, 0])\n",
    "    \n",
    "    XD = X[t0-1:t1-1]\n",
    "    D = np.sum(XD[:, 2])\n",
    "    \n",
    "    R = days*N/D\n",
    "    return R"
   ]
  },
  {
   "cell_type": "code",
   "execution_count": null,
   "metadata": {},
   "outputs": [],
   "source": [
    "q = GRADER.fetch_question('q6')\n",
    "ans = r(np.array(q.X), t0=q.t0, t1=q.t1, days=q.days)"
   ]
  },
  {
   "cell_type": "code",
   "execution_count": null,
   "metadata": {},
   "outputs": [],
   "source": [
    "GRADER.submit_answer(q, ans)"
   ]
  },
  {
   "cell_type": "markdown",
   "metadata": {},
   "source": [
    "**Question (q7).** We wish to model household bubbles separately from public loci. We'll treat household bubbles as just another set of loci, but let each person go to the same household-bubble locus every day.\n",
    "Bubble sizes can be generated \n",
    "using the [distribution of household size in the UK](https://www.statista.com/statistics/281627/households-in-the-united-kingdom-uk-by-size/):\n",
    "```python\n",
    "def bubble_sizes(N, num_households):\n",
    "    return np.random.choice([1,2,3,4,5,6], p=[.29,.35,.15,.14,.05,.02], size=(num_households,N)).sum(0)\n",
    "```\n",
    "Modify your simulator so that the $n_0$ initially infected people are the first in the list (to reflect the fact that infections are likely to be clustered in households), and thereafter, on each day,\n",
    "\n",
    "1. people go to random public loci as before, and may become infected (infection probability `prob_infect`)\n",
    "2. people go to their home bubbles and may become infected (infection probability `prob_infect_home`)\n",
    "3. some people may recover, as before\n",
    "\n",
    "```\n",
    "q = GRADER1b.fetch_question('q7')\n",
    "x = sim2(N=q.N, T=q.T, n0=q.n0, ...) # fill in the rest from q\n",
    "ans = x[-1,3] / q.N\n",
    "GRADER1b.submit_answer(q, ans)\n",
    "```"
   ]
  },
  {
   "cell_type": "code",
   "execution_count": null,
   "metadata": {},
   "outputs": [],
   "source": [
    "def bubbles(N, num_households):\n",
    "    return np.random.choice([1,2,3,4,5,6], p=[.29,.35,.15,.14,.05,.02], size=(num_households,N)).sum(0)"
   ]
  },
  {
   "cell_type": "code",
   "execution_count": null,
   "metadata": {},
   "outputs": [],
   "source": [
    "def sim_infections2(infected, exposed, prob_infect):\n",
    "    infected[infected == 2] = 1\n",
    "    original_infected = np.copy(infected)\n",
    "    original_total = np.sum((original_infected > 0).astype(int))\n",
    "    probs = np.random.rand(*infected.shape)\n",
    "    probs = (probs < prob_infect).astype(int)\n",
    "    infected[(probs==1) & (exposed > 0) & (infected == 0)] = 2\n",
    "    total = np.sum((infected > 0).astype(int))\n",
    "    total_infected = (total - original_total)\n",
    "    return (total_infected)\n",
    "    \n",
    "def sim_recoveries2(infected, prob_recover):\n",
    "    original_infected = np.copy(infected)\n",
    "    original_total = np.sum((original_infected > 0).astype(int))\n",
    "    probs = np.random.rand(*infected.shape)\n",
    "    probs = (probs < prob_recover).astype(int)\n",
    "    infected[(probs==1) & (infected == 1)] = -1\n",
    "    total = np.sum((infected > 0).astype(int))\n",
    "    total_recovered = (original_total - total)\n",
    "    return (total_recovered)"
   ]
  },
  {
   "cell_type": "code",
   "execution_count": null,
   "metadata": {},
   "outputs": [],
   "source": [
    "def sim2(N, T, n0, avg_loc_size, prob_infect_outside, prob_recover, prob_infect_home, num_households):\n",
    "    bubble_sizes = trunc_sizes(bubbles(N, num_households))\n",
    "    loc_sizes = trunc_sizes(random_sizes(N, avg_loc_size))\n",
    "    \n",
    "    infected = np.zeros(N, dtype=int)\n",
    "    infected[:n0] = 1\n",
    "        \n",
    "    A = np.zeros((T, 4), dtype=int)\n",
    "    \n",
    "    for x in range (0, T):\n",
    "        rand =  np.random.permutation(np.arange(0,N))\n",
    "        infected = infected[rand]\n",
    "        exposed = exposure(infected, loc_sizes)\n",
    "        infected_today_outside = sim_infections2(infected, exposed, prob_infect_outside)\n",
    "        exposed = exposure(infected, loc_sizes)\n",
    "\n",
    "        infected[rand] = np.copy(infected)\n",
    "        exposed = exposure(infected, bubble_sizes)\n",
    "        infected_today_home = sim_infections2(infected, exposed, prob_infect_home)\n",
    "        exposed = exposure(infected, bubble_sizes)\n",
    "        \n",
    "        infected_today = infected_today_outside + infected_today_home\n",
    "        \n",
    "        recovered_today = sim_recoveries2(infected, prob_recover)\n",
    "        exposed = exposure(infected, bubble_sizes)\n",
    "        \n",
    "        total_infections = np.sum((infected != 0).astype(int))\n",
    "        \n",
    "        total_recoveries = np.sum((infected == -1).astype(int))\n",
    "        \n",
    "        a = [infected_today, recovered_today, total_infections, total_recoveries]\n",
    "        A[x] = a\n",
    "        \n",
    "        exposed = exposure(infected, loc_sizes)\n",
    "        \n",
    "    return A"
   ]
  },
  {
   "cell_type": "code",
   "execution_count": null,
   "metadata": {},
   "outputs": [],
   "source": [
    "q = GRADER.fetch_question('q7')\n",
    "x = sim2(N=q.N, T=q.T, n0=q.n0, avg_loc_size=q.avg_loc_size,\n",
    "         prob_infect_outside=q.prob_infect, prob_recover=q.prob_recover, prob_infect_home=q.prob_infect_home,\n",
    "         num_households=q.num_households)\n",
    "ans = x[-1,3] / q.N"
   ]
  },
  {
   "cell_type": "code",
   "execution_count": null,
   "metadata": {},
   "outputs": [],
   "source": [
    "GRADER.submit_answer(q, ans)"
   ]
  },
  {
   "cell_type": "markdown",
   "metadata": {},
   "source": [
    "**Question (q8).** Simulate a population of $N=100,000$ over $T=200$ days with parameters $n_0=2000$, `prob_infect_home=.2`, `prob_infect=.01`, `avg_loc_size=2.1`, and `prob_recover=1/10`, for bubble sizes 1,2,3,4. Run five different simulations for each bubble size. Plot the percentage of the population that has been infected, and the number of currently infected people, on each day. \n",
    "\n",
    "_You don't have to submit your plot to the autograder, but you must include it in your submitted notebook. Your plot should look something like this. In your plot, you should pay attention to (1) making sure the plots share the same x-axis, (2) colouring the lines and showing a legend. Don't worry about fine-grained control of the plot, such as legend placement or plot size or colour scheme._\n",
    "\n",
    "<img src=\"res/tick1_bubble.svg\" style=\"width:30em\"/>"
   ]
  },
  {
   "cell_type": "code",
   "execution_count": null,
   "metadata": {},
   "outputs": [],
   "source": [
    "%%time\n",
    "import math\n",
    "\n",
    "day_num = np.arange(0,200)\n",
    "data = pandas.DataFrame({'day' : day_num}, columns=['day'])\n",
    "\n",
    "fig, (ax1, ax2) = plt.subplots(nrows=2, ncols=1, sharex=True, figsize=(7,7))\n",
    "\n",
    "colours = ['red', 'purple', 'brown', 'grey']\n",
    "\n",
    "for m in range(1, 5):\n",
    "    for n in range(0, 5):\n",
    "        x = sim2(N=100000, T=200, n0=2000, prob_infect_home=.2, prob_infect_outside=.01, avg_loc_size=2.1, prob_recover=1/10,\n",
    "                 num_households=m)\n",
    "        total_infected_percent = (x[:, 2]/100000) * 100\n",
    "        total_infected = x[:, 2] - x[:, 3]\n",
    "        data['been_infected_'+str(m)+'_'+str(n)] = total_infected_percent\n",
    "        data['infected_'+str(m)+'_'+str(n)] = total_infected\n",
    "        label1 = \"data.been_infected_\" + str(m) + '_' + str(n)\n",
    "        label2 = \"data.infected_\" + str(m) + '_' + str(n)\n",
    "        ax1.plot(data.day, eval(label1), label= str(m) + ' hshlds', color=colours[m-1])\n",
    "        ax2.plot(data.day, eval(label2), label= str(m) + ' hshlds', color=colours[m-1])\n",
    "\n",
    "        \n",
    "ax1.set_ylabel('% of popn been infected')\n",
    "ax2.set_ylabel('num. people infected')\n",
    "plt.xlabel('day')\n",
    "handles, labels = ax2.get_legend_handles_labels()\n",
    "handles = np.array(handles)\n",
    "labels = np.array(labels)\n",
    "h = handles[[0, 5, 10, 15]]\n",
    "l = labels[[0, 5, 10, 15]]\n",
    "fig.legend(h, l, loc='lower center', mode = \"expand\", ncol = 4)\n",
    "plt.show()"
   ]
  },
  {
   "cell_type": "markdown",
   "metadata": {},
   "source": [
    "**Question (q9).** Run your simulator for bubble sizes 1, 2, 3, 4, and compute the _R_ number as measured over timespan `t0=10` to `t1=25` to capture the initial wave.\n",
    "\n",
    "```\n",
    "ans = ... # array of four numbers, the R number of bubble sizes [1,2,3,4]\n",
    "GRADER1b.submit_answer(GRADER1b.fetch_question('q9'), ans)\n",
    "```"
   ]
  },
  {
   "cell_type": "code",
   "execution_count": null,
   "metadata": {},
   "outputs": [],
   "source": [
    "def r2(X, t0, t1, days):\n",
    "    \n",
    "    XN = X[t0:t1]\n",
    "    N = np.sum(XN[:, 0])\n",
    "    \n",
    "    XD = X[t0-1:t1-1]\n",
    "    D = np.sum(XD[:, 2] - XD[:, 3])\n",
    "    \n",
    "    R = days*N/D\n",
    "    return R"
   ]
  },
  {
   "cell_type": "code",
   "execution_count": null,
   "metadata": {},
   "outputs": [],
   "source": [
    "ans = []\n",
    "\n",
    "for b in range(1, 5):\n",
    "    x = sim2(N=100000, T=200, n0=2000, prob_infect_home=.2, prob_infect_outside=.01, avg_loc_size=2.1, prob_recover=1/10, \n",
    "             num_households=b)\n",
    "    R = r2(x, 10, 25, 10)\n",
    "    ans.append(R)\n",
    "\n",
    "print(ans)\n",
    "\n",
    "GRADER.submit_answer(GRADER.fetch_question('q9'), ans)"
   ]
  },
  {
   "cell_type": "markdown",
   "metadata": {},
   "source": [
    "## Investigation - not assessed\n",
    "\n",
    "For 1a: Try different values for average locus size, and plot the _R_ number as a function of average locus size. Try different distributions of locus size, and again plot _R_ as a function of average locus size. Can you suggest an approximate formula for how _R_ depends on average locus size? How about how _R_ depends on average locus size and on `prob_infect`?\n",
    "\n",
    "For 1b: Can you suggest an approximate formula for how _R_ depends on average number of people in a bubble, and on `prob_infect_home`?"
   ]
  }
 ],
 "metadata": {
  "kernelspec": {
   "display_name": "Python 3",
   "language": "python",
   "name": "python3"
  },
  "language_info": {
   "codemirror_mode": {
    "name": "ipython",
    "version": 3
   },
   "file_extension": ".py",
   "mimetype": "text/x-python",
   "name": "python",
   "nbconvert_exporter": "python",
   "pygments_lexer": "ipython3",
   "version": "3.8.5"
  }
 },
 "nbformat": 4,
 "nbformat_minor": 4
}
